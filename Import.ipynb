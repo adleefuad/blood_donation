{
 "cells": [
  {
   "cell_type": "code",
   "execution_count": 1,
   "metadata": {},
   "outputs": [],
   "source": [
    "import git\n",
    "import os\n",
    "import requests\n",
    "import shutil\n",
    "import stat\n",
    "\n",
    "import pandas as pd \n",
    "import numpy as np \n",
    "import pyarrow.parquet as pq"
   ]
  },
  {
   "cell_type": "code",
   "execution_count": 2,
   "metadata": {},
   "outputs": [],
   "source": [
    "working_dir = os.getcwd()"
   ]
  },
  {
   "cell_type": "code",
   "execution_count": 3,
   "metadata": {},
   "outputs": [],
   "source": [
    "#Download the Aggregate Data\n",
    "def on_rm_error(func, path, exc_info):\n",
    "    \"\"\"\n",
    "    Error handler for shutil.rmtree.\n",
    "\n",
    "    If the error is due to an access issue, it attempts to fix the permissions and retries.\n",
    "    Otherwise, it re-raises the error.\n",
    "    \"\"\"\n",
    "    if not os.access(path, os.W_OK):\n",
    "        # Attempt to fix the permissions and retry\n",
    "        os.chmod(path, stat.S_IWUSR)\n",
    "        func(path)\n",
    "    else:\n",
    "        raise\n",
    "\n",
    "\n",
    "\n",
    "\n",
    "repo_url = 'https://github.com/MoH-Malaysia/data-darah-public.git'\n",
    "folder_name = 'data_aggregate'\n",
    "clone_dir = os.path.join(working_dir,folder_name)\n",
    "if os.path.exists(clone_dir):\n",
    "    shutil.rmtree(clone_dir, onerror=on_rm_error)\n",
    "\n",
    "repo = git.Repo.clone_from(repo_url, clone_dir)"
   ]
  },
  {
   "cell_type": "code",
   "execution_count": 4,
   "metadata": {},
   "outputs": [
    {
     "name": "stdout",
     "output_type": "stream",
     "text": [
      "File downloaded successfully and saved as c:\\Users\\DataMicron\\Documents\\Work\\Thevesh\\blood_donation\\data_granular\\gran_data.parquet\n"
     ]
    }
   ],
   "source": [
    "# URL of the file to download\n",
    "gran_url = 'https://dub.sh/ds-data-granular'\n",
    "\n",
    "# The directory where you want to save the downloaded file\n",
    "download_folder = os.path.join(working_dir, 'data_granular')\n",
    "\n",
    "# The filename you want to save the file as\n",
    "filename = 'gran_data.parquet'\n",
    "file_path = os.path.join(download_folder, filename)\n",
    "\n",
    "# Create the directory if it does not exist\n",
    "if not os.path.exists(download_folder):\n",
    "    os.makedirs(download_folder)\n",
    "\n",
    "# Perform the GET request\n",
    "response = requests.get(gran_url)\n",
    "\n",
    "# Check if the request was successful\n",
    "if response.status_code == 200:\n",
    "    # Write the file contents to the file\n",
    "    with open(file_path, 'wb') as file:\n",
    "        file.write(response.content)\n",
    "    print(f\"File downloaded successfully and saved as {file_path}\")\n",
    "else:\n",
    "    print(f\"Failed to retrieve data. HTTP Status Code: {response.status_code}\")\n"
   ]
  },
  {
   "cell_type": "code",
   "execution_count": null,
   "metadata": {},
   "outputs": [],
   "source": []
  }
 ],
 "metadata": {
  "kernelspec": {
   "display_name": "blood_donate",
   "language": "python",
   "name": "python3"
  },
  "language_info": {
   "codemirror_mode": {
    "name": "ipython",
    "version": 3
   },
   "file_extension": ".py",
   "mimetype": "text/x-python",
   "name": "python",
   "nbconvert_exporter": "python",
   "pygments_lexer": "ipython3",
   "version": "3.11.7"
  }
 },
 "nbformat": 4,
 "nbformat_minor": 2
}
