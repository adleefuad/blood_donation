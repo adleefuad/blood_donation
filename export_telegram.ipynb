{
 "cells": [
  {
   "cell_type": "code",
   "execution_count": 1,
   "metadata": {},
   "outputs": [],
   "source": [
    "from telegram import Bot\n",
    "from telegram.ext import Updater, CommandHandler\n",
    "import requests"
   ]
  },
  {
   "cell_type": "code",
   "execution_count": 3,
   "metadata": {},
   "outputs": [
    {
     "name": "stdout",
     "output_type": "stream",
     "text": [
      "{'ok': True, 'result': {'message_id': 9, 'from': {'id': 6964445591, 'is_bot': True, 'first_name': 'Malaysia Blood Donation Statistics (Project)', 'username': 'blood_donate_adli_bot'}, 'chat': {'id': -1001960939182, 'title': 'Blood Donation Assesment', 'type': 'supergroup'}, 'date': 1706379011, 'text': 'Hello, Testing'}}\n",
      "{'ok': True, 'result': {'message_id': 10, 'from': {'id': 6964445591, 'is_bot': True, 'first_name': 'Malaysia Blood Donation Statistics (Project)', 'username': 'blood_donate_adli_bot'}, 'chat': {'id': -1001960939182, 'title': 'Blood Donation Assesment', 'type': 'supergroup'}, 'date': 1706379021, 'photo': [{'file_id': 'AgACAgUAAx0EdOGOrgADCmW1Rw2kvIjPLzN7odhVI9K6fW_NAAI6ujEbINeoVX3vG9a6J4boAQADAgADcwADNAQ', 'file_unique_id': 'AQADOroxGyDXqFV4', 'file_size': 713, 'width': 90, 'height': 46}, {'file_id': 'AgACAgUAAx0EdOGOrgADCmW1Rw2kvIjPLzN7odhVI9K6fW_NAAI6ujEbINeoVX3vG9a6J4boAQADAgADbQADNAQ', 'file_unique_id': 'AQADOroxGyDXqFVy', 'file_size': 5490, 'width': 320, 'height': 165}, {'file_id': 'AgACAgUAAx0EdOGOrgADCmW1Rw2kvIjPLzN7odhVI9K6fW_NAAI6ujEbINeoVX3vG9a6J4boAQADAgADeAADNAQ', 'file_unique_id': 'AQADOroxGyDXqFV9', 'file_size': 17820, 'width': 800, 'height': 413}, {'file_id': 'AgACAgUAAx0EdOGOrgADCmW1Rw2kvIjPLzN7odhVI9K6fW_NAAI6ujEbINeoVX3vG9a6J4boAQADAgADeQADNAQ', 'file_unique_id': 'AQADOroxGyDXqFV-', 'file_size': 35048, 'width': 1280, 'height': 661}, {'file_id': 'AgACAgUAAx0EdOGOrgADCmW1Rw2kvIjPLzN7odhVI9K6fW_NAAI6ujEbINeoVX3vG9a6J4boAQADAgADdwADNAQ', 'file_unique_id': 'AQADOroxGyDXqFV8', 'file_size': 80133, 'width': 2426, 'height': 1252}]}}\n"
     ]
    }
   ],
   "source": [
    "def send_telegram_message(chat_id, text, bot_token):\n",
    "    url = f'https://api.telegram.org/bot{bot_token}/sendMessage'\n",
    "    payload = {\n",
    "        'chat_id': chat_id,\n",
    "        'text': text\n",
    "    }\n",
    "    response = requests.post(url, json=payload)\n",
    "    return response.json()\n",
    "\n",
    "def send_telegram_image(chat_id, img_path, bot_token):\n",
    "    url = f'https://api.telegram.org/bot{bot_token}/sendPhoto'\n",
    "    payload = {\n",
    "        'chat_id': chat_id\n",
    "    }\n",
    "    files = {\n",
    "        'photo': open(img_path, 'rb')\n",
    "    }\n",
    "    response = requests.post(url, data=payload, files=files)\n",
    "    return response.json()\n",
    "\n",
    "# Replace with your actual bot token and chat ID\n",
    "chat_id = '-1001960939182' # replace with your chat id\n",
    "bot_token = '6964445591:AAFpaTAXla272kpYihBCeRypa8u4NFnUDJ0'\n",
    "message = 'Hello, Testing'\n",
    "image_path = r'./Output Image/choropleth.png'\n",
    "\n",
    "# Send a message\n",
    "result_message = send_telegram_message(chat_id, message, bot_token)\n",
    "print(result_message)\n",
    "\n",
    "# Send an image\n",
    "result_image = send_telegram_image(chat_id, image_path, bot_token)\n",
    "print(result_image)"
   ]
  }
 ],
 "metadata": {
  "kernelspec": {
   "display_name": "blood_donate",
   "language": "python",
   "name": "python3"
  },
  "language_info": {
   "codemirror_mode": {
    "name": "ipython",
    "version": 3
   },
   "file_extension": ".py",
   "mimetype": "text/x-python",
   "name": "python",
   "nbconvert_exporter": "python",
   "pygments_lexer": "ipython3",
   "version": "3.11.7"
  }
 },
 "nbformat": 4,
 "nbformat_minor": 2
}
