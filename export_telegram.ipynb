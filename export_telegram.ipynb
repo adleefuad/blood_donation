{
 "cells": [
  {
   "cell_type": "code",
   "execution_count": 6,
   "metadata": {},
   "outputs": [],
   "source": [
    "from telegram import Bot\n",
    "from telegram.ext import Updater, CommandHandler\n",
    "import requests"
   ]
  },
  {
   "cell_type": "code",
   "execution_count": 32,
   "metadata": {},
   "outputs": [],
   "source": [
    "Telebot_token = '6964445591:AAFpaTAXla272kpYihBCeRypa8u4NFnUDJ0'\n"
   ]
  },
  {
   "cell_type": "code",
   "execution_count": null,
   "metadata": {},
   "outputs": [],
   "source": [
    "#getting the group chat id\n",
    "getupdates = f'https://api.telegram.org/bot{Telebot_token}/getUpdates'\n",
    "\n",
    "response = requests.get(getupdates)\n",
    "response.json()"
   ]
  },
  {
   "cell_type": "code",
   "execution_count": 36,
   "metadata": {},
   "outputs": [
    {
     "name": "stdout",
     "output_type": "stream",
     "text": [
      "{'ok': True, 'result': {'message_id': 6, 'from': {'id': 6964445591, 'is_bot': True, 'first_name': 'Malaysia Blood Donation Statistics (Project)', 'username': 'blood_donate_adli_bot'}, 'chat': {'id': -1001960939182, 'title': 'Blood Donation Assesment', 'type': 'supergroup'}, 'date': 1705999934, 'text': 'Hello, this is my message!'}}\n"
     ]
    }
   ],
   "source": [
    "def send_telegram_message(chat_id, text, bot_token):\n",
    "    url = f'https://api.telegram.org/bot{bot_token}/sendMessage'\n",
    "    payload = {\n",
    "        'chat_id': chat_id,\n",
    "        'text': text\n",
    "    }\n",
    "    response = requests.post(url, json=payload)\n",
    "    return response.json()\n",
    "\n",
    "# Replace with your actual bot token and chat ID\n",
    "chat_id = '-1001960939182'\n",
    "message = 'Hello, this is my message!'\n",
    "\n",
    "result = send_telegram_message(chat_id, message, Telebot_token)\n",
    "print(result)\n"
   ]
  },
  {
   "cell_type": "code",
   "execution_count": 37,
   "metadata": {},
   "outputs": [
    {
     "data": {
      "text/plain": [
       "{'ok': True,\n",
       " 'result': {'message_id': 6,\n",
       "  'from': {'id': 6964445591,\n",
       "   'is_bot': True,\n",
       "   'first_name': 'Malaysia Blood Donation Statistics (Project)',\n",
       "   'username': 'blood_donate_adli_bot'},\n",
       "  'chat': {'id': -1001960939182,\n",
       "   'title': 'Blood Donation Assesment',\n",
       "   'type': 'supergroup'},\n",
       "  'date': 1705999934,\n",
       "  'text': 'Hello, this is my message!'}}"
      ]
     },
     "execution_count": 37,
     "metadata": {},
     "output_type": "execute_result"
    }
   ],
   "source": [
    "result"
   ]
  }
 ],
 "metadata": {
  "kernelspec": {
   "display_name": "blood_donate",
   "language": "python",
   "name": "python3"
  },
  "language_info": {
   "codemirror_mode": {
    "name": "ipython",
    "version": 3
   },
   "file_extension": ".py",
   "mimetype": "text/x-python",
   "name": "python",
   "nbconvert_exporter": "python",
   "pygments_lexer": "ipython3",
   "version": "3.11.7"
  }
 },
 "nbformat": 4,
 "nbformat_minor": 2
}
