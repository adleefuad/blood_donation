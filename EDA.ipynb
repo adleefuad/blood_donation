{
 "cells": [
  {
   "cell_type": "markdown",
   "metadata": {},
   "source": [
    "<h1>Assesment Question:</h1>\n",
    "<p>1- How are blood donations in Malaysia / states trending?</p>\n",
    "<p>2- How well is Malaysia retaining blood donors? (meaning, are people with a history of blood donation coming back to donate regularly)</p>\n",
    "\n",
    "And after creating data visualisation for answering this questions, we will need to use Telegram bot API to post a message in a group daily\n",
    "\n",
    "Question in mind:\n",
    "1. What visualisation that are useful for daily updates? Or is it sufficient enough to use only visualisation\n",
    "2. What time they update the data, to find the optimal time to post the data to the Telgram group (Weekend & Public Holiday has no new update)\n",
    "3. What is Blood Expiry. https://www.utoledo.edu/policies/utmc/bloodbank/pdfs/3364-108-202.pdf 21-49 days"
   ]
  },
  {
   "cell_type": "code",
   "execution_count": 293,
   "metadata": {},
   "outputs": [],
   "source": [
    "from git import Repo\n",
    "import os\n",
    "import requests\n",
    "\n",
    "import pandas as pd \n",
    "import numpy as np \n",
    "import pyarrow.parquet as pq\n",
    "\n",
    "import matplotlib.ticker as ticker\n",
    "import matplotlib.colors as mcolors\n",
    "import matplotlib.pyplot as plt \n",
    "import plotly.graph_objects as go\n",
    "import seaborn as sns\n",
    "\n",
    "import geopandas as gpd\n",
    "from mpl_toolkits.axes_grid1.inset_locator import inset_axes"
   ]
  },
  {
   "cell_type": "markdown",
   "metadata": {},
   "source": [
    "<h1>Question 1</h1>\n",
    "<p>Planning:</p>\n",
    "<p>1. Choropleth on Donation Distribtion for every State</p>\n",
    "<p>2. Sankey Diagram 3 Level (State->Hospital->Type of Blood)</p>\n",
    "<p>3. Time-Series Plot of Average Daily per month for each blood type</p>\n",
    "<p>4. Chart that shows trend on Age</p>"
   ]
  },
  {
   "cell_type": "markdown",
   "metadata": {},
   "source": [
    "Mainly I Will use data from donations_facility.csv . Since Data of Newdonors are in Age, we can create extra visualisation to show age trend"
   ]
  },
  {
   "cell_type": "code",
   "execution_count": 294,
   "metadata": {},
   "outputs": [
    {
     "data": {
      "text/html": [
       "<div>\n",
       "<style scoped>\n",
       "    .dataframe tbody tr th:only-of-type {\n",
       "        vertical-align: middle;\n",
       "    }\n",
       "\n",
       "    .dataframe tbody tr th {\n",
       "        vertical-align: top;\n",
       "    }\n",
       "\n",
       "    .dataframe thead th {\n",
       "        text-align: right;\n",
       "    }\n",
       "</style>\n",
       "<table border=\"1\" class=\"dataframe\">\n",
       "  <thead>\n",
       "    <tr style=\"text-align: right;\">\n",
       "      <th></th>\n",
       "      <th>date</th>\n",
       "      <th>hospital</th>\n",
       "      <th>daily</th>\n",
       "      <th>blood_a</th>\n",
       "      <th>blood_b</th>\n",
       "      <th>blood_o</th>\n",
       "      <th>blood_ab</th>\n",
       "      <th>location_centre</th>\n",
       "      <th>location_mobile</th>\n",
       "      <th>type_wholeblood</th>\n",
       "      <th>type_apheresis_platelet</th>\n",
       "      <th>type_apheresis_plasma</th>\n",
       "      <th>type_other</th>\n",
       "      <th>social_civilian</th>\n",
       "      <th>social_student</th>\n",
       "      <th>social_policearmy</th>\n",
       "      <th>donations_new</th>\n",
       "      <th>donations_regular</th>\n",
       "      <th>donations_irregular</th>\n",
       "    </tr>\n",
       "  </thead>\n",
       "  <tbody>\n",
       "    <tr>\n",
       "      <th>0</th>\n",
       "      <td>2006-01-01</td>\n",
       "      <td>Hospital Sultanah Nora Ismail</td>\n",
       "      <td>87</td>\n",
       "      <td>19</td>\n",
       "      <td>20</td>\n",
       "      <td>45</td>\n",
       "      <td>3</td>\n",
       "      <td>87</td>\n",
       "      <td>0</td>\n",
       "      <td>87</td>\n",
       "      <td>0</td>\n",
       "      <td>0</td>\n",
       "      <td>0</td>\n",
       "      <td>86</td>\n",
       "      <td>1</td>\n",
       "      <td>0</td>\n",
       "      <td>36</td>\n",
       "      <td>49</td>\n",
       "      <td>2</td>\n",
       "    </tr>\n",
       "    <tr>\n",
       "      <th>1</th>\n",
       "      <td>2006-01-01</td>\n",
       "      <td>Hospital Sultanah Aminah</td>\n",
       "      <td>0</td>\n",
       "      <td>0</td>\n",
       "      <td>0</td>\n",
       "      <td>0</td>\n",
       "      <td>0</td>\n",
       "      <td>0</td>\n",
       "      <td>0</td>\n",
       "      <td>0</td>\n",
       "      <td>0</td>\n",
       "      <td>0</td>\n",
       "      <td>0</td>\n",
       "      <td>0</td>\n",
       "      <td>0</td>\n",
       "      <td>0</td>\n",
       "      <td>0</td>\n",
       "      <td>0</td>\n",
       "      <td>0</td>\n",
       "    </tr>\n",
       "    <tr>\n",
       "      <th>2</th>\n",
       "      <td>2006-01-01</td>\n",
       "      <td>Hospital Sultanah Bahiyah</td>\n",
       "      <td>208</td>\n",
       "      <td>67</td>\n",
       "      <td>62</td>\n",
       "      <td>61</td>\n",
       "      <td>18</td>\n",
       "      <td>208</td>\n",
       "      <td>0</td>\n",
       "      <td>208</td>\n",
       "      <td>0</td>\n",
       "      <td>0</td>\n",
       "      <td>0</td>\n",
       "      <td>197</td>\n",
       "      <td>8</td>\n",
       "      <td>3</td>\n",
       "      <td>1</td>\n",
       "      <td>207</td>\n",
       "      <td>0</td>\n",
       "    </tr>\n",
       "    <tr>\n",
       "      <th>3</th>\n",
       "      <td>2006-01-01</td>\n",
       "      <td>Hospital Raja Perempuan Zainab II</td>\n",
       "      <td>0</td>\n",
       "      <td>0</td>\n",
       "      <td>0</td>\n",
       "      <td>0</td>\n",
       "      <td>0</td>\n",
       "      <td>0</td>\n",
       "      <td>0</td>\n",
       "      <td>0</td>\n",
       "      <td>0</td>\n",
       "      <td>0</td>\n",
       "      <td>0</td>\n",
       "      <td>0</td>\n",
       "      <td>0</td>\n",
       "      <td>0</td>\n",
       "      <td>0</td>\n",
       "      <td>0</td>\n",
       "      <td>0</td>\n",
       "    </tr>\n",
       "    <tr>\n",
       "      <th>4</th>\n",
       "      <td>2006-01-01</td>\n",
       "      <td>Hospital Melaka</td>\n",
       "      <td>1</td>\n",
       "      <td>0</td>\n",
       "      <td>0</td>\n",
       "      <td>1</td>\n",
       "      <td>0</td>\n",
       "      <td>1</td>\n",
       "      <td>0</td>\n",
       "      <td>1</td>\n",
       "      <td>0</td>\n",
       "      <td>0</td>\n",
       "      <td>0</td>\n",
       "      <td>1</td>\n",
       "      <td>0</td>\n",
       "      <td>0</td>\n",
       "      <td>0</td>\n",
       "      <td>1</td>\n",
       "      <td>0</td>\n",
       "    </tr>\n",
       "  </tbody>\n",
       "</table>\n",
       "</div>"
      ],
      "text/plain": [
       "         date                           hospital  daily  blood_a  blood_b  \\\n",
       "0  2006-01-01      Hospital Sultanah Nora Ismail     87       19       20   \n",
       "1  2006-01-01           Hospital Sultanah Aminah      0        0        0   \n",
       "2  2006-01-01          Hospital Sultanah Bahiyah    208       67       62   \n",
       "3  2006-01-01  Hospital Raja Perempuan Zainab II      0        0        0   \n",
       "4  2006-01-01                    Hospital Melaka      1        0        0   \n",
       "\n",
       "   blood_o  blood_ab  location_centre  location_mobile  type_wholeblood  \\\n",
       "0       45         3               87                0               87   \n",
       "1        0         0                0                0                0   \n",
       "2       61        18              208                0              208   \n",
       "3        0         0                0                0                0   \n",
       "4        1         0                1                0                1   \n",
       "\n",
       "   type_apheresis_platelet  type_apheresis_plasma  type_other  \\\n",
       "0                        0                      0           0   \n",
       "1                        0                      0           0   \n",
       "2                        0                      0           0   \n",
       "3                        0                      0           0   \n",
       "4                        0                      0           0   \n",
       "\n",
       "   social_civilian  social_student  social_policearmy  donations_new  \\\n",
       "0               86               1                  0             36   \n",
       "1                0               0                  0              0   \n",
       "2              197               8                  3              1   \n",
       "3                0               0                  0              0   \n",
       "4                1               0                  0              0   \n",
       "\n",
       "   donations_regular  donations_irregular  \n",
       "0                 49                    2  \n",
       "1                  0                    0  \n",
       "2                207                    0  \n",
       "3                  0                    0  \n",
       "4                  1                    0  "
      ]
     },
     "execution_count": 294,
     "metadata": {},
     "output_type": "execute_result"
    }
   ],
   "source": [
    "facility_df = pd.read_csv('.\\data_aggregate\\donations_facility.csv')\n",
    "facility_df.head(5)"
   ]
  },
  {
   "cell_type": "markdown",
   "metadata": {},
   "source": [
    "Questions To asked about the data:\n",
    "1. Data on Hospital in Perlis are absent. Do they dont have the resource to collect data or they dont have blood donation center?\n",
    "2. For the column 'donations_new' , 'donations_regular' , 'donations_irregular'. How do they label if the donor is regular or irregular? (this is crucial information to do analysis more on granular data) "
   ]
  },
  {
   "cell_type": "code",
   "execution_count": 295,
   "metadata": {},
   "outputs": [
    {
     "data": {
      "text/plain": [
       "['Hospital Sultanah Nora Ismail',\n",
       " 'Hospital Sultanah Aminah',\n",
       " 'Hospital Sultanah Bahiyah',\n",
       " 'Hospital Raja Perempuan Zainab II',\n",
       " 'Hospital Melaka',\n",
       " 'Hospital Tuanku Jaafar',\n",
       " 'Hospital Tengku Ampuan Afzan',\n",
       " 'Hospital Sultan Haji Ahmad Shah',\n",
       " 'Hospital Seberang Jaya',\n",
       " 'Hospital Pulau Pinang',\n",
       " 'Hospital Raja Permaisuri Bainun',\n",
       " 'Hospital Taiping',\n",
       " 'Hospital Seri Manjung',\n",
       " 'Hospital Tengku Ampuan Rahimah',\n",
       " 'Hospital Sultanah Nur Zahirah',\n",
       " 'Hospital Queen Elizabeth II',\n",
       " 'Hospital Duchess Of Kent',\n",
       " 'Hospital Tawau',\n",
       " 'Hospital Umum Sarawak',\n",
       " 'Hospital Miri',\n",
       " 'Hospital Sibu',\n",
       " 'Pusat Darah Negara']"
      ]
     },
     "execution_count": 295,
     "metadata": {},
     "output_type": "execute_result"
    }
   ],
   "source": [
    "#getting the list of facilities\n",
    "list(facility_df['hospital'].unique())"
   ]
  },
  {
   "cell_type": "code",
   "execution_count": 296,
   "metadata": {},
   "outputs": [
    {
     "data": {
      "text/html": [
       "<div>\n",
       "<style scoped>\n",
       "    .dataframe tbody tr th:only-of-type {\n",
       "        vertical-align: middle;\n",
       "    }\n",
       "\n",
       "    .dataframe tbody tr th {\n",
       "        vertical-align: top;\n",
       "    }\n",
       "\n",
       "    .dataframe thead th {\n",
       "        text-align: right;\n",
       "    }\n",
       "</style>\n",
       "<table border=\"1\" class=\"dataframe\">\n",
       "  <thead>\n",
       "    <tr style=\"text-align: right;\">\n",
       "      <th></th>\n",
       "      <th>date</th>\n",
       "      <th>hospital</th>\n",
       "      <th>daily</th>\n",
       "      <th>blood_a</th>\n",
       "      <th>blood_b</th>\n",
       "      <th>blood_o</th>\n",
       "      <th>blood_ab</th>\n",
       "      <th>location_centre</th>\n",
       "      <th>location_mobile</th>\n",
       "      <th>type_wholeblood</th>\n",
       "      <th>type_apheresis_platelet</th>\n",
       "      <th>type_apheresis_plasma</th>\n",
       "      <th>type_other</th>\n",
       "      <th>social_civilian</th>\n",
       "      <th>social_student</th>\n",
       "      <th>social_policearmy</th>\n",
       "      <th>donations_new</th>\n",
       "      <th>donations_regular</th>\n",
       "      <th>donations_irregular</th>\n",
       "      <th>state</th>\n",
       "    </tr>\n",
       "  </thead>\n",
       "  <tbody>\n",
       "    <tr>\n",
       "      <th>0</th>\n",
       "      <td>2006-01-01</td>\n",
       "      <td>Hospital Sultanah Nora Ismail</td>\n",
       "      <td>87</td>\n",
       "      <td>19</td>\n",
       "      <td>20</td>\n",
       "      <td>45</td>\n",
       "      <td>3</td>\n",
       "      <td>87</td>\n",
       "      <td>0</td>\n",
       "      <td>87</td>\n",
       "      <td>0</td>\n",
       "      <td>0</td>\n",
       "      <td>0</td>\n",
       "      <td>86</td>\n",
       "      <td>1</td>\n",
       "      <td>0</td>\n",
       "      <td>36</td>\n",
       "      <td>49</td>\n",
       "      <td>2</td>\n",
       "      <td>Johor</td>\n",
       "    </tr>\n",
       "    <tr>\n",
       "      <th>1</th>\n",
       "      <td>2006-01-01</td>\n",
       "      <td>Hospital Sultanah Aminah</td>\n",
       "      <td>0</td>\n",
       "      <td>0</td>\n",
       "      <td>0</td>\n",
       "      <td>0</td>\n",
       "      <td>0</td>\n",
       "      <td>0</td>\n",
       "      <td>0</td>\n",
       "      <td>0</td>\n",
       "      <td>0</td>\n",
       "      <td>0</td>\n",
       "      <td>0</td>\n",
       "      <td>0</td>\n",
       "      <td>0</td>\n",
       "      <td>0</td>\n",
       "      <td>0</td>\n",
       "      <td>0</td>\n",
       "      <td>0</td>\n",
       "      <td>Johor</td>\n",
       "    </tr>\n",
       "    <tr>\n",
       "      <th>2</th>\n",
       "      <td>2006-01-01</td>\n",
       "      <td>Hospital Sultanah Bahiyah</td>\n",
       "      <td>208</td>\n",
       "      <td>67</td>\n",
       "      <td>62</td>\n",
       "      <td>61</td>\n",
       "      <td>18</td>\n",
       "      <td>208</td>\n",
       "      <td>0</td>\n",
       "      <td>208</td>\n",
       "      <td>0</td>\n",
       "      <td>0</td>\n",
       "      <td>0</td>\n",
       "      <td>197</td>\n",
       "      <td>8</td>\n",
       "      <td>3</td>\n",
       "      <td>1</td>\n",
       "      <td>207</td>\n",
       "      <td>0</td>\n",
       "      <td>Kedah</td>\n",
       "    </tr>\n",
       "    <tr>\n",
       "      <th>3</th>\n",
       "      <td>2006-01-01</td>\n",
       "      <td>Hospital Raja Perempuan Zainab II</td>\n",
       "      <td>0</td>\n",
       "      <td>0</td>\n",
       "      <td>0</td>\n",
       "      <td>0</td>\n",
       "      <td>0</td>\n",
       "      <td>0</td>\n",
       "      <td>0</td>\n",
       "      <td>0</td>\n",
       "      <td>0</td>\n",
       "      <td>0</td>\n",
       "      <td>0</td>\n",
       "      <td>0</td>\n",
       "      <td>0</td>\n",
       "      <td>0</td>\n",
       "      <td>0</td>\n",
       "      <td>0</td>\n",
       "      <td>0</td>\n",
       "      <td>Kelantan</td>\n",
       "    </tr>\n",
       "    <tr>\n",
       "      <th>4</th>\n",
       "      <td>2006-01-01</td>\n",
       "      <td>Hospital Melaka</td>\n",
       "      <td>1</td>\n",
       "      <td>0</td>\n",
       "      <td>0</td>\n",
       "      <td>1</td>\n",
       "      <td>0</td>\n",
       "      <td>1</td>\n",
       "      <td>0</td>\n",
       "      <td>1</td>\n",
       "      <td>0</td>\n",
       "      <td>0</td>\n",
       "      <td>0</td>\n",
       "      <td>1</td>\n",
       "      <td>0</td>\n",
       "      <td>0</td>\n",
       "      <td>0</td>\n",
       "      <td>1</td>\n",
       "      <td>0</td>\n",
       "      <td>Melaka</td>\n",
       "    </tr>\n",
       "    <tr>\n",
       "      <th>...</th>\n",
       "      <td>...</td>\n",
       "      <td>...</td>\n",
       "      <td>...</td>\n",
       "      <td>...</td>\n",
       "      <td>...</td>\n",
       "      <td>...</td>\n",
       "      <td>...</td>\n",
       "      <td>...</td>\n",
       "      <td>...</td>\n",
       "      <td>...</td>\n",
       "      <td>...</td>\n",
       "      <td>...</td>\n",
       "      <td>...</td>\n",
       "      <td>...</td>\n",
       "      <td>...</td>\n",
       "      <td>...</td>\n",
       "      <td>...</td>\n",
       "      <td>...</td>\n",
       "      <td>...</td>\n",
       "      <td>...</td>\n",
       "    </tr>\n",
       "    <tr>\n",
       "      <th>145239</th>\n",
       "      <td>2024-01-28</td>\n",
       "      <td>Hospital Tawau</td>\n",
       "      <td>36</td>\n",
       "      <td>9</td>\n",
       "      <td>13</td>\n",
       "      <td>12</td>\n",
       "      <td>2</td>\n",
       "      <td>0</td>\n",
       "      <td>36</td>\n",
       "      <td>36</td>\n",
       "      <td>0</td>\n",
       "      <td>0</td>\n",
       "      <td>0</td>\n",
       "      <td>33</td>\n",
       "      <td>0</td>\n",
       "      <td>3</td>\n",
       "      <td>9</td>\n",
       "      <td>25</td>\n",
       "      <td>2</td>\n",
       "      <td>Sabah</td>\n",
       "    </tr>\n",
       "    <tr>\n",
       "      <th>145240</th>\n",
       "      <td>2024-01-28</td>\n",
       "      <td>Hospital Umum Sarawak</td>\n",
       "      <td>135</td>\n",
       "      <td>24</td>\n",
       "      <td>38</td>\n",
       "      <td>62</td>\n",
       "      <td>11</td>\n",
       "      <td>0</td>\n",
       "      <td>135</td>\n",
       "      <td>135</td>\n",
       "      <td>0</td>\n",
       "      <td>0</td>\n",
       "      <td>0</td>\n",
       "      <td>126</td>\n",
       "      <td>8</td>\n",
       "      <td>1</td>\n",
       "      <td>15</td>\n",
       "      <td>108</td>\n",
       "      <td>12</td>\n",
       "      <td>Sarawak</td>\n",
       "    </tr>\n",
       "    <tr>\n",
       "      <th>145241</th>\n",
       "      <td>2024-01-28</td>\n",
       "      <td>Hospital Miri</td>\n",
       "      <td>26</td>\n",
       "      <td>6</td>\n",
       "      <td>8</td>\n",
       "      <td>9</td>\n",
       "      <td>3</td>\n",
       "      <td>0</td>\n",
       "      <td>26</td>\n",
       "      <td>26</td>\n",
       "      <td>0</td>\n",
       "      <td>0</td>\n",
       "      <td>0</td>\n",
       "      <td>25</td>\n",
       "      <td>1</td>\n",
       "      <td>0</td>\n",
       "      <td>6</td>\n",
       "      <td>18</td>\n",
       "      <td>2</td>\n",
       "      <td>Sarawak</td>\n",
       "    </tr>\n",
       "    <tr>\n",
       "      <th>145242</th>\n",
       "      <td>2024-01-28</td>\n",
       "      <td>Hospital Sibu</td>\n",
       "      <td>103</td>\n",
       "      <td>28</td>\n",
       "      <td>34</td>\n",
       "      <td>36</td>\n",
       "      <td>5</td>\n",
       "      <td>0</td>\n",
       "      <td>103</td>\n",
       "      <td>103</td>\n",
       "      <td>0</td>\n",
       "      <td>0</td>\n",
       "      <td>0</td>\n",
       "      <td>100</td>\n",
       "      <td>3</td>\n",
       "      <td>0</td>\n",
       "      <td>2</td>\n",
       "      <td>91</td>\n",
       "      <td>10</td>\n",
       "      <td>Sarawak</td>\n",
       "    </tr>\n",
       "    <tr>\n",
       "      <th>145243</th>\n",
       "      <td>2024-01-28</td>\n",
       "      <td>Pusat Darah Negara</td>\n",
       "      <td>633</td>\n",
       "      <td>166</td>\n",
       "      <td>171</td>\n",
       "      <td>279</td>\n",
       "      <td>17</td>\n",
       "      <td>116</td>\n",
       "      <td>517</td>\n",
       "      <td>633</td>\n",
       "      <td>0</td>\n",
       "      <td>0</td>\n",
       "      <td>0</td>\n",
       "      <td>570</td>\n",
       "      <td>57</td>\n",
       "      <td>6</td>\n",
       "      <td>75</td>\n",
       "      <td>453</td>\n",
       "      <td>105</td>\n",
       "      <td>Kuala Lumpur</td>\n",
       "    </tr>\n",
       "  </tbody>\n",
       "</table>\n",
       "<p>145244 rows × 20 columns</p>\n",
       "</div>"
      ],
      "text/plain": [
       "              date                           hospital  daily  blood_a  \\\n",
       "0       2006-01-01      Hospital Sultanah Nora Ismail     87       19   \n",
       "1       2006-01-01           Hospital Sultanah Aminah      0        0   \n",
       "2       2006-01-01          Hospital Sultanah Bahiyah    208       67   \n",
       "3       2006-01-01  Hospital Raja Perempuan Zainab II      0        0   \n",
       "4       2006-01-01                    Hospital Melaka      1        0   \n",
       "...            ...                                ...    ...      ...   \n",
       "145239  2024-01-28                     Hospital Tawau     36        9   \n",
       "145240  2024-01-28              Hospital Umum Sarawak    135       24   \n",
       "145241  2024-01-28                      Hospital Miri     26        6   \n",
       "145242  2024-01-28                      Hospital Sibu    103       28   \n",
       "145243  2024-01-28                 Pusat Darah Negara    633      166   \n",
       "\n",
       "        blood_b  blood_o  blood_ab  location_centre  location_mobile  \\\n",
       "0            20       45         3               87                0   \n",
       "1             0        0         0                0                0   \n",
       "2            62       61        18              208                0   \n",
       "3             0        0         0                0                0   \n",
       "4             0        1         0                1                0   \n",
       "...         ...      ...       ...              ...              ...   \n",
       "145239       13       12         2                0               36   \n",
       "145240       38       62        11                0              135   \n",
       "145241        8        9         3                0               26   \n",
       "145242       34       36         5                0              103   \n",
       "145243      171      279        17              116              517   \n",
       "\n",
       "        type_wholeblood  type_apheresis_platelet  type_apheresis_plasma  \\\n",
       "0                    87                        0                      0   \n",
       "1                     0                        0                      0   \n",
       "2                   208                        0                      0   \n",
       "3                     0                        0                      0   \n",
       "4                     1                        0                      0   \n",
       "...                 ...                      ...                    ...   \n",
       "145239               36                        0                      0   \n",
       "145240              135                        0                      0   \n",
       "145241               26                        0                      0   \n",
       "145242              103                        0                      0   \n",
       "145243              633                        0                      0   \n",
       "\n",
       "        type_other  social_civilian  social_student  social_policearmy  \\\n",
       "0                0               86               1                  0   \n",
       "1                0                0               0                  0   \n",
       "2                0              197               8                  3   \n",
       "3                0                0               0                  0   \n",
       "4                0                1               0                  0   \n",
       "...            ...              ...             ...                ...   \n",
       "145239           0               33               0                  3   \n",
       "145240           0              126               8                  1   \n",
       "145241           0               25               1                  0   \n",
       "145242           0              100               3                  0   \n",
       "145243           0              570              57                  6   \n",
       "\n",
       "        donations_new  donations_regular  donations_irregular         state  \n",
       "0                  36                 49                    2         Johor  \n",
       "1                   0                  0                    0         Johor  \n",
       "2                   1                207                    0         Kedah  \n",
       "3                   0                  0                    0      Kelantan  \n",
       "4                   0                  1                    0        Melaka  \n",
       "...               ...                ...                  ...           ...  \n",
       "145239              9                 25                    2         Sabah  \n",
       "145240             15                108                   12       Sarawak  \n",
       "145241              6                 18                    2       Sarawak  \n",
       "145242              2                 91                   10       Sarawak  \n",
       "145243             75                453                  105  Kuala Lumpur  \n",
       "\n",
       "[145244 rows x 20 columns]"
      ]
     },
     "execution_count": 296,
     "metadata": {},
     "output_type": "execute_result"
    }
   ],
   "source": [
    "# Manually Map the list of hospital to their state\n",
    "hospital_state = {\n",
    "    'Hospital Sultanah Nora Ismail': 'Johor',\n",
    "    'Hospital Sultanah Aminah': 'Johor',\n",
    "    'Hospital Sultanah Bahiyah': 'Kedah',\n",
    "    'Hospital Raja Perempuan Zainab II': 'Kelantan',\n",
    "    'Hospital Melaka': 'Melaka',\n",
    "    'Hospital Tuanku Jaafar': 'Negeri Sembilan',\n",
    "    'Hospital Tengku Ampuan Afzan': 'Pahang',\n",
    "    'Hospital Sultan Haji Ahmad Shah': 'Pahang',\n",
    "    'Hospital Seberang Jaya': 'Penang',\n",
    "    'Hospital Pulau Pinang': 'Penang',\n",
    "    'Hospital Raja Permaisuri Bainun': 'Perak',\n",
    "    'Hospital Taiping': 'Perak',\n",
    "    'Hospital Seri Manjung': 'Perak',\n",
    "    'Hospital Tengku Ampuan Rahimah': 'Selangor',\n",
    "    'Hospital Sultanah Nur Zahirah': 'Terengganu',\n",
    "    'Hospital Queen Elizabeth II': 'Sabah',\n",
    "    'Hospital Duchess Of Kent': 'Sabah',\n",
    "    'Hospital Tawau': 'Sabah',\n",
    "    'Hospital Umum Sarawak': 'Sarawak',\n",
    "    'Hospital Miri': 'Sarawak',\n",
    "    'Hospital Sibu': 'Sarawak',\n",
    "    'Pusat Darah Negara': 'Kuala Lumpur'\n",
    "}\n",
    "\n",
    "#Add another column to the dataframe\n",
    "facility_df['state'] = facility_df['hospital'].map(hospital_state)\n",
    "facility_df"
   ]
  },
  {
   "cell_type": "code",
   "execution_count": 297,
   "metadata": {},
   "outputs": [
    {
     "data": {
      "text/html": [
       "<div>\n",
       "<style scoped>\n",
       "    .dataframe tbody tr th:only-of-type {\n",
       "        vertical-align: middle;\n",
       "    }\n",
       "\n",
       "    .dataframe tbody tr th {\n",
       "        vertical-align: top;\n",
       "    }\n",
       "\n",
       "    .dataframe thead th {\n",
       "        text-align: right;\n",
       "    }\n",
       "</style>\n",
       "<table border=\"1\" class=\"dataframe\">\n",
       "  <thead>\n",
       "    <tr style=\"text-align: right;\">\n",
       "      <th></th>\n",
       "      <th>date</th>\n",
       "      <th>hospital</th>\n",
       "      <th>daily</th>\n",
       "      <th>blood_a</th>\n",
       "      <th>blood_b</th>\n",
       "      <th>blood_o</th>\n",
       "      <th>blood_ab</th>\n",
       "      <th>location_centre</th>\n",
       "      <th>location_mobile</th>\n",
       "      <th>type_wholeblood</th>\n",
       "      <th>type_apheresis_platelet</th>\n",
       "      <th>type_apheresis_plasma</th>\n",
       "      <th>type_other</th>\n",
       "      <th>social_civilian</th>\n",
       "      <th>social_student</th>\n",
       "      <th>social_policearmy</th>\n",
       "      <th>donations_new</th>\n",
       "      <th>donations_regular</th>\n",
       "      <th>donations_irregular</th>\n",
       "      <th>state</th>\n",
       "    </tr>\n",
       "  </thead>\n",
       "  <tbody>\n",
       "    <tr>\n",
       "      <th>144144</th>\n",
       "      <td>2023-12-10</td>\n",
       "      <td>Hospital Sultanah Nora Ismail</td>\n",
       "      <td>94</td>\n",
       "      <td>25</td>\n",
       "      <td>25</td>\n",
       "      <td>41</td>\n",
       "      <td>3</td>\n",
       "      <td>4</td>\n",
       "      <td>90</td>\n",
       "      <td>94</td>\n",
       "      <td>0</td>\n",
       "      <td>0</td>\n",
       "      <td>0</td>\n",
       "      <td>94</td>\n",
       "      <td>0</td>\n",
       "      <td>0</td>\n",
       "      <td>8</td>\n",
       "      <td>75</td>\n",
       "      <td>11</td>\n",
       "      <td>Johor</td>\n",
       "    </tr>\n",
       "    <tr>\n",
       "      <th>144145</th>\n",
       "      <td>2023-12-10</td>\n",
       "      <td>Hospital Sultanah Aminah</td>\n",
       "      <td>164</td>\n",
       "      <td>42</td>\n",
       "      <td>43</td>\n",
       "      <td>69</td>\n",
       "      <td>10</td>\n",
       "      <td>60</td>\n",
       "      <td>104</td>\n",
       "      <td>164</td>\n",
       "      <td>0</td>\n",
       "      <td>0</td>\n",
       "      <td>0</td>\n",
       "      <td>160</td>\n",
       "      <td>4</td>\n",
       "      <td>0</td>\n",
       "      <td>32</td>\n",
       "      <td>109</td>\n",
       "      <td>23</td>\n",
       "      <td>Johor</td>\n",
       "    </tr>\n",
       "    <tr>\n",
       "      <th>144146</th>\n",
       "      <td>2023-12-10</td>\n",
       "      <td>Hospital Sultanah Bahiyah</td>\n",
       "      <td>23</td>\n",
       "      <td>3</td>\n",
       "      <td>6</td>\n",
       "      <td>13</td>\n",
       "      <td>1</td>\n",
       "      <td>7</td>\n",
       "      <td>16</td>\n",
       "      <td>23</td>\n",
       "      <td>0</td>\n",
       "      <td>0</td>\n",
       "      <td>0</td>\n",
       "      <td>19</td>\n",
       "      <td>4</td>\n",
       "      <td>0</td>\n",
       "      <td>2</td>\n",
       "      <td>15</td>\n",
       "      <td>6</td>\n",
       "      <td>Kedah</td>\n",
       "    </tr>\n",
       "    <tr>\n",
       "      <th>144147</th>\n",
       "      <td>2023-12-10</td>\n",
       "      <td>Hospital Raja Perempuan Zainab II</td>\n",
       "      <td>52</td>\n",
       "      <td>11</td>\n",
       "      <td>9</td>\n",
       "      <td>30</td>\n",
       "      <td>2</td>\n",
       "      <td>39</td>\n",
       "      <td>13</td>\n",
       "      <td>52</td>\n",
       "      <td>0</td>\n",
       "      <td>0</td>\n",
       "      <td>0</td>\n",
       "      <td>44</td>\n",
       "      <td>8</td>\n",
       "      <td>0</td>\n",
       "      <td>2</td>\n",
       "      <td>47</td>\n",
       "      <td>3</td>\n",
       "      <td>Kelantan</td>\n",
       "    </tr>\n",
       "    <tr>\n",
       "      <th>144148</th>\n",
       "      <td>2023-12-10</td>\n",
       "      <td>Hospital Melaka</td>\n",
       "      <td>119</td>\n",
       "      <td>34</td>\n",
       "      <td>32</td>\n",
       "      <td>40</td>\n",
       "      <td>13</td>\n",
       "      <td>0</td>\n",
       "      <td>119</td>\n",
       "      <td>119</td>\n",
       "      <td>0</td>\n",
       "      <td>0</td>\n",
       "      <td>0</td>\n",
       "      <td>105</td>\n",
       "      <td>14</td>\n",
       "      <td>0</td>\n",
       "      <td>15</td>\n",
       "      <td>87</td>\n",
       "      <td>17</td>\n",
       "      <td>Melaka</td>\n",
       "    </tr>\n",
       "    <tr>\n",
       "      <th>...</th>\n",
       "      <td>...</td>\n",
       "      <td>...</td>\n",
       "      <td>...</td>\n",
       "      <td>...</td>\n",
       "      <td>...</td>\n",
       "      <td>...</td>\n",
       "      <td>...</td>\n",
       "      <td>...</td>\n",
       "      <td>...</td>\n",
       "      <td>...</td>\n",
       "      <td>...</td>\n",
       "      <td>...</td>\n",
       "      <td>...</td>\n",
       "      <td>...</td>\n",
       "      <td>...</td>\n",
       "      <td>...</td>\n",
       "      <td>...</td>\n",
       "      <td>...</td>\n",
       "      <td>...</td>\n",
       "      <td>...</td>\n",
       "    </tr>\n",
       "    <tr>\n",
       "      <th>145239</th>\n",
       "      <td>2024-01-28</td>\n",
       "      <td>Hospital Tawau</td>\n",
       "      <td>36</td>\n",
       "      <td>9</td>\n",
       "      <td>13</td>\n",
       "      <td>12</td>\n",
       "      <td>2</td>\n",
       "      <td>0</td>\n",
       "      <td>36</td>\n",
       "      <td>36</td>\n",
       "      <td>0</td>\n",
       "      <td>0</td>\n",
       "      <td>0</td>\n",
       "      <td>33</td>\n",
       "      <td>0</td>\n",
       "      <td>3</td>\n",
       "      <td>9</td>\n",
       "      <td>25</td>\n",
       "      <td>2</td>\n",
       "      <td>Sabah</td>\n",
       "    </tr>\n",
       "    <tr>\n",
       "      <th>145240</th>\n",
       "      <td>2024-01-28</td>\n",
       "      <td>Hospital Umum Sarawak</td>\n",
       "      <td>135</td>\n",
       "      <td>24</td>\n",
       "      <td>38</td>\n",
       "      <td>62</td>\n",
       "      <td>11</td>\n",
       "      <td>0</td>\n",
       "      <td>135</td>\n",
       "      <td>135</td>\n",
       "      <td>0</td>\n",
       "      <td>0</td>\n",
       "      <td>0</td>\n",
       "      <td>126</td>\n",
       "      <td>8</td>\n",
       "      <td>1</td>\n",
       "      <td>15</td>\n",
       "      <td>108</td>\n",
       "      <td>12</td>\n",
       "      <td>Sarawak</td>\n",
       "    </tr>\n",
       "    <tr>\n",
       "      <th>145241</th>\n",
       "      <td>2024-01-28</td>\n",
       "      <td>Hospital Miri</td>\n",
       "      <td>26</td>\n",
       "      <td>6</td>\n",
       "      <td>8</td>\n",
       "      <td>9</td>\n",
       "      <td>3</td>\n",
       "      <td>0</td>\n",
       "      <td>26</td>\n",
       "      <td>26</td>\n",
       "      <td>0</td>\n",
       "      <td>0</td>\n",
       "      <td>0</td>\n",
       "      <td>25</td>\n",
       "      <td>1</td>\n",
       "      <td>0</td>\n",
       "      <td>6</td>\n",
       "      <td>18</td>\n",
       "      <td>2</td>\n",
       "      <td>Sarawak</td>\n",
       "    </tr>\n",
       "    <tr>\n",
       "      <th>145242</th>\n",
       "      <td>2024-01-28</td>\n",
       "      <td>Hospital Sibu</td>\n",
       "      <td>103</td>\n",
       "      <td>28</td>\n",
       "      <td>34</td>\n",
       "      <td>36</td>\n",
       "      <td>5</td>\n",
       "      <td>0</td>\n",
       "      <td>103</td>\n",
       "      <td>103</td>\n",
       "      <td>0</td>\n",
       "      <td>0</td>\n",
       "      <td>0</td>\n",
       "      <td>100</td>\n",
       "      <td>3</td>\n",
       "      <td>0</td>\n",
       "      <td>2</td>\n",
       "      <td>91</td>\n",
       "      <td>10</td>\n",
       "      <td>Sarawak</td>\n",
       "    </tr>\n",
       "    <tr>\n",
       "      <th>145243</th>\n",
       "      <td>2024-01-28</td>\n",
       "      <td>Pusat Darah Negara</td>\n",
       "      <td>633</td>\n",
       "      <td>166</td>\n",
       "      <td>171</td>\n",
       "      <td>279</td>\n",
       "      <td>17</td>\n",
       "      <td>116</td>\n",
       "      <td>517</td>\n",
       "      <td>633</td>\n",
       "      <td>0</td>\n",
       "      <td>0</td>\n",
       "      <td>0</td>\n",
       "      <td>570</td>\n",
       "      <td>57</td>\n",
       "      <td>6</td>\n",
       "      <td>75</td>\n",
       "      <td>453</td>\n",
       "      <td>105</td>\n",
       "      <td>Kuala Lumpur</td>\n",
       "    </tr>\n",
       "  </tbody>\n",
       "</table>\n",
       "<p>1100 rows × 20 columns</p>\n",
       "</div>"
      ],
      "text/plain": [
       "             date                           hospital  daily  blood_a  blood_b  \\\n",
       "144144 2023-12-10      Hospital Sultanah Nora Ismail     94       25       25   \n",
       "144145 2023-12-10           Hospital Sultanah Aminah    164       42       43   \n",
       "144146 2023-12-10          Hospital Sultanah Bahiyah     23        3        6   \n",
       "144147 2023-12-10  Hospital Raja Perempuan Zainab II     52       11        9   \n",
       "144148 2023-12-10                    Hospital Melaka    119       34       32   \n",
       "...           ...                                ...    ...      ...      ...   \n",
       "145239 2024-01-28                     Hospital Tawau     36        9       13   \n",
       "145240 2024-01-28              Hospital Umum Sarawak    135       24       38   \n",
       "145241 2024-01-28                      Hospital Miri     26        6        8   \n",
       "145242 2024-01-28                      Hospital Sibu    103       28       34   \n",
       "145243 2024-01-28                 Pusat Darah Negara    633      166      171   \n",
       "\n",
       "        blood_o  blood_ab  location_centre  location_mobile  type_wholeblood  \\\n",
       "144144       41         3                4               90               94   \n",
       "144145       69        10               60              104              164   \n",
       "144146       13         1                7               16               23   \n",
       "144147       30         2               39               13               52   \n",
       "144148       40        13                0              119              119   \n",
       "...         ...       ...              ...              ...              ...   \n",
       "145239       12         2                0               36               36   \n",
       "145240       62        11                0              135              135   \n",
       "145241        9         3                0               26               26   \n",
       "145242       36         5                0              103              103   \n",
       "145243      279        17              116              517              633   \n",
       "\n",
       "        type_apheresis_platelet  type_apheresis_plasma  type_other  \\\n",
       "144144                        0                      0           0   \n",
       "144145                        0                      0           0   \n",
       "144146                        0                      0           0   \n",
       "144147                        0                      0           0   \n",
       "144148                        0                      0           0   \n",
       "...                         ...                    ...         ...   \n",
       "145239                        0                      0           0   \n",
       "145240                        0                      0           0   \n",
       "145241                        0                      0           0   \n",
       "145242                        0                      0           0   \n",
       "145243                        0                      0           0   \n",
       "\n",
       "        social_civilian  social_student  social_policearmy  donations_new  \\\n",
       "144144               94               0                  0              8   \n",
       "144145              160               4                  0             32   \n",
       "144146               19               4                  0              2   \n",
       "144147               44               8                  0              2   \n",
       "144148              105              14                  0             15   \n",
       "...                 ...             ...                ...            ...   \n",
       "145239               33               0                  3              9   \n",
       "145240              126               8                  1             15   \n",
       "145241               25               1                  0              6   \n",
       "145242              100               3                  0              2   \n",
       "145243              570              57                  6             75   \n",
       "\n",
       "        donations_regular  donations_irregular         state  \n",
       "144144                 75                   11         Johor  \n",
       "144145                109                   23         Johor  \n",
       "144146                 15                    6         Kedah  \n",
       "144147                 47                    3      Kelantan  \n",
       "144148                 87                   17        Melaka  \n",
       "...                   ...                  ...           ...  \n",
       "145239                 25                    2         Sabah  \n",
       "145240                108                   12       Sarawak  \n",
       "145241                 18                    2       Sarawak  \n",
       "145242                 91                   10       Sarawak  \n",
       "145243                453                  105  Kuala Lumpur  \n",
       "\n",
       "[1100 rows x 20 columns]"
      ]
     },
     "execution_count": 297,
     "metadata": {},
     "output_type": "execute_result"
    }
   ],
   "source": [
    "#Filter the data by last 49 days\n",
    "facility_df['date']= pd.to_datetime(facility_df['date']) # set the column data type into pandas datetime\n",
    "latest_date = max(facility_df['date']) #Get the latest date in the dataframe\n",
    "last_49_days = latest_date-pd.Timedelta(days=49) #Get the date 49 days ago\n",
    "last49_df = facility_df[facility_df['date']>=last_49_days] #Filter the data by last 49 days\n",
    "last49_df"
   ]
  },
  {
   "cell_type": "code",
   "execution_count": 298,
   "metadata": {},
   "outputs": [
    {
     "data": {
      "text/html": [
       "<div>\n",
       "<style scoped>\n",
       "    .dataframe tbody tr th:only-of-type {\n",
       "        vertical-align: middle;\n",
       "    }\n",
       "\n",
       "    .dataframe tbody tr th {\n",
       "        vertical-align: top;\n",
       "    }\n",
       "\n",
       "    .dataframe thead th {\n",
       "        text-align: right;\n",
       "    }\n",
       "</style>\n",
       "<table border=\"1\" class=\"dataframe\">\n",
       "  <thead>\n",
       "    <tr style=\"text-align: right;\">\n",
       "      <th></th>\n",
       "      <th>state</th>\n",
       "      <th>total_donation</th>\n",
       "    </tr>\n",
       "  </thead>\n",
       "  <tbody>\n",
       "    <tr>\n",
       "      <th>0</th>\n",
       "      <td>Johor</td>\n",
       "      <td>6637</td>\n",
       "    </tr>\n",
       "    <tr>\n",
       "      <th>1</th>\n",
       "      <td>Kedah</td>\n",
       "      <td>2848</td>\n",
       "    </tr>\n",
       "    <tr>\n",
       "      <th>2</th>\n",
       "      <td>Kelantan</td>\n",
       "      <td>2545</td>\n",
       "    </tr>\n",
       "    <tr>\n",
       "      <th>3</th>\n",
       "      <td>Kuala Lumpur</td>\n",
       "      <td>28602</td>\n",
       "    </tr>\n",
       "    <tr>\n",
       "      <th>4</th>\n",
       "      <td>Melaka</td>\n",
       "      <td>3716</td>\n",
       "    </tr>\n",
       "    <tr>\n",
       "      <th>5</th>\n",
       "      <td>Negeri Sembilan</td>\n",
       "      <td>2490</td>\n",
       "    </tr>\n",
       "    <tr>\n",
       "      <th>6</th>\n",
       "      <td>Pahang</td>\n",
       "      <td>3395</td>\n",
       "    </tr>\n",
       "    <tr>\n",
       "      <th>7</th>\n",
       "      <td>Penang</td>\n",
       "      <td>5761</td>\n",
       "    </tr>\n",
       "    <tr>\n",
       "      <th>8</th>\n",
       "      <td>Perak</td>\n",
       "      <td>6452</td>\n",
       "    </tr>\n",
       "    <tr>\n",
       "      <th>9</th>\n",
       "      <td>Sabah</td>\n",
       "      <td>4754</td>\n",
       "    </tr>\n",
       "    <tr>\n",
       "      <th>10</th>\n",
       "      <td>Sarawak</td>\n",
       "      <td>5861</td>\n",
       "    </tr>\n",
       "    <tr>\n",
       "      <th>11</th>\n",
       "      <td>Selangor</td>\n",
       "      <td>4379</td>\n",
       "    </tr>\n",
       "    <tr>\n",
       "      <th>12</th>\n",
       "      <td>Terengganu</td>\n",
       "      <td>3121</td>\n",
       "    </tr>\n",
       "  </tbody>\n",
       "</table>\n",
       "</div>"
      ],
      "text/plain": [
       "              state  total_donation\n",
       "0             Johor            6637\n",
       "1             Kedah            2848\n",
       "2          Kelantan            2545\n",
       "3      Kuala Lumpur           28602\n",
       "4            Melaka            3716\n",
       "5   Negeri Sembilan            2490\n",
       "6            Pahang            3395\n",
       "7            Penang            5761\n",
       "8             Perak            6452\n",
       "9             Sabah            4754\n",
       "10          Sarawak            5861\n",
       "11         Selangor            4379\n",
       "12       Terengganu            3121"
      ]
     },
     "execution_count": 298,
     "metadata": {},
     "output_type": "execute_result"
    }
   ],
   "source": [
    "#group by state\n",
    "state49_df = last49_df.groupby('state')['daily'].sum().reset_index(name='total_donation')\n",
    "state49_df"
   ]
  },
  {
   "cell_type": "markdown",
   "metadata": {},
   "source": [
    "From the dataset of MOH, It seems there are no data for blood donation in Perlis."
   ]
  },
  {
   "cell_type": "markdown",
   "metadata": {},
   "source": [
    "To do Choropleth, we need to use polygon data to get the boundary of each state in the dataset,\n",
    "I found the polygon data with this link https://cartographyvectors.com/map/1477-malaysia-with-regions"
   ]
  },
  {
   "cell_type": "code",
   "execution_count": 299,
   "metadata": {},
   "outputs": [
    {
     "data": {
      "text/html": [
       "<div>\n",
       "<style scoped>\n",
       "    .dataframe tbody tr th:only-of-type {\n",
       "        vertical-align: middle;\n",
       "    }\n",
       "\n",
       "    .dataframe tbody tr th {\n",
       "        vertical-align: top;\n",
       "    }\n",
       "\n",
       "    .dataframe thead th {\n",
       "        text-align: right;\n",
       "    }\n",
       "</style>\n",
       "<table border=\"1\" class=\"dataframe\">\n",
       "  <thead>\n",
       "    <tr style=\"text-align: right;\">\n",
       "      <th></th>\n",
       "      <th>id</th>\n",
       "      <th>name</th>\n",
       "      <th>density</th>\n",
       "      <th>path</th>\n",
       "      <th>geometry</th>\n",
       "    </tr>\n",
       "  </thead>\n",
       "  <tbody>\n",
       "    <tr>\n",
       "      <th>0</th>\n",
       "      <td>5871</td>\n",
       "      <td>Federal Territory of Kuala Lumpur</td>\n",
       "      <td>0</td>\n",
       "      <td>/world/Malaysia/Federal Territory of Kuala Lumpur</td>\n",
       "      <td>MULTIPOLYGON (((101.63830 3.22810, 101.66559 3...</td>\n",
       "    </tr>\n",
       "    <tr>\n",
       "      <th>1</th>\n",
       "      <td>5874</td>\n",
       "      <td>Federal Territory of Putrajaya</td>\n",
       "      <td>0</td>\n",
       "      <td>/world/Malaysia/Federal Territory of Putrajaya</td>\n",
       "      <td>MULTIPOLYGON (((101.67933 2.97116, 101.68001 2...</td>\n",
       "    </tr>\n",
       "    <tr>\n",
       "      <th>2</th>\n",
       "      <td>5878</td>\n",
       "      <td>Johor</td>\n",
       "      <td>0</td>\n",
       "      <td>/world/Malaysia/Johor</td>\n",
       "      <td>MULTIPOLYGON (((103.63678 2.65774, 103.65669 2...</td>\n",
       "    </tr>\n",
       "    <tr>\n",
       "      <th>3</th>\n",
       "      <td>5875</td>\n",
       "      <td>Kedah</td>\n",
       "      <td>0</td>\n",
       "      <td>/world/Malaysia/Kedah</td>\n",
       "      <td>MULTIPOLYGON (((100.33882 5.57806, 100.33058 5...</td>\n",
       "    </tr>\n",
       "    <tr>\n",
       "      <th>4</th>\n",
       "      <td>5879</td>\n",
       "      <td>Kelantan</td>\n",
       "      <td>0</td>\n",
       "      <td>/world/Malaysia/Kelantan</td>\n",
       "      <td>MULTIPOLYGON (((102.09183 6.23886, 102.16461 6...</td>\n",
       "    </tr>\n",
       "  </tbody>\n",
       "</table>\n",
       "</div>"
      ],
      "text/plain": [
       "     id                               name  density  \\\n",
       "0  5871  Federal Territory of Kuala Lumpur        0   \n",
       "1  5874     Federal Territory of Putrajaya        0   \n",
       "2  5878                              Johor        0   \n",
       "3  5875                              Kedah        0   \n",
       "4  5879                           Kelantan        0   \n",
       "\n",
       "                                                path  \\\n",
       "0  /world/Malaysia/Federal Territory of Kuala Lumpur   \n",
       "1     /world/Malaysia/Federal Territory of Putrajaya   \n",
       "2                              /world/Malaysia/Johor   \n",
       "3                              /world/Malaysia/Kedah   \n",
       "4                           /world/Malaysia/Kelantan   \n",
       "\n",
       "                                            geometry  \n",
       "0  MULTIPOLYGON (((101.63830 3.22810, 101.66559 3...  \n",
       "1  MULTIPOLYGON (((101.67933 2.97116, 101.68001 2...  \n",
       "2  MULTIPOLYGON (((103.63678 2.65774, 103.65669 2...  \n",
       "3  MULTIPOLYGON (((100.33882 5.57806, 100.33058 5...  \n",
       "4  MULTIPOLYGON (((102.09183 6.23886, 102.16461 6...  "
      ]
     },
     "execution_count": 299,
     "metadata": {},
     "output_type": "execute_result"
    }
   ],
   "source": [
    "#read geojson file\n",
    "gdf = gpd.read_file('malaysia-with-regions_.geojson')\n",
    "gdf.head()"
   ]
  },
  {
   "cell_type": "code",
   "execution_count": 300,
   "metadata": {},
   "outputs": [
    {
     "data": {
      "text/html": [
       "<div>\n",
       "<style scoped>\n",
       "    .dataframe tbody tr th:only-of-type {\n",
       "        vertical-align: middle;\n",
       "    }\n",
       "\n",
       "    .dataframe tbody tr th {\n",
       "        vertical-align: top;\n",
       "    }\n",
       "\n",
       "    .dataframe thead th {\n",
       "        text-align: right;\n",
       "    }\n",
       "</style>\n",
       "<table border=\"1\" class=\"dataframe\">\n",
       "  <thead>\n",
       "    <tr style=\"text-align: right;\">\n",
       "      <th></th>\n",
       "      <th>name</th>\n",
       "      <th>geometry</th>\n",
       "    </tr>\n",
       "  </thead>\n",
       "  <tbody>\n",
       "    <tr>\n",
       "      <th>0</th>\n",
       "      <td>Johor</td>\n",
       "      <td>MULTIPOLYGON (((103.63678 2.65774, 103.65669 2...</td>\n",
       "    </tr>\n",
       "    <tr>\n",
       "      <th>1</th>\n",
       "      <td>Kedah</td>\n",
       "      <td>MULTIPOLYGON (((100.33882 5.57806, 100.33058 5...</td>\n",
       "    </tr>\n",
       "    <tr>\n",
       "      <th>2</th>\n",
       "      <td>Kelantan</td>\n",
       "      <td>MULTIPOLYGON (((102.09183 6.23886, 102.16461 6...</td>\n",
       "    </tr>\n",
       "    <tr>\n",
       "      <th>3</th>\n",
       "      <td>Kuala Lumpur</td>\n",
       "      <td>MULTIPOLYGON (((101.63830 3.22810, 101.66559 3...</td>\n",
       "    </tr>\n",
       "    <tr>\n",
       "      <th>4</th>\n",
       "      <td>Melaka</td>\n",
       "      <td>MULTIPOLYGON (((102.48837 2.09912, 102.47412 2...</td>\n",
       "    </tr>\n",
       "  </tbody>\n",
       "</table>\n",
       "</div>"
      ],
      "text/plain": [
       "           name                                           geometry\n",
       "0         Johor  MULTIPOLYGON (((103.63678 2.65774, 103.65669 2...\n",
       "1         Kedah  MULTIPOLYGON (((100.33882 5.57806, 100.33058 5...\n",
       "2      Kelantan  MULTIPOLYGON (((102.09183 6.23886, 102.16461 6...\n",
       "3  Kuala Lumpur  MULTIPOLYGON (((101.63830 3.22810, 101.66559 3...\n",
       "4        Melaka  MULTIPOLYGON (((102.48837 2.09912, 102.47412 2..."
      ]
     },
     "execution_count": 300,
     "metadata": {},
     "output_type": "execute_result"
    }
   ],
   "source": [
    "# We need to process the geospatial data so we can merge it with the donations dataset\n",
    "gdf.drop(columns=['id','density','path'],axis=1,inplace=True)#drop col\n",
    "gdf.drop(index=[1,10],inplace=True)#drop Perlis and Putrajaya\n",
    "gdf.loc[0,'name'] = 'Kuala Lumpur' #rename Wilayah KL to Kuala Lumpur\n",
    "gdf.sort_values(by='name',inplace=True) #Sort by name\n",
    "gdf.reset_index(inplace=True,drop=True)#reset index\n",
    "gdf.head()"
   ]
  },
  {
   "cell_type": "code",
   "execution_count": 301,
   "metadata": {},
   "outputs": [
    {
     "data": {
      "text/html": [
       "<div>\n",
       "<style scoped>\n",
       "    .dataframe tbody tr th:only-of-type {\n",
       "        vertical-align: middle;\n",
       "    }\n",
       "\n",
       "    .dataframe tbody tr th {\n",
       "        vertical-align: top;\n",
       "    }\n",
       "\n",
       "    .dataframe thead th {\n",
       "        text-align: right;\n",
       "    }\n",
       "</style>\n",
       "<table border=\"1\" class=\"dataframe\">\n",
       "  <thead>\n",
       "    <tr style=\"text-align: right;\">\n",
       "      <th></th>\n",
       "      <th>geometry</th>\n",
       "      <th>state</th>\n",
       "      <th>total_donation</th>\n",
       "    </tr>\n",
       "  </thead>\n",
       "  <tbody>\n",
       "    <tr>\n",
       "      <th>0</th>\n",
       "      <td>MULTIPOLYGON (((103.63678 2.65774, 103.65669 2...</td>\n",
       "      <td>Johor</td>\n",
       "      <td>6637</td>\n",
       "    </tr>\n",
       "    <tr>\n",
       "      <th>1</th>\n",
       "      <td>MULTIPOLYGON (((100.33882 5.57806, 100.33058 5...</td>\n",
       "      <td>Kedah</td>\n",
       "      <td>2848</td>\n",
       "    </tr>\n",
       "    <tr>\n",
       "      <th>2</th>\n",
       "      <td>MULTIPOLYGON (((102.09183 6.23886, 102.16461 6...</td>\n",
       "      <td>Kelantan</td>\n",
       "      <td>2545</td>\n",
       "    </tr>\n",
       "    <tr>\n",
       "      <th>3</th>\n",
       "      <td>MULTIPOLYGON (((101.63830 3.22810, 101.66559 3...</td>\n",
       "      <td>Kuala Lumpur</td>\n",
       "      <td>28602</td>\n",
       "    </tr>\n",
       "    <tr>\n",
       "      <th>4</th>\n",
       "      <td>MULTIPOLYGON (((102.48837 2.09912, 102.47412 2...</td>\n",
       "      <td>Melaka</td>\n",
       "      <td>3716</td>\n",
       "    </tr>\n",
       "    <tr>\n",
       "      <th>5</th>\n",
       "      <td>MULTIPOLYGON (((101.97475 2.38986, 101.97166 2...</td>\n",
       "      <td>Negeri Sembilan</td>\n",
       "      <td>2490</td>\n",
       "    </tr>\n",
       "    <tr>\n",
       "      <th>6</th>\n",
       "      <td>MULTIPOLYGON (((103.42117 4.17557, 103.40195 4...</td>\n",
       "      <td>Pahang</td>\n",
       "      <td>3395</td>\n",
       "    </tr>\n",
       "    <tr>\n",
       "      <th>7</th>\n",
       "      <td>MULTIPOLYGON (((100.39513 5.12685, 100.42602 5...</td>\n",
       "      <td>Penang</td>\n",
       "      <td>5761</td>\n",
       "    </tr>\n",
       "    <tr>\n",
       "      <th>8</th>\n",
       "      <td>MULTIPOLYGON (((100.81535 3.84987, 100.76111 3...</td>\n",
       "      <td>Perak</td>\n",
       "      <td>6452</td>\n",
       "    </tr>\n",
       "    <tr>\n",
       "      <th>9</th>\n",
       "      <td>MULTIPOLYGON (((115.40588 4.96509, 115.55420 5...</td>\n",
       "      <td>Sabah</td>\n",
       "      <td>4754</td>\n",
       "    </tr>\n",
       "    <tr>\n",
       "      <th>10</th>\n",
       "      <td>MULTIPOLYGON (((109.64356 2.05400, 109.66003 1...</td>\n",
       "      <td>Sarawak</td>\n",
       "      <td>5861</td>\n",
       "    </tr>\n",
       "    <tr>\n",
       "      <th>11</th>\n",
       "      <td>MULTIPOLYGON (((101.71366 2.59446, 101.69083 2...</td>\n",
       "      <td>Selangor</td>\n",
       "      <td>4379</td>\n",
       "    </tr>\n",
       "    <tr>\n",
       "      <th>12</th>\n",
       "      <td>MULTIPOLYGON (((102.53566 5.84589, 102.56355 5...</td>\n",
       "      <td>Terengganu</td>\n",
       "      <td>3121</td>\n",
       "    </tr>\n",
       "  </tbody>\n",
       "</table>\n",
       "</div>"
      ],
      "text/plain": [
       "                                             geometry            state  \\\n",
       "0   MULTIPOLYGON (((103.63678 2.65774, 103.65669 2...            Johor   \n",
       "1   MULTIPOLYGON (((100.33882 5.57806, 100.33058 5...            Kedah   \n",
       "2   MULTIPOLYGON (((102.09183 6.23886, 102.16461 6...         Kelantan   \n",
       "3   MULTIPOLYGON (((101.63830 3.22810, 101.66559 3...     Kuala Lumpur   \n",
       "4   MULTIPOLYGON (((102.48837 2.09912, 102.47412 2...           Melaka   \n",
       "5   MULTIPOLYGON (((101.97475 2.38986, 101.97166 2...  Negeri Sembilan   \n",
       "6   MULTIPOLYGON (((103.42117 4.17557, 103.40195 4...           Pahang   \n",
       "7   MULTIPOLYGON (((100.39513 5.12685, 100.42602 5...           Penang   \n",
       "8   MULTIPOLYGON (((100.81535 3.84987, 100.76111 3...            Perak   \n",
       "9   MULTIPOLYGON (((115.40588 4.96509, 115.55420 5...            Sabah   \n",
       "10  MULTIPOLYGON (((109.64356 2.05400, 109.66003 1...          Sarawak   \n",
       "11  MULTIPOLYGON (((101.71366 2.59446, 101.69083 2...         Selangor   \n",
       "12  MULTIPOLYGON (((102.53566 5.84589, 102.56355 5...       Terengganu   \n",
       "\n",
       "    total_donation  \n",
       "0             6637  \n",
       "1             2848  \n",
       "2             2545  \n",
       "3            28602  \n",
       "4             3716  \n",
       "5             2490  \n",
       "6             3395  \n",
       "7             5761  \n",
       "8             6452  \n",
       "9             4754  \n",
       "10            5861  \n",
       "11            4379  \n",
       "12            3121  "
      ]
     },
     "execution_count": 301,
     "metadata": {},
     "output_type": "execute_result"
    }
   ],
   "source": [
    "#Merging with the donations dataset\n",
    "state49_df_merged = gdf.merge(state49_df, how='left', left_on='name', right_on='state')\n",
    "state49_df_merged=state49_df_merged.iloc[:,1:]\n",
    "state49_df_merged"
   ]
  },
  {
   "cell_type": "code",
   "execution_count": 337,
   "metadata": {},
   "outputs": [
    {
     "data": {
      "image/png": "[encoded data removed]",
      "text/plain": [
       "<Figure size 1600x1600 with 3 Axes>"
      ]
     },
     "metadata": {},
     "output_type": "display_data"
    }
   ],
   "source": [
    "# Normalize Total Donation \n",
    "vmin, vmax = state49_df_merged['total_donation'].min(), state49_df_merged['total_donation'].max()\n",
    "norm = mcolors.Normalize(vmin=vmin, vmax=vmax)\n",
    "colour_gradient = 'Reds'\n",
    "\n",
    "# Create the main plot for Peninsular Malaysia excluding Kuala Lumpur for clarity\n",
    "fig, ax_main = plt.subplots(figsize=(16, 16))\n",
    "plt.text(x=103,y=6,s = 'Blood Donations by State for Last 49 days',fontsize = 20)\n",
    "plt.text(x=103,y=5.85,s = f'({last_49_days.date()}) - ({latest_date.date()})',fontsize = 'xx-large')\n",
    "peninsular_without_kl = state49_df_merged[(state49_df_merged['state'] != 'Sabah') & (state49_df_merged['state'] != 'Sarawak') & (state49_df_merged['state'] != 'Kuala Lumpur')]\n",
    "peninsular_without_kl.plot(column='total_donation', ax=ax_main, cmap=colour_gradient, norm=norm)\n",
    "\n",
    "# Create an inset for Sabah and Sarawak\n",
    "ax_sabah_sarawak = inset_axes(ax_main, width=\"150%\", height=\"150%\", loc='center left',\n",
    "                               bbox_to_anchor=(1, 0.1, 1, 1), bbox_transform=ax_main.transAxes)\n",
    "sabah_sarawak = state49_df_merged[(state49_df_merged['state'] == 'Sabah') | (state49_df_merged['state'] == 'Sarawak')]\n",
    "sabah_sarawak.plot(column='total_donation', ax=ax_sabah_sarawak, cmap=colour_gradient,norm=norm)\n",
    "\n",
    "# Adjust Sabah and Sarawak plot (optional zoom and removing axis)\n",
    "ax_sabah_sarawak.set_xlim([sabah_sarawak.total_bounds[0], sabah_sarawak.total_bounds[2]])\n",
    "ax_sabah_sarawak.set_ylim([sabah_sarawak.total_bounds[1], sabah_sarawak.total_bounds[3]])\n",
    "ax_sabah_sarawak.set_frame_on(False)\n",
    "ax_sabah_sarawak.set_xticks([])\n",
    "ax_sabah_sarawak.set_yticks([])\n",
    "\n",
    "# Create an inset for Kuala Lumpur\n",
    "ax_kl = inset_axes(ax_main, width=\"15%\", height=\"15%\", loc='lower left',\n",
    "                    bbox_to_anchor=(0.1, 0.1, 1, 1), bbox_transform=ax_main.transAxes)\n",
    "kl = state49_df_merged[state49_df_merged['state'] == 'Kuala Lumpur']\n",
    "kl.plot(column='total_donation', ax=ax_kl, cmap=colour_gradient,norm=norm)\n",
    "\n",
    "# Adjust Kuala Lumpur plot (optional zoom and removing axis)\n",
    "ax_kl.set_xlim([kl.total_bounds[0], kl.total_bounds[2]])\n",
    "ax_kl.set_ylim([kl.total_bounds[1], kl.total_bounds[3]])\n",
    "ax_kl.set_frame_on(False)\n",
    "ax_kl.set_xticks([])\n",
    "ax_kl.set_yticks([])\n",
    "\n",
    "# Remove axis for the main plot for a cleaner look\n",
    "ax_main.set_axis_off()\n",
    "\n",
    "# Add Label to the plot\n",
    "for idx, row in state49_df_merged.iterrows():\n",
    "    \n",
    "    # Get the position of the label\n",
    "    x, y = row['geometry'].centroid.x, row['geometry'].centroid.y\n",
    "    \n",
    "    # Define the label text\n",
    "    label_text = f\"{row['state']}\\n{row['total_donation']}\\n{round(row['total_donation']/state49_df_merged['total_donation'].sum()*100,2)}%\"\n",
    "    # Place the label on the map\n",
    "    if row['state'] == 'Kuala Lumpur':\n",
    "        ax_kl.text(x-0.1, y+0.1, label_text, fontsize=12, ha='center', va='center',color='black')\n",
    "    \n",
    "    elif (row['state'] == 'Sarawak') | (row['state'] == 'Sabah'):\n",
    "        ax_sabah_sarawak.text(x, y, label_text, fontsize=12, ha='center', va='center')\n",
    "    \n",
    "    else:\n",
    "        ax_main.text(x, y, label_text, fontsize=12, ha='center', va='center')\n",
    "\n",
    "# save chart as image\n",
    "image_dir = r'./Output Image/'\n",
    "image_name = 'choropleth.png'\n",
    "plt.savefig(image_dir+image_name, bbox_inches='tight')\n",
    "\n",
    "\n",
    "# Show the map\n",
    "plt.show()\n"
   ]
  },
  {
   "cell_type": "code",
   "execution_count": 336,
   "metadata": {},
   "outputs": [
    {
     "data": {
      "text/plain": [
       "3.54"
      ]
     },
     "execution_count": 336,
     "metadata": {},
     "output_type": "execute_result"
    }
   ],
   "source": [
    "round(state49_df_merged['total_donation'][1]/state49_df_merged['total_donation'].sum()*100,2)"
   ]
  },
  {
   "cell_type": "markdown",
   "metadata": {},
   "source": [
    "1. The data only shows blood donations but does not present the stocks of the blood itself\n",
    "2. To compare more accurate on the state, we need to have the count of population for every state, to get the ratio of donor/no. of residence in the state. But I believe , they can transfer the blood packet to another hospital."
   ]
  },
  {
   "cell_type": "code",
   "execution_count": 303,
   "metadata": {},
   "outputs": [
    {
     "data": {
      "application/vnd.plotly.v1+json": {
       "config": {
        "plotlyServerURL": "https://plot.ly"
       },
       "data": [
        {
         "link": {
          "source": [
           0,
           0,
           1,
           2,
           3,
           4,
           5,
           5,
           6,
           6,
           7,
           7,
           7,
           8,
           9,
           10,
           10,
           10,
           11,
           11,
           11,
           12,
           13,
           13,
           13,
           13,
           14,
           14,
           14,
           14,
           15,
           15,
           15,
           15,
           16,
           16,
           16,
           16,
           17,
           17,
           17,
           17,
           18,
           18,
           18,
           18,
           19,
           19,
           19,
           19,
           20,
           20,
           20,
           20,
           21,
           21,
           21,
           21,
           22,
           22,
           22,
           22,
           23,
           23,
           23,
           23,
           24,
           24,
           24,
           24,
           25,
           25,
           25,
           25,
           26,
           26,
           26,
           26,
           27,
           27,
           27,
           27,
           28,
           28,
           28,
           28,
           29,
           29,
           29,
           29,
           30,
           30,
           30,
           30,
           31,
           31,
           31,
           31,
           32,
           32,
           32,
           32,
           33,
           33,
           33,
           33,
           34,
           34,
           34,
           34
          ],
          "target": [
           13,
           14,
           15,
           16,
           17,
           18,
           19,
           20,
           21,
           22,
           23,
           24,
           25,
           26,
           27,
           28,
           29,
           30,
           31,
           32,
           33,
           34,
           35,
           36,
           37,
           38,
           35,
           36,
           37,
           38,
           35,
           36,
           37,
           38,
           35,
           36,
           37,
           38,
           35,
           36,
           37,
           38,
           35,
           36,
           37,
           38,
           35,
           36,
           37,
           38,
           35,
           36,
           37,
           38,
           35,
           36,
           37,
           38,
           35,
           36,
           37,
           38,
           35,
           36,
           37,
           38,
           35,
           36,
           37,
           38,
           35,
           36,
           37,
           38,
           35,
           36,
           37,
           38,
           35,
           36,
           37,
           38,
           35,
           36,
           37,
           38,
           35,
           36,
           37,
           38,
           35,
           36,
           37,
           38,
           35,
           36,
           37,
           38,
           35,
           36,
           37,
           38,
           35,
           36,
           37,
           38,
           35,
           36,
           37,
           38
          ],
          "value": [
           88,
           162,
           56,
           36,
           184,
           106,
           106,
           0,
           164,
           197,
           144,
           105,
           51,
           104,
           57,
           99,
           58,
           36,
           135,
           26,
           103,
           633,
           21,
           21,
           41,
           5,
           39,
           44,
           73,
           6,
           17,
           18,
           18,
           3,
           11,
           9,
           14,
           2,
           35,
           50,
           84,
           15,
           25,
           25,
           50,
           6,
           21,
           33,
           46,
           6,
           0,
           0,
           0,
           0,
           33,
           51,
           73,
           7,
           56,
           46,
           87,
           8,
           34,
           44,
           53,
           13,
           18,
           31,
           46,
           10,
           13,
           19,
           16,
           3,
           21,
           34,
           44,
           5,
           17,
           15,
           22,
           3,
           23,
           17,
           55,
           4,
           19,
           7,
           31,
           1,
           9,
           13,
           12,
           2,
           24,
           38,
           62,
           11,
           6,
           8,
           9,
           3,
           28,
           34,
           36,
           5,
           166,
           171,
           279,
           17
          ]
         },
         "node": {
          "label": [
           "Johor",
           "Kedah",
           "Kelantan",
           "Melaka",
           "Negeri Sembilan",
           "Pahang",
           "Penang",
           "Perak",
           "Selangor",
           "Terengganu",
           "Sabah",
           "Sarawak",
           "Kuala Lumpur",
           "Hospital Sultanah Nora Ismail",
           "Hospital Sultanah Aminah",
           "Hospital Sultanah Bahiyah",
           "Hospital Raja Perempuan Zainab II",
           "Hospital Melaka",
           "Hospital Tuanku Jaafar",
           "Hospital Tengku Ampuan Afzan",
           "Hospital Sultan Haji Ahmad Shah",
           "Hospital Seberang Jaya",
           "Hospital Pulau Pinang",
           "Hospital Raja Permaisuri Bainun",
           "Hospital Taiping",
           "Hospital Seri Manjung",
           "Hospital Tengku Ampuan Rahimah",
           "Hospital Sultanah Nur Zahirah",
           "Hospital Queen Elizabeth II",
           "Hospital Duchess Of Kent",
           "Hospital Tawau",
           "Hospital Umum Sarawak",
           "Hospital Miri",
           "Hospital Sibu",
           "Pusat Darah Negara",
           "a",
           "b",
           "o",
           "ab"
          ],
          "line": {
           "color": "black",
           "width": 0.5
          },
          "pad": 15,
          "thickness": 10
         },
         "type": "sankey"
        }
       ],
       "layout": {
        "font": {
         "size": 10
        },
        "template": {
         "data": {
          "bar": [
           {
            "error_x": {
             "color": "#2a3f5f"
            },
            "error_y": {
             "color": "#2a3f5f"
            },
            "marker": {
             "line": {
              "color": "#E5ECF6",
              "width": 0.5
             },
             "pattern": {
              "fillmode": "overlay",
              "size": 10,
              "solidity": 0.2
             }
            },
            "type": "bar"
           }
          ],
          "barpolar": [
           {
            "marker": {
             "line": {
              "color": "#E5ECF6",
              "width": 0.5
             },
             "pattern": {
              "fillmode": "overlay",
              "size": 10,
              "solidity": 0.2
             }
            },
            "type": "barpolar"
           }
          ],
          "carpet": [
           {
            "aaxis": {
             "endlinecolor": "#2a3f5f",
             "gridcolor": "white",
             "linecolor": "white",
             "minorgridcolor": "white",
             "startlinecolor": "#2a3f5f"
            },
            "baxis": {
             "endlinecolor": "#2a3f5f",
             "gridcolor": "white",
             "linecolor": "white",
             "minorgridcolor": "white",
             "startlinecolor": "#2a3f5f"
            },
            "type": "carpet"
           }
          ],
          "choropleth": [
           {
            "colorbar": {
             "outlinewidth": 0,
             "ticks": ""
            },
            "type": "choropleth"
           }
          ],
          "contour": [
           {
            "colorbar": {
             "outlinewidth": 0,
             "ticks": ""
            },
            "colorscale": [
             [
              0,
              "#0d0887"
             ],
             [
              0.1111111111111111,
              "#46039f"
             ],
             [
              0.2222222222222222,
              "#7201a8"
             ],
             [
              0.3333333333333333,
              "#9c179e"
             ],
             [
              0.4444444444444444,
              "#bd3786"
             ],
             [
              0.5555555555555556,
              "#d8576b"
             ],
             [
              0.6666666666666666,
              "#ed7953"
             ],
             [
              0.7777777777777778,
              "#fb9f3a"
             ],
             [
              0.8888888888888888,
              "#fdca26"
             ],
             [
              1,
              "#f0f921"
             ]
            ],
            "type": "contour"
           }
          ],
          "contourcarpet": [
           {
            "colorbar": {
             "outlinewidth": 0,
             "ticks": ""
            },
            "type": "contourcarpet"
           }
          ],
          "heatmap": [
           {
            "colorbar": {
             "outlinewidth": 0,
             "ticks": ""
            },
            "colorscale": [
             [
              0,
              "#0d0887"
             ],
             [
              0.1111111111111111,
              "#46039f"
             ],
             [
              0.2222222222222222,
              "#7201a8"
             ],
             [
              0.3333333333333333,
              "#9c179e"
             ],
             [
              0.4444444444444444,
              "#bd3786"
             ],
             [
              0.5555555555555556,
              "#d8576b"
             ],
             [
              0.6666666666666666,
              "#ed7953"
             ],
             [
              0.7777777777777778,
              "#fb9f3a"
             ],
             [
              0.8888888888888888,
              "#fdca26"
             ],
             [
              1,
              "#f0f921"
             ]
            ],
            "type": "heatmap"
           }
          ],
          "heatmapgl": [
           {
            "colorbar": {
             "outlinewidth": 0,
             "ticks": ""
            },
            "colorscale": [
             [
              0,
              "#0d0887"
             ],
             [
              0.1111111111111111,
              "#46039f"
             ],
             [
              0.2222222222222222,
              "#7201a8"
             ],
             [
              0.3333333333333333,
              "#9c179e"
             ],
             [
              0.4444444444444444,
              "#bd3786"
             ],
             [
              0.5555555555555556,
              "#d8576b"
             ],
             [
              0.6666666666666666,
              "#ed7953"
             ],
             [
              0.7777777777777778,
              "#fb9f3a"
             ],
             [
              0.8888888888888888,
              "#fdca26"
             ],
             [
              1,
              "#f0f921"
             ]
            ],
            "type": "heatmapgl"
           }
          ],
          "histogram": [
           {
            "marker": {
             "pattern": {
              "fillmode": "overlay",
              "size": 10,
              "solidity": 0.2
             }
            },
            "type": "histogram"
           }
          ],
          "histogram2d": [
           {
            "colorbar": {
             "outlinewidth": 0,
             "ticks": ""
            },
            "colorscale": [
             [
              0,
              "#0d0887"
             ],
             [
              0.1111111111111111,
              "#46039f"
             ],
             [
              0.2222222222222222,
              "#7201a8"
             ],
             [
              0.3333333333333333,
              "#9c179e"
             ],
             [
              0.4444444444444444,
              "#bd3786"
             ],
             [
              0.5555555555555556,
              "#d8576b"
             ],
             [
              0.6666666666666666,
              "#ed7953"
             ],
             [
              0.7777777777777778,
              "#fb9f3a"
             ],
             [
              0.8888888888888888,
              "#fdca26"
             ],
             [
              1,
              "#f0f921"
             ]
            ],
            "type": "histogram2d"
           }
          ],
          "histogram2dcontour": [
           {
            "colorbar": {
             "outlinewidth": 0,
             "ticks": ""
            },
            "colorscale": [
             [
              0,
              "#0d0887"
             ],
             [
              0.1111111111111111,
              "#46039f"
             ],
             [
              0.2222222222222222,
              "#7201a8"
             ],
             [
              0.3333333333333333,
              "#9c179e"
             ],
             [
              0.4444444444444444,
              "#bd3786"
             ],
             [
              0.5555555555555556,
              "#d8576b"
             ],
             [
              0.6666666666666666,
              "#ed7953"
             ],
             [
              0.7777777777777778,
              "#fb9f3a"
             ],
             [
              0.8888888888888888,
              "#fdca26"
             ],
             [
              1,
              "#f0f921"
             ]
            ],
            "type": "histogram2dcontour"
           }
          ],
          "mesh3d": [
           {
            "colorbar": {
             "outlinewidth": 0,
             "ticks": ""
            },
            "type": "mesh3d"
           }
          ],
          "parcoords": [
           {
            "line": {
             "colorbar": {
              "outlinewidth": 0,
              "ticks": ""
             }
            },
            "type": "parcoords"
           }
          ],
          "pie": [
           {
            "automargin": true,
            "type": "pie"
           }
          ],
          "scatter": [
           {
            "fillpattern": {
             "fillmode": "overlay",
             "size": 10,
             "solidity": 0.2
            },
            "type": "scatter"
           }
          ],
          "scatter3d": [
           {
            "line": {
             "colorbar": {
              "outlinewidth": 0,
              "ticks": ""
             }
            },
            "marker": {
             "colorbar": {
              "outlinewidth": 0,
              "ticks": ""
             }
            },
            "type": "scatter3d"
           }
          ],
          "scattercarpet": [
           {
            "marker": {
             "colorbar": {
              "outlinewidth": 0,
              "ticks": ""
             }
            },
            "type": "scattercarpet"
           }
          ],
          "scattergeo": [
           {
            "marker": {
             "colorbar": {
              "outlinewidth": 0,
              "ticks": ""
             }
            },
            "type": "scattergeo"
           }
          ],
          "scattergl": [
           {
            "marker": {
             "colorbar": {
              "outlinewidth": 0,
              "ticks": ""
             }
            },
            "type": "scattergl"
           }
          ],
          "scattermapbox": [
           {
            "marker": {
             "colorbar": {
              "outlinewidth": 0,
              "ticks": ""
             }
            },
            "type": "scattermapbox"
           }
          ],
          "scatterpolar": [
           {
            "marker": {
             "colorbar": {
              "outlinewidth": 0,
              "ticks": ""
             }
            },
            "type": "scatterpolar"
           }
          ],
          "scatterpolargl": [
           {
            "marker": {
             "colorbar": {
              "outlinewidth": 0,
              "ticks": ""
             }
            },
            "type": "scatterpolargl"
           }
          ],
          "scatterternary": [
           {
            "marker": {
             "colorbar": {
              "outlinewidth": 0,
              "ticks": ""
             }
            },
            "type": "scatterternary"
           }
          ],
          "surface": [
           {
            "colorbar": {
             "outlinewidth": 0,
             "ticks": ""
            },
            "colorscale": [
             [
              0,
              "#0d0887"
             ],
             [
              0.1111111111111111,
              "#46039f"
             ],
             [
              0.2222222222222222,
              "#7201a8"
             ],
             [
              0.3333333333333333,
              "#9c179e"
             ],
             [
              0.4444444444444444,
              "#bd3786"
             ],
             [
              0.5555555555555556,
              "#d8576b"
             ],
             [
              0.6666666666666666,
              "#ed7953"
             ],
             [
              0.7777777777777778,
              "#fb9f3a"
             ],
             [
              0.8888888888888888,
              "#fdca26"
             ],
             [
              1,
              "#f0f921"
             ]
            ],
            "type": "surface"
           }
          ],
          "table": [
           {
            "cells": {
             "fill": {
              "color": "#EBF0F8"
             },
             "line": {
              "color": "white"
             }
            },
            "header": {
             "fill": {
              "color": "#C8D4E3"
             },
             "line": {
              "color": "white"
             }
            },
            "type": "table"
           }
          ]
         },
         "layout": {
          "annotationdefaults": {
           "arrowcolor": "#2a3f5f",
           "arrowhead": 0,
           "arrowwidth": 1
          },
          "autotypenumbers": "strict",
          "coloraxis": {
           "colorbar": {
            "outlinewidth": 0,
            "ticks": ""
           }
          },
          "colorscale": {
           "diverging": [
            [
             0,
             "#8e0152"
            ],
            [
             0.1,
             "#c51b7d"
            ],
            [
             0.2,
             "#de77ae"
            ],
            [
             0.3,
             "#f1b6da"
            ],
            [
             0.4,
             "#fde0ef"
            ],
            [
             0.5,
             "#f7f7f7"
            ],
            [
             0.6,
             "#e6f5d0"
            ],
            [
             0.7,
             "#b8e186"
            ],
            [
             0.8,
             "#7fbc41"
            ],
            [
             0.9,
             "#4d9221"
            ],
            [
             1,
             "#276419"
            ]
           ],
           "sequential": [
            [
             0,
             "#0d0887"
            ],
            [
             0.1111111111111111,
             "#46039f"
            ],
            [
             0.2222222222222222,
             "#7201a8"
            ],
            [
             0.3333333333333333,
             "#9c179e"
            ],
            [
             0.4444444444444444,
             "#bd3786"
            ],
            [
             0.5555555555555556,
             "#d8576b"
            ],
            [
             0.6666666666666666,
             "#ed7953"
            ],
            [
             0.7777777777777778,
             "#fb9f3a"
            ],
            [
             0.8888888888888888,
             "#fdca26"
            ],
            [
             1,
             "#f0f921"
            ]
           ],
           "sequentialminus": [
            [
             0,
             "#0d0887"
            ],
            [
             0.1111111111111111,
             "#46039f"
            ],
            [
             0.2222222222222222,
             "#7201a8"
            ],
            [
             0.3333333333333333,
             "#9c179e"
            ],
            [
             0.4444444444444444,
             "#bd3786"
            ],
            [
             0.5555555555555556,
             "#d8576b"
            ],
            [
             0.6666666666666666,
             "#ed7953"
            ],
            [
             0.7777777777777778,
             "#fb9f3a"
            ],
            [
             0.8888888888888888,
             "#fdca26"
            ],
            [
             1,
             "#f0f921"
            ]
           ]
          },
          "colorway": [
           "#636efa",
           "#EF553B",
           "#00cc96",
           "#ab63fa",
           "#FFA15A",
           "#19d3f3",
           "#FF6692",
           "#B6E880",
           "#FF97FF",
           "#FECB52"
          ],
          "font": {
           "color": "#2a3f5f"
          },
          "geo": {
           "bgcolor": "white",
           "lakecolor": "white",
           "landcolor": "#E5ECF6",
           "showlakes": true,
           "showland": true,
           "subunitcolor": "white"
          },
          "hoverlabel": {
           "align": "left"
          },
          "hovermode": "closest",
          "mapbox": {
           "style": "light"
          },
          "paper_bgcolor": "white",
          "plot_bgcolor": "#E5ECF6",
          "polar": {
           "angularaxis": {
            "gridcolor": "white",
            "linecolor": "white",
            "ticks": ""
           },
           "bgcolor": "#E5ECF6",
           "radialaxis": {
            "gridcolor": "white",
            "linecolor": "white",
            "ticks": ""
           }
          },
          "scene": {
           "xaxis": {
            "backgroundcolor": "#E5ECF6",
            "gridcolor": "white",
            "gridwidth": 2,
            "linecolor": "white",
            "showbackground": true,
            "ticks": "",
            "zerolinecolor": "white"
           },
           "yaxis": {
            "backgroundcolor": "#E5ECF6",
            "gridcolor": "white",
            "gridwidth": 2,
            "linecolor": "white",
            "showbackground": true,
            "ticks": "",
            "zerolinecolor": "white"
           },
           "zaxis": {
            "backgroundcolor": "#E5ECF6",
            "gridcolor": "white",
            "gridwidth": 2,
            "linecolor": "white",
            "showbackground": true,
            "ticks": "",
            "zerolinecolor": "white"
           }
          },
          "shapedefaults": {
           "line": {
            "color": "#2a3f5f"
           }
          },
          "ternary": {
           "aaxis": {
            "gridcolor": "white",
            "linecolor": "white",
            "ticks": ""
           },
           "baxis": {
            "gridcolor": "white",
            "linecolor": "white",
            "ticks": ""
           },
           "bgcolor": "#E5ECF6",
           "caxis": {
            "gridcolor": "white",
            "linecolor": "white",
            "ticks": ""
           }
          },
          "title": {
           "x": 0.05
          },
          "xaxis": {
           "automargin": true,
           "gridcolor": "white",
           "linecolor": "white",
           "ticks": "",
           "title": {
            "standoff": 15
           },
           "zerolinecolor": "white",
           "zerolinewidth": 2
          },
          "yaxis": {
           "automargin": true,
           "gridcolor": "white",
           "linecolor": "white",
           "ticks": "",
           "title": {
            "standoff": 15
           },
           "zerolinecolor": "white",
           "zerolinewidth": 2
          }
         }
        },
        "title": {
         "text": "State to Hospital to Blood Type Donations for the latest date (2024-01-28)"
        }
       }
      }
     },
     "metadata": {},
     "output_type": "display_data"
    }
   ],
   "source": [
    "#now prepare data for Sankey\n",
    "today_df = facility_df[facility_df['date']==latest_date][['hospital','state','blood_a','blood_b','blood_o','blood_ab']]\n",
    "# Melt the data to transform blood type columns into rows\n",
    "melted_data = today_df.melt(id_vars=['state', 'hospital'], value_vars=['blood_a', 'blood_b', 'blood_o', 'blood_ab'], \n",
    "                        var_name='blood_type', value_name='donations')\n",
    "\n",
    "# Replace blood type column names with just the blood type\n",
    "melted_data['blood_type'] = melted_data['blood_type'].str.replace('blood_', '')\n",
    "\n",
    "# Creating a list of unique states, hospitals, and blood types to define nodes\n",
    "states = list(melted_data['state'].unique())\n",
    "hospitals = list(melted_data['hospital'].unique())\n",
    "blood_types = list(melted_data['blood_type'].unique())\n",
    "all_nodes = states + hospitals + blood_types\n",
    "\n",
    "# # Create a mapping from node names to indices\n",
    "node_indices = {node: idx for idx, node in enumerate(all_nodes)}\n",
    "# Map the states, hospitals, and blood types to their respective indices\n",
    "melted_data['source_state_to_hospital'] = melted_data['state'].map(node_indices)\n",
    "melted_data['target_hospital_to_blood'] = melted_data['hospital'].map(node_indices)\n",
    "melted_data['target_blood'] = melted_data['blood_type'].map(node_indices)\n",
    "\n",
    "# Create two sets of links: one from state to hospital and another from hospital to blood type\n",
    "links_state_to_hospital = melted_data[['source_state_to_hospital', 'target_hospital_to_blood', 'donations']]\n",
    "links_hospital_to_blood = melted_data[['target_hospital_to_blood', 'target_blood', 'donations']]\n",
    "\n",
    "# Combine the links into a single dataframe\n",
    "links_combined = pd.concat([\n",
    "    links_state_to_hospital.rename(columns={'source_state_to_hospital': 'source', 'target_hospital_to_blood': 'target'}),\n",
    "    links_hospital_to_blood.rename(columns={'target_hospital_to_blood': 'source', 'target_blood': 'target'})\n",
    "])\n",
    "\n",
    "# Sum the donation counts for each link\n",
    "links_summed = links_combined.groupby(['source', 'target']).sum().reset_index()\n",
    "\n",
    "# Create the Sankey diagram\n",
    "fig = go.Figure(data=[go.Sankey(\n",
    "    node = dict(\n",
    "      pad = 15,\n",
    "      thickness = 10,\n",
    "      line = dict(color = \"black\", width = 0.5),\n",
    "      label = all_nodes\n",
    "    ),\n",
    "    link = dict(\n",
    "      source = links_summed['source'],\n",
    "      target = links_summed['target'],\n",
    "      value = links_summed['donations']\n",
    "    ))])\n",
    "\n",
    "fig.update_layout(title_text=f\"State to Hospital to Blood Type Donations for the latest date ({latest_date.date()})\", font_size=10)\n",
    "fig.show()\n"
   ]
  },
  {
   "cell_type": "markdown",
   "metadata": {},
   "source": [
    "Since Plotly's Sankey more on the interactive chart, it is not suitable for image output"
   ]
  },
  {
   "cell_type": "code",
   "execution_count": 304,
   "metadata": {},
   "outputs": [
    {
     "name": "stderr",
     "output_type": "stream",
     "text": [
      "C:\\Users\\DataMicron\\AppData\\Local\\Temp\\ipykernel_26300\\4160263007.py:9: FutureWarning:\n",
      "\n",
      "last is deprecated and will be removed in a future version. Please create a mask and filter using `.loc` instead\n",
      "\n",
      "C:\\Users\\DataMicron\\AppData\\Local\\Temp\\ipykernel_26300\\4160263007.py:9: FutureWarning:\n",
      "\n",
      "'M' is deprecated and will be removed in a future version, please use 'ME' instead.\n",
      "\n"
     ]
    },
    {
     "data": {
      "image/png": "[encoded data removed]",
      "text/plain": [
       "<Figure size 1800x1400 with 1 Axes>"
      ]
     },
     "metadata": {},
     "output_type": "display_data"
    }
   ],
   "source": [
    "#Prepare to plot Time Series\n",
    "# Grouping data by date\n",
    "aggregated_data = facility_df.groupby('date')[['blood_a', 'blood_b', 'blood_ab', 'blood_o','daily']].sum()\n",
    "\n",
    "# Resampling the data to a monthly frequency and calculating the average daily donations for each blood type\n",
    "average_daily_per_month = aggregated_data.resample('ME').mean()\n",
    "\n",
    "# Selecting the last 15 months for comparison\n",
    "last_15_months_avg_daily = average_daily_per_month.last('15M')\n",
    "\n",
    "# Setting the style for the plot\n",
    "plt.rcParams.update({'font.family':'monospace'})\n",
    "\n",
    "# Creating a larger figure\n",
    "plt.figure(figsize=(18, 14))\n",
    "\n",
    "# Time Series Plot for each blood type with data labels\n",
    "for blood_type, color in zip(['blood_a', 'blood_b', 'blood_ab', 'blood_o'], ['blue', 'green', 'red', 'purple']):\n",
    "    plt.plot(last_15_months_avg_daily.index, last_15_months_avg_daily[blood_type], label=f'Blood Type {blood_type[-1]} - Time Series', color=color, alpha=0.7)\n",
    "    for x, y in zip(last_15_months_avg_daily.index, last_15_months_avg_daily[blood_type]):\n",
    "        plt.text(x, y, f'{y:.1f}', color='black', fontsize=10)\n",
    "\n",
    "# Bar Chart Overlay for average daily donation of all types with data labels\n",
    "bar_width = 20  # days\n",
    "bars = plt.bar(last_15_months_avg_daily.index, last_15_months_avg_daily['daily'], width=bar_width, label='Average Daily - All Types', color='grey', alpha=0.5)\n",
    "for bar in bars:\n",
    "    yval = bar.get_height()\n",
    "    plt.text(bar.get_x() + bar.get_width()/2.0, yval, f'{yval:.1f}', va='bottom', ha='center', fontsize=10)\n",
    "\n",
    "plt.title('Monthly Average Daily Blood Donations by Type and Overall Average (Last 15 Months)', fontsize=14)\n",
    "plt.xlabel('Month', fontsize=12)\n",
    "plt.ylabel('Average Daily Blood Donated', fontsize=12)\n",
    "plt.xticks(last_15_months_avg_daily.index, rotation=45, fontsize=10)\n",
    "plt.legend(loc='upper left')\n",
    "plt.grid(True)\n",
    "plt.tight_layout()\n",
    "plt.show()"
   ]
  },
  {
   "cell_type": "code",
   "execution_count": 305,
   "metadata": {},
   "outputs": [],
   "source": [
    "#Getting the average of delta with this month (latest date) and last month"
   ]
  },
  {
   "cell_type": "code",
   "execution_count": null,
   "metadata": {},
   "outputs": [],
   "source": []
  },
  {
   "cell_type": "markdown",
   "metadata": {},
   "source": [
    "<h1>Question 2</h1>\n",
    "<p>Planning:</p>\n",
    "<p>1. Two level Doughnut Chart Shows The Difference of Someone who Donate once and People Who Donate more than one time and group it to how many times had they donated</p>\n",
    "<p>2. Horizontal Bar Chart to show the Distribution of Yesterday Donation by group of donation frequency"
   ]
  },
  {
   "cell_type": "code",
   "execution_count": 306,
   "metadata": {},
   "outputs": [],
   "source": [
    "table = pq.read_table('data_granular\\gran_data.parquet')\n",
    "gran_df = table.to_pandas()"
   ]
  },
  {
   "cell_type": "code",
   "execution_count": 307,
   "metadata": {},
   "outputs": [
    {
     "data": {
      "text/html": [
       "<div>\n",
       "<style scoped>\n",
       "    .dataframe tbody tr th:only-of-type {\n",
       "        vertical-align: middle;\n",
       "    }\n",
       "\n",
       "    .dataframe tbody tr th {\n",
       "        vertical-align: top;\n",
       "    }\n",
       "\n",
       "    .dataframe thead th {\n",
       "        text-align: right;\n",
       "    }\n",
       "</style>\n",
       "<table border=\"1\" class=\"dataframe\">\n",
       "  <thead>\n",
       "    <tr style=\"text-align: right;\">\n",
       "      <th></th>\n",
       "      <th>donor_id</th>\n",
       "      <th>visit_date</th>\n",
       "      <th>birth_date</th>\n",
       "    </tr>\n",
       "  </thead>\n",
       "  <tbody>\n",
       "    <tr>\n",
       "      <th>0</th>\n",
       "      <td>00000</td>\n",
       "      <td>2013-11-03</td>\n",
       "      <td>1964</td>\n",
       "    </tr>\n",
       "    <tr>\n",
       "      <th>1</th>\n",
       "      <td>00000</td>\n",
       "      <td>2014-05-26</td>\n",
       "      <td>1964</td>\n",
       "    </tr>\n",
       "    <tr>\n",
       "      <th>2</th>\n",
       "      <td>00000</td>\n",
       "      <td>2015-01-25</td>\n",
       "      <td>1964</td>\n",
       "    </tr>\n",
       "    <tr>\n",
       "      <th>3</th>\n",
       "      <td>00000</td>\n",
       "      <td>2015-08-09</td>\n",
       "      <td>1964</td>\n",
       "    </tr>\n",
       "    <tr>\n",
       "      <th>4</th>\n",
       "      <td>00000</td>\n",
       "      <td>2016-03-10</td>\n",
       "      <td>1964</td>\n",
       "    </tr>\n",
       "    <tr>\n",
       "      <th>...</th>\n",
       "      <td>...</td>\n",
       "      <td>...</td>\n",
       "      <td>...</td>\n",
       "    </tr>\n",
       "    <tr>\n",
       "      <th>6254932</th>\n",
       "      <td>00Ti4</td>\n",
       "      <td>2024-01-28</td>\n",
       "      <td>1984</td>\n",
       "    </tr>\n",
       "    <tr>\n",
       "      <th>6254933</th>\n",
       "      <td>002Pf</td>\n",
       "      <td>2024-01-28</td>\n",
       "      <td>1999</td>\n",
       "    </tr>\n",
       "    <tr>\n",
       "      <th>6254934</th>\n",
       "      <td>01Ngy</td>\n",
       "      <td>2024-01-28</td>\n",
       "      <td>1984</td>\n",
       "    </tr>\n",
       "    <tr>\n",
       "      <th>6254935</th>\n",
       "      <td>00UI9</td>\n",
       "      <td>2024-01-28</td>\n",
       "      <td>1968</td>\n",
       "    </tr>\n",
       "    <tr>\n",
       "      <th>6254936</th>\n",
       "      <td>02lpl</td>\n",
       "      <td>2024-01-28</td>\n",
       "      <td>1976</td>\n",
       "    </tr>\n",
       "  </tbody>\n",
       "</table>\n",
       "<p>6254937 rows × 3 columns</p>\n",
       "</div>"
      ],
      "text/plain": [
       "        donor_id  visit_date  birth_date\n",
       "0          00000  2013-11-03        1964\n",
       "1          00000  2014-05-26        1964\n",
       "2          00000  2015-01-25        1964\n",
       "3          00000  2015-08-09        1964\n",
       "4          00000  2016-03-10        1964\n",
       "...          ...         ...         ...\n",
       "6254932    00Ti4  2024-01-28        1984\n",
       "6254933    002Pf  2024-01-28        1999\n",
       "6254934    01Ngy  2024-01-28        1984\n",
       "6254935    00UI9  2024-01-28        1968\n",
       "6254936    02lpl  2024-01-28        1976\n",
       "\n",
       "[6254937 rows x 3 columns]"
      ]
     },
     "execution_count": 307,
     "metadata": {},
     "output_type": "execute_result"
    }
   ],
   "source": [
    "gran_df = pd.read_parquet('data_granular\\gran_data.parquet')\n",
    "gran_df"
   ]
  },
  {
   "cell_type": "code",
   "execution_count": 308,
   "metadata": {},
   "outputs": [
    {
     "data": {
      "text/html": [
       "<div>\n",
       "<style scoped>\n",
       "    .dataframe tbody tr th:only-of-type {\n",
       "        vertical-align: middle;\n",
       "    }\n",
       "\n",
       "    .dataframe tbody tr th {\n",
       "        vertical-align: top;\n",
       "    }\n",
       "\n",
       "    .dataframe thead th {\n",
       "        text-align: right;\n",
       "    }\n",
       "</style>\n",
       "<table border=\"1\" class=\"dataframe\">\n",
       "  <thead>\n",
       "    <tr style=\"text-align: right;\">\n",
       "      <th></th>\n",
       "      <th>donor_id</th>\n",
       "      <th>visit_date</th>\n",
       "      <th>birth_date</th>\n",
       "    </tr>\n",
       "  </thead>\n",
       "  <tbody>\n",
       "    <tr>\n",
       "      <th>0</th>\n",
       "      <td>00000</td>\n",
       "      <td>2013-11-03</td>\n",
       "      <td>1964</td>\n",
       "    </tr>\n",
       "    <tr>\n",
       "      <th>1</th>\n",
       "      <td>00000</td>\n",
       "      <td>2014-05-26</td>\n",
       "      <td>1964</td>\n",
       "    </tr>\n",
       "    <tr>\n",
       "      <th>2</th>\n",
       "      <td>00000</td>\n",
       "      <td>2015-01-25</td>\n",
       "      <td>1964</td>\n",
       "    </tr>\n",
       "    <tr>\n",
       "      <th>3</th>\n",
       "      <td>00000</td>\n",
       "      <td>2015-08-09</td>\n",
       "      <td>1964</td>\n",
       "    </tr>\n",
       "    <tr>\n",
       "      <th>4</th>\n",
       "      <td>00000</td>\n",
       "      <td>2016-03-10</td>\n",
       "      <td>1964</td>\n",
       "    </tr>\n",
       "  </tbody>\n",
       "</table>\n",
       "</div>"
      ],
      "text/plain": [
       "  donor_id  visit_date  birth_date\n",
       "0    00000  2013-11-03        1964\n",
       "1    00000  2014-05-26        1964\n",
       "2    00000  2015-01-25        1964\n",
       "3    00000  2015-08-09        1964\n",
       "4    00000  2016-03-10        1964"
      ]
     },
     "execution_count": 308,
     "metadata": {},
     "output_type": "execute_result"
    }
   ],
   "source": [
    "gran_df.head()"
   ]
  },
  {
   "cell_type": "code",
   "execution_count": 309,
   "metadata": {},
   "outputs": [
    {
     "data": {
      "text/plain": [
       "donor_id      0\n",
       "visit_date    0\n",
       "birth_date    0\n",
       "dtype: int64"
      ]
     },
     "execution_count": 309,
     "metadata": {},
     "output_type": "execute_result"
    }
   ],
   "source": [
    "#checking null in the dataset\n",
    "gran_df.isna().sum()"
   ]
  },
  {
   "cell_type": "markdown",
   "metadata": {},
   "source": [
    "Theres no null in the dataset"
   ]
  },
  {
   "cell_type": "code",
   "execution_count": 310,
   "metadata": {},
   "outputs": [
    {
     "data": {
      "text/plain": [
       "2246893"
      ]
     },
     "execution_count": 310,
     "metadata": {},
     "output_type": "execute_result"
    }
   ],
   "source": [
    "#Check the number of donator in the database\n",
    "gran_df['donor_id'].nunique()"
   ]
  },
  {
   "cell_type": "code",
   "execution_count": 311,
   "metadata": {},
   "outputs": [],
   "source": [
    "gran_df['visit_date'] = pd.to_datetime(gran_df['visit_date'])"
   ]
  },
  {
   "cell_type": "code",
   "execution_count": 312,
   "metadata": {},
   "outputs": [],
   "source": [
    "sort_gran = gran_df.sort_values(by=['donor_id','visit_date'])"
   ]
  },
  {
   "cell_type": "code",
   "execution_count": 313,
   "metadata": {},
   "outputs": [
    {
     "data": {
      "text/html": [
       "<div>\n",
       "<style scoped>\n",
       "    .dataframe tbody tr th:only-of-type {\n",
       "        vertical-align: middle;\n",
       "    }\n",
       "\n",
       "    .dataframe tbody tr th {\n",
       "        vertical-align: top;\n",
       "    }\n",
       "\n",
       "    .dataframe thead th {\n",
       "        text-align: right;\n",
       "    }\n",
       "</style>\n",
       "<table border=\"1\" class=\"dataframe\">\n",
       "  <thead>\n",
       "    <tr style=\"text-align: right;\">\n",
       "      <th></th>\n",
       "      <th>donor_id</th>\n",
       "      <th>visit_date</th>\n",
       "      <th>birth_date</th>\n",
       "      <th>donor_age</th>\n",
       "    </tr>\n",
       "  </thead>\n",
       "  <tbody>\n",
       "    <tr>\n",
       "      <th>0</th>\n",
       "      <td>00000</td>\n",
       "      <td>2013-11-03</td>\n",
       "      <td>1964</td>\n",
       "      <td>49</td>\n",
       "    </tr>\n",
       "    <tr>\n",
       "      <th>1</th>\n",
       "      <td>00000</td>\n",
       "      <td>2014-05-26</td>\n",
       "      <td>1964</td>\n",
       "      <td>50</td>\n",
       "    </tr>\n",
       "    <tr>\n",
       "      <th>2</th>\n",
       "      <td>00000</td>\n",
       "      <td>2015-01-25</td>\n",
       "      <td>1964</td>\n",
       "      <td>51</td>\n",
       "    </tr>\n",
       "    <tr>\n",
       "      <th>3</th>\n",
       "      <td>00000</td>\n",
       "      <td>2015-08-09</td>\n",
       "      <td>1964</td>\n",
       "      <td>51</td>\n",
       "    </tr>\n",
       "    <tr>\n",
       "      <th>4</th>\n",
       "      <td>00000</td>\n",
       "      <td>2016-03-10</td>\n",
       "      <td>1964</td>\n",
       "      <td>52</td>\n",
       "    </tr>\n",
       "    <tr>\n",
       "      <th>...</th>\n",
       "      <td>...</td>\n",
       "      <td>...</td>\n",
       "      <td>...</td>\n",
       "      <td>...</td>\n",
       "    </tr>\n",
       "    <tr>\n",
       "      <th>6254879</th>\n",
       "      <td>09qw8</td>\n",
       "      <td>2024-01-28</td>\n",
       "      <td>1995</td>\n",
       "      <td>29</td>\n",
       "    </tr>\n",
       "    <tr>\n",
       "      <th>6254883</th>\n",
       "      <td>09qw9</td>\n",
       "      <td>2024-01-28</td>\n",
       "      <td>2001</td>\n",
       "      <td>23</td>\n",
       "    </tr>\n",
       "    <tr>\n",
       "      <th>6254890</th>\n",
       "      <td>09qwa</td>\n",
       "      <td>2024-01-28</td>\n",
       "      <td>1981</td>\n",
       "      <td>43</td>\n",
       "    </tr>\n",
       "    <tr>\n",
       "      <th>6254916</th>\n",
       "      <td>09qwb</td>\n",
       "      <td>2024-01-28</td>\n",
       "      <td>1977</td>\n",
       "      <td>47</td>\n",
       "    </tr>\n",
       "    <tr>\n",
       "      <th>6254925</th>\n",
       "      <td>09qwc</td>\n",
       "      <td>2024-01-28</td>\n",
       "      <td>2000</td>\n",
       "      <td>24</td>\n",
       "    </tr>\n",
       "  </tbody>\n",
       "</table>\n",
       "<p>6254937 rows × 4 columns</p>\n",
       "</div>"
      ],
      "text/plain": [
       "        donor_id visit_date  birth_date  donor_age\n",
       "0          00000 2013-11-03        1964         49\n",
       "1          00000 2014-05-26        1964         50\n",
       "2          00000 2015-01-25        1964         51\n",
       "3          00000 2015-08-09        1964         51\n",
       "4          00000 2016-03-10        1964         52\n",
       "...          ...        ...         ...        ...\n",
       "6254879    09qw8 2024-01-28        1995         29\n",
       "6254883    09qw9 2024-01-28        2001         23\n",
       "6254890    09qwa 2024-01-28        1981         43\n",
       "6254916    09qwb 2024-01-28        1977         47\n",
       "6254925    09qwc 2024-01-28        2000         24\n",
       "\n",
       "[6254937 rows x 4 columns]"
      ]
     },
     "execution_count": 313,
     "metadata": {},
     "output_type": "execute_result"
    }
   ],
   "source": [
    "sort_gran['donor_age'] = sort_gran['visit_date'].dt.year-sort_gran['birth_date']\n",
    "sort_gran"
   ]
  },
  {
   "cell_type": "markdown",
   "metadata": {},
   "source": [
    "From the age of the donor, we discovered there might be a data entry problem as there are donor who are more thn 100 years old donating the blood.\n",
    "Thus we will make the rule to only take donor who are from 18 until 65 years old (the max age of eligible to become blood donors) cite from PPUM website.\n",
    "https://www.ummc.edu.my/pesakit/blood-CRITERIA.asp?kodBM=#:~:text=Age%3A,donor%3A%2018%2D65%20years%20old"
   ]
  },
  {
   "cell_type": "code",
   "execution_count": 314,
   "metadata": {},
   "outputs": [
    {
     "data": {
      "text/html": [
       "<div>\n",
       "<style scoped>\n",
       "    .dataframe tbody tr th:only-of-type {\n",
       "        vertical-align: middle;\n",
       "    }\n",
       "\n",
       "    .dataframe tbody tr th {\n",
       "        vertical-align: top;\n",
       "    }\n",
       "\n",
       "    .dataframe thead th {\n",
       "        text-align: right;\n",
       "    }\n",
       "</style>\n",
       "<table border=\"1\" class=\"dataframe\">\n",
       "  <thead>\n",
       "    <tr style=\"text-align: right;\">\n",
       "      <th></th>\n",
       "      <th>donor_id</th>\n",
       "      <th>visit_date</th>\n",
       "      <th>birth_date</th>\n",
       "      <th>donor_age</th>\n",
       "    </tr>\n",
       "  </thead>\n",
       "  <tbody>\n",
       "    <tr>\n",
       "      <th>0</th>\n",
       "      <td>00000</td>\n",
       "      <td>2013-11-03</td>\n",
       "      <td>1964</td>\n",
       "      <td>49</td>\n",
       "    </tr>\n",
       "    <tr>\n",
       "      <th>1</th>\n",
       "      <td>00000</td>\n",
       "      <td>2014-05-26</td>\n",
       "      <td>1964</td>\n",
       "      <td>50</td>\n",
       "    </tr>\n",
       "    <tr>\n",
       "      <th>2</th>\n",
       "      <td>00000</td>\n",
       "      <td>2015-01-25</td>\n",
       "      <td>1964</td>\n",
       "      <td>51</td>\n",
       "    </tr>\n",
       "    <tr>\n",
       "      <th>3</th>\n",
       "      <td>00000</td>\n",
       "      <td>2015-08-09</td>\n",
       "      <td>1964</td>\n",
       "      <td>51</td>\n",
       "    </tr>\n",
       "    <tr>\n",
       "      <th>4</th>\n",
       "      <td>00000</td>\n",
       "      <td>2016-03-10</td>\n",
       "      <td>1964</td>\n",
       "      <td>52</td>\n",
       "    </tr>\n",
       "    <tr>\n",
       "      <th>...</th>\n",
       "      <td>...</td>\n",
       "      <td>...</td>\n",
       "      <td>...</td>\n",
       "      <td>...</td>\n",
       "    </tr>\n",
       "    <tr>\n",
       "      <th>6254879</th>\n",
       "      <td>09qw8</td>\n",
       "      <td>2024-01-28</td>\n",
       "      <td>1995</td>\n",
       "      <td>29</td>\n",
       "    </tr>\n",
       "    <tr>\n",
       "      <th>6254883</th>\n",
       "      <td>09qw9</td>\n",
       "      <td>2024-01-28</td>\n",
       "      <td>2001</td>\n",
       "      <td>23</td>\n",
       "    </tr>\n",
       "    <tr>\n",
       "      <th>6254890</th>\n",
       "      <td>09qwa</td>\n",
       "      <td>2024-01-28</td>\n",
       "      <td>1981</td>\n",
       "      <td>43</td>\n",
       "    </tr>\n",
       "    <tr>\n",
       "      <th>6254916</th>\n",
       "      <td>09qwb</td>\n",
       "      <td>2024-01-28</td>\n",
       "      <td>1977</td>\n",
       "      <td>47</td>\n",
       "    </tr>\n",
       "    <tr>\n",
       "      <th>6254925</th>\n",
       "      <td>09qwc</td>\n",
       "      <td>2024-01-28</td>\n",
       "      <td>2000</td>\n",
       "      <td>24</td>\n",
       "    </tr>\n",
       "  </tbody>\n",
       "</table>\n",
       "<p>6253233 rows × 4 columns</p>\n",
       "</div>"
      ],
      "text/plain": [
       "        donor_id visit_date  birth_date  donor_age\n",
       "0          00000 2013-11-03        1964         49\n",
       "1          00000 2014-05-26        1964         50\n",
       "2          00000 2015-01-25        1964         51\n",
       "3          00000 2015-08-09        1964         51\n",
       "4          00000 2016-03-10        1964         52\n",
       "...          ...        ...         ...        ...\n",
       "6254879    09qw8 2024-01-28        1995         29\n",
       "6254883    09qw9 2024-01-28        2001         23\n",
       "6254890    09qwa 2024-01-28        1981         43\n",
       "6254916    09qwb 2024-01-28        1977         47\n",
       "6254925    09qwc 2024-01-28        2000         24\n",
       "\n",
       "[6253233 rows x 4 columns]"
      ]
     },
     "execution_count": 314,
     "metadata": {},
     "output_type": "execute_result"
    }
   ],
   "source": [
    "#filter the donor age less or equal to 65\n",
    "sort_gran_fil = sort_gran[sort_gran['donor_age']<=65]\n",
    "sort_gran_fil\n"
   ]
  },
  {
   "cell_type": "markdown",
   "metadata": {},
   "source": [
    "To show does Malaysia Retain their blood donater, by looking at the frequency of repeated number of donation.\n",
    "We generalize all type of donation into blood donation"
   ]
  },
  {
   "cell_type": "code",
   "execution_count": 315,
   "metadata": {},
   "outputs": [
    {
     "data": {
      "text/html": [
       "<div>\n",
       "<style scoped>\n",
       "    .dataframe tbody tr th:only-of-type {\n",
       "        vertical-align: middle;\n",
       "    }\n",
       "\n",
       "    .dataframe tbody tr th {\n",
       "        vertical-align: top;\n",
       "    }\n",
       "\n",
       "    .dataframe thead th {\n",
       "        text-align: right;\n",
       "    }\n",
       "</style>\n",
       "<table border=\"1\" class=\"dataframe\">\n",
       "  <thead>\n",
       "    <tr style=\"text-align: right;\">\n",
       "      <th></th>\n",
       "      <th>donor_id</th>\n",
       "      <th>donation_count</th>\n",
       "    </tr>\n",
       "  </thead>\n",
       "  <tbody>\n",
       "    <tr>\n",
       "      <th>0</th>\n",
       "      <td>00000</td>\n",
       "      <td>11</td>\n",
       "    </tr>\n",
       "    <tr>\n",
       "      <th>1</th>\n",
       "      <td>00001</td>\n",
       "      <td>4</td>\n",
       "    </tr>\n",
       "    <tr>\n",
       "      <th>2</th>\n",
       "      <td>00002</td>\n",
       "      <td>12</td>\n",
       "    </tr>\n",
       "    <tr>\n",
       "      <th>3</th>\n",
       "      <td>00003</td>\n",
       "      <td>5</td>\n",
       "    </tr>\n",
       "    <tr>\n",
       "      <th>4</th>\n",
       "      <td>00004</td>\n",
       "      <td>3</td>\n",
       "    </tr>\n",
       "    <tr>\n",
       "      <th>...</th>\n",
       "      <td>...</td>\n",
       "      <td>...</td>\n",
       "    </tr>\n",
       "    <tr>\n",
       "      <th>2246494</th>\n",
       "      <td>09qw8</td>\n",
       "      <td>1</td>\n",
       "    </tr>\n",
       "    <tr>\n",
       "      <th>2246495</th>\n",
       "      <td>09qw9</td>\n",
       "      <td>1</td>\n",
       "    </tr>\n",
       "    <tr>\n",
       "      <th>2246496</th>\n",
       "      <td>09qwa</td>\n",
       "      <td>1</td>\n",
       "    </tr>\n",
       "    <tr>\n",
       "      <th>2246497</th>\n",
       "      <td>09qwb</td>\n",
       "      <td>1</td>\n",
       "    </tr>\n",
       "    <tr>\n",
       "      <th>2246498</th>\n",
       "      <td>09qwc</td>\n",
       "      <td>1</td>\n",
       "    </tr>\n",
       "  </tbody>\n",
       "</table>\n",
       "<p>2246499 rows × 2 columns</p>\n",
       "</div>"
      ],
      "text/plain": [
       "        donor_id  donation_count\n",
       "0          00000              11\n",
       "1          00001               4\n",
       "2          00002              12\n",
       "3          00003               5\n",
       "4          00004               3\n",
       "...          ...             ...\n",
       "2246494    09qw8               1\n",
       "2246495    09qw9               1\n",
       "2246496    09qwa               1\n",
       "2246497    09qwb               1\n",
       "2246498    09qwc               1\n",
       "\n",
       "[2246499 rows x 2 columns]"
      ]
     },
     "execution_count": 315,
     "metadata": {},
     "output_type": "execute_result"
    }
   ],
   "source": [
    "#group by donor id to get the number of their donations\n",
    "donor_donations = sort_gran_fil.groupby('donor_id').size().reset_index(name='donation_count')\n",
    "donor_donations"
   ]
  },
  {
   "cell_type": "code",
   "execution_count": 316,
   "metadata": {},
   "outputs": [
    {
     "data": {
      "text/plain": [
       "<Axes: ylabel='Frequency'>"
      ]
     },
     "execution_count": 316,
     "metadata": {},
     "output_type": "execute_result"
    },
    {
     "data": {
      "image/png": "[encoded data removed]",
      "text/plain": [
       "<Figure size 640x480 with 1 Axes>"
      ]
     },
     "metadata": {},
     "output_type": "display_data"
    }
   ],
   "source": [
    "#Plot Histogram for the donation count to see the distribution\n",
    "donor_donations[donor_donations['donation_count']<=20].plot(kind='hist', bins=21)"
   ]
  },
  {
   "cell_type": "markdown",
   "metadata": {},
   "source": [
    "Since using histogram does not give much insights except there are a lot of people who come one time to donate blood. Lets try using Pie Chart for two category one time donor and a repeater"
   ]
  },
  {
   "cell_type": "code",
   "execution_count": 317,
   "metadata": {},
   "outputs": [
    {
     "data": {
      "text/html": [
       "<div>\n",
       "<style scoped>\n",
       "    .dataframe tbody tr th:only-of-type {\n",
       "        vertical-align: middle;\n",
       "    }\n",
       "\n",
       "    .dataframe tbody tr th {\n",
       "        vertical-align: top;\n",
       "    }\n",
       "\n",
       "    .dataframe thead th {\n",
       "        text-align: right;\n",
       "    }\n",
       "</style>\n",
       "<table border=\"1\" class=\"dataframe\">\n",
       "  <thead>\n",
       "    <tr style=\"text-align: right;\">\n",
       "      <th></th>\n",
       "      <th>donor_id</th>\n",
       "      <th>donation_count</th>\n",
       "      <th>repeater</th>\n",
       "    </tr>\n",
       "  </thead>\n",
       "  <tbody>\n",
       "    <tr>\n",
       "      <th>0</th>\n",
       "      <td>00000</td>\n",
       "      <td>11</td>\n",
       "      <td>True</td>\n",
       "    </tr>\n",
       "    <tr>\n",
       "      <th>1</th>\n",
       "      <td>00001</td>\n",
       "      <td>4</td>\n",
       "      <td>True</td>\n",
       "    </tr>\n",
       "    <tr>\n",
       "      <th>2</th>\n",
       "      <td>00002</td>\n",
       "      <td>12</td>\n",
       "      <td>True</td>\n",
       "    </tr>\n",
       "    <tr>\n",
       "      <th>3</th>\n",
       "      <td>00003</td>\n",
       "      <td>5</td>\n",
       "      <td>True</td>\n",
       "    </tr>\n",
       "    <tr>\n",
       "      <th>4</th>\n",
       "      <td>00004</td>\n",
       "      <td>3</td>\n",
       "      <td>True</td>\n",
       "    </tr>\n",
       "    <tr>\n",
       "      <th>5</th>\n",
       "      <td>00005</td>\n",
       "      <td>9</td>\n",
       "      <td>True</td>\n",
       "    </tr>\n",
       "    <tr>\n",
       "      <th>6</th>\n",
       "      <td>00006</td>\n",
       "      <td>3</td>\n",
       "      <td>True</td>\n",
       "    </tr>\n",
       "    <tr>\n",
       "      <th>7</th>\n",
       "      <td>00007</td>\n",
       "      <td>15</td>\n",
       "      <td>True</td>\n",
       "    </tr>\n",
       "    <tr>\n",
       "      <th>8</th>\n",
       "      <td>00008</td>\n",
       "      <td>5</td>\n",
       "      <td>True</td>\n",
       "    </tr>\n",
       "    <tr>\n",
       "      <th>9</th>\n",
       "      <td>00009</td>\n",
       "      <td>19</td>\n",
       "      <td>True</td>\n",
       "    </tr>\n",
       "  </tbody>\n",
       "</table>\n",
       "</div>"
      ],
      "text/plain": [
       "  donor_id  donation_count  repeater\n",
       "0    00000              11      True\n",
       "1    00001               4      True\n",
       "2    00002              12      True\n",
       "3    00003               5      True\n",
       "4    00004               3      True\n",
       "5    00005               9      True\n",
       "6    00006               3      True\n",
       "7    00007              15      True\n",
       "8    00008               5      True\n",
       "9    00009              19      True"
      ]
     },
     "execution_count": 317,
     "metadata": {},
     "output_type": "execute_result"
    }
   ],
   "source": [
    "#group the donor into repeater or not\n",
    "repeater = []\n",
    "for idx,val in enumerate(donor_donations['donation_count']):\n",
    "    if val > 1:\n",
    "        repeater.append(True)\n",
    "    else:\n",
    "        repeater.append(False)\n",
    "donor_donations['repeater'] = repeater\n",
    "donor_donations.head(10)"
   ]
  },
  {
   "cell_type": "code",
   "execution_count": 318,
   "metadata": {},
   "outputs": [
    {
     "data": {
      "text/plain": [
       "([<matplotlib.patches.Wedge at 0x2a106667890>,\n",
       "  <matplotlib.patches.Wedge at 0x2a004431290>],\n",
       " [Text(0.21329022576438003, 3.2930999498334974, 'Repeater'),\n",
       "  Text(-0.21329022576438045, -3.2930999498334974, 'One Time')],\n",
       " [Text(0.11634012314420727, 1.7962363362728164, '47.94%'),\n",
       "  Text(-0.1163401231442075, -1.7962363362728164, '52.06%')])"
      ]
     },
     "execution_count": 318,
     "metadata": {},
     "output_type": "execute_result"
    },
    {
     "data": {
      "image/png": "[encoded data removed]",
      "text/plain": [
       "<Figure size 640x480 with 1 Axes>"
      ]
     },
     "metadata": {},
     "output_type": "display_data"
    }
   ],
   "source": [
    "#Plot PieChart for repeater or not\n",
    "one_time_count = donor_donations[donor_donations['repeater']==False]['repeater'].count()\n",
    "repeater_count = donor_donations[donor_donations['repeater']==True]['repeater'].count()\n",
    "\n",
    "fig,ax= plt.subplots()\n",
    "label = ['Repeater','One Time']\n",
    "sizes = [repeater_count,one_time_count]\n",
    "ax.pie(sizes,labels=label,autopct='%1.2f%%',radius=3)\n"
   ]
  },
  {
   "cell_type": "code",
   "execution_count": 319,
   "metadata": {},
   "outputs": [
    {
     "data": {
      "text/html": [
       "<div>\n",
       "<style scoped>\n",
       "    .dataframe tbody tr th:only-of-type {\n",
       "        vertical-align: middle;\n",
       "    }\n",
       "\n",
       "    .dataframe tbody tr th {\n",
       "        vertical-align: top;\n",
       "    }\n",
       "\n",
       "    .dataframe thead th {\n",
       "        text-align: right;\n",
       "    }\n",
       "</style>\n",
       "<table border=\"1\" class=\"dataframe\">\n",
       "  <thead>\n",
       "    <tr style=\"text-align: right;\">\n",
       "      <th></th>\n",
       "      <th>donor_id</th>\n",
       "      <th>donation_count</th>\n",
       "      <th>repeater</th>\n",
       "      <th>donation_count_group</th>\n",
       "    </tr>\n",
       "  </thead>\n",
       "  <tbody>\n",
       "    <tr>\n",
       "      <th>0</th>\n",
       "      <td>00000</td>\n",
       "      <td>11</td>\n",
       "      <td>True</td>\n",
       "      <td>8+ Donations</td>\n",
       "    </tr>\n",
       "    <tr>\n",
       "      <th>1</th>\n",
       "      <td>00001</td>\n",
       "      <td>4</td>\n",
       "      <td>True</td>\n",
       "      <td>4-7 Donations</td>\n",
       "    </tr>\n",
       "    <tr>\n",
       "      <th>2</th>\n",
       "      <td>00002</td>\n",
       "      <td>12</td>\n",
       "      <td>True</td>\n",
       "      <td>8+ Donations</td>\n",
       "    </tr>\n",
       "    <tr>\n",
       "      <th>3</th>\n",
       "      <td>00003</td>\n",
       "      <td>5</td>\n",
       "      <td>True</td>\n",
       "      <td>4-7 Donations</td>\n",
       "    </tr>\n",
       "    <tr>\n",
       "      <th>4</th>\n",
       "      <td>00004</td>\n",
       "      <td>3</td>\n",
       "      <td>True</td>\n",
       "      <td>2-3 Donations</td>\n",
       "    </tr>\n",
       "    <tr>\n",
       "      <th>...</th>\n",
       "      <td>...</td>\n",
       "      <td>...</td>\n",
       "      <td>...</td>\n",
       "      <td>...</td>\n",
       "    </tr>\n",
       "    <tr>\n",
       "      <th>2246494</th>\n",
       "      <td>09qw8</td>\n",
       "      <td>1</td>\n",
       "      <td>False</td>\n",
       "      <td>New Donor</td>\n",
       "    </tr>\n",
       "    <tr>\n",
       "      <th>2246495</th>\n",
       "      <td>09qw9</td>\n",
       "      <td>1</td>\n",
       "      <td>False</td>\n",
       "      <td>New Donor</td>\n",
       "    </tr>\n",
       "    <tr>\n",
       "      <th>2246496</th>\n",
       "      <td>09qwa</td>\n",
       "      <td>1</td>\n",
       "      <td>False</td>\n",
       "      <td>New Donor</td>\n",
       "    </tr>\n",
       "    <tr>\n",
       "      <th>2246497</th>\n",
       "      <td>09qwb</td>\n",
       "      <td>1</td>\n",
       "      <td>False</td>\n",
       "      <td>New Donor</td>\n",
       "    </tr>\n",
       "    <tr>\n",
       "      <th>2246498</th>\n",
       "      <td>09qwc</td>\n",
       "      <td>1</td>\n",
       "      <td>False</td>\n",
       "      <td>New Donor</td>\n",
       "    </tr>\n",
       "  </tbody>\n",
       "</table>\n",
       "<p>2246499 rows × 4 columns</p>\n",
       "</div>"
      ],
      "text/plain": [
       "        donor_id  donation_count  repeater donation_count_group\n",
       "0          00000              11      True         8+ Donations\n",
       "1          00001               4      True        4-7 Donations\n",
       "2          00002              12      True         8+ Donations\n",
       "3          00003               5      True        4-7 Donations\n",
       "4          00004               3      True        2-3 Donations\n",
       "...          ...             ...       ...                  ...\n",
       "2246494    09qw8               1     False            New Donor\n",
       "2246495    09qw9               1     False            New Donor\n",
       "2246496    09qwa               1     False            New Donor\n",
       "2246497    09qwb               1     False            New Donor\n",
       "2246498    09qwc               1     False            New Donor\n",
       "\n",
       "[2246499 rows x 4 columns]"
      ]
     },
     "execution_count": 319,
     "metadata": {},
     "output_type": "execute_result"
    }
   ],
   "source": [
    "count_bins = [1, 2, 4, 7, float('inf')]\n",
    "count_labels = ['New Donor','2-3 Donations','4-7 Donations','8+ Donations']\n",
    "donor_donations['donation_count_group'] = pd.cut(donor_donations['donation_count'],bins=count_bins,labels=count_labels,right=False)\n",
    "donor_donations"
   ]
  },
  {
   "cell_type": "code",
   "execution_count": 320,
   "metadata": {},
   "outputs": [],
   "source": [
    "#Banding the donation_count\n",
    "first_group = donor_donations[donor_donations['donation_count_group']=='2-3 Donations']['donor_id'].count()\n",
    "second_group = donor_donations[donor_donations['donation_count_group']=='4-7 Donations']['donor_id'].count()\n",
    "third_group = donor_donations[donor_donations['donation_count_group']=='8+ Donations']['donor_id'].count()"
   ]
  },
  {
   "cell_type": "code",
   "execution_count": 321,
   "metadata": {},
   "outputs": [
    {
     "data": {
      "text/plain": [
       "([<matplotlib.patches.Wedge at 0x2a00446a690>,\n",
       "  <matplotlib.patches.Wedge at 0x2a004393950>,\n",
       "  <matplotlib.patches.Wedge at 0x2a004390e10>,\n",
       "  <matplotlib.patches.Wedge at 0x2a004392050>],\n",
       " [Text(2.116523729295461, 2.531862417930571, '2-3'),\n",
       "  Text(-1.7014823626819744, 2.8275356354044714, '4-7'),\n",
       "  Text(-3.042726720495298, 1.2774247940226968, '8+'),\n",
       "  Text(-0.21329037992551605, -3.2930999398486573, '1')],\n",
       " [Text(1.1544674887066149, 1.3810158643257655, '27.84%'),\n",
       "  Text(-0.9280812887356222, 1.542292164766075, '11.57%'),\n",
       "  Text(-1.6596691202701623, 0.6967771603760162, '8.53%'),\n",
       "  Text(-0.11634020723209965, -1.79623633082654, '52.06%')])"
      ]
     },
     "execution_count": 321,
     "metadata": {},
     "output_type": "execute_result"
    },
    {
     "data": {
      "image/png": "[encoded data removed]",
      "text/plain": [
       "<Figure size 640x480 with 1 Axes>"
      ]
     },
     "metadata": {},
     "output_type": "display_data"
    }
   ],
   "source": [
    "#Pie Chart for the group of Repeater\n",
    "fig,ax= plt.subplots()\n",
    "label = ['2-3','4-7','8+','1']\n",
    "sizes = [first_group,second_group,third_group,one_time_count]\n",
    "ax.pie(sizes,labels=label,autopct='%1.2f%%',radius=3)"
   ]
  },
  {
   "cell_type": "code",
   "execution_count": 322,
   "metadata": {},
   "outputs": [
    {
     "data": {
      "image/png": "[encoded data removed]",
      "text/plain": [
       "<Figure size 1200x300 with 1 Axes>"
      ]
     },
     "metadata": {},
     "output_type": "display_data"
    }
   ],
   "source": [
    "#Plot a two level Pie Chart\n",
    "fig,ax = plt.subplots(figsize=(12,3))\n",
    "ax.axis('equal')\n",
    "width = 0.8\n",
    "\n",
    "plt.text(0, 4, 'Distribution of Blood Donor', horizontalalignment='center', verticalalignment='top', fontsize=20,)\n",
    "\n",
    "#label and size for outer donut chart\n",
    "sizes_out = [first_group,second_group,third_group,one_time_count]\n",
    "label_out = ['2-3','4-7','8+','1']\n",
    "\n",
    "#label and size for inner donut chart\n",
    "label_in = ['Repeater','One Time']\n",
    "sizes_in = [repeater_count,one_time_count]\n",
    "\n",
    "\n",
    "\n",
    "# Calculate the percentages for the outer ring\n",
    "percentages_out = [f\"{(size / sum(sizes_out[0:3]) * 100):.1f}%\" for size in sizes_out]\n",
    "\n",
    "# Update labels for the outer ring with percentages\n",
    "label_out_with_perc = [f\"{label} ({perc})\" for label, perc in zip(label_out, percentages_out)]\n",
    "label_out_with_perc[3] = '' #To make the 1 time donor invisible\n",
    "\n",
    "# Calculate the percentages for the inner ring\n",
    "percentages_in = [f\"{(size / sum(sizes_in) * 100):.1f}%\" for size in sizes_in]\n",
    "\n",
    "# Update labels for the inner ring with percentages\n",
    "label_in_with_perc = [f\"{label} ({perc})\" for label, perc in zip(label_in, percentages_in)]\n",
    "\n",
    "\n",
    "#Outer Ring (Donation Count Band)\n",
    "cm = plt.get_cmap(\"tab20c\")\n",
    "\n",
    "cout = cm(np.array([9,10,11,13]))\n",
    "cout[3] = mcolors.to_rgba('white')  # Convert 'white' to RGBA\n",
    "pie, *_ = ax.pie(size_out, radius=3, labels=label_out_with_perc, colors=cout)\n",
    "plt.setp(pie, width=width, edgecolor='white',)\n",
    "\n",
    "#Inner Ring (Repeater Or Not)\n",
    "cin = cm(np.array([8,12]))\n",
    "pie2, *_= ax.pie(sizes_in, radius=3-width, labels=label_in_with_perc,\n",
    "                 labeldistance=0.9, colors=cin,rotatelabels=0)\n",
    "plt.setp(pie2, width=width, edgecolor='white')\n",
    "\n",
    "image_name = 'doughnut.png'\n",
    "plt.savefig(image_dir+image_name, bbox_inches='tight')"
   ]
  },
  {
   "cell_type": "markdown",
   "metadata": {},
   "source": [
    "This is a good for a summary report but its not suitable for daily report. I will add for daily data."
   ]
  },
  {
   "cell_type": "code",
   "execution_count": 323,
   "metadata": {},
   "outputs": [],
   "source": [
    "#Getting all latest date donor\n",
    "latest_date = max(sort_gran_fil['visit_date'])\n",
    "latest_donor = sort_gran_fil[sort_gran_fil['visit_date']==latest_date]\n"
   ]
  },
  {
   "cell_type": "code",
   "execution_count": 324,
   "metadata": {},
   "outputs": [
    {
     "data": {
      "text/html": [
       "<div>\n",
       "<style scoped>\n",
       "    .dataframe tbody tr th:only-of-type {\n",
       "        vertical-align: middle;\n",
       "    }\n",
       "\n",
       "    .dataframe tbody tr th {\n",
       "        vertical-align: top;\n",
       "    }\n",
       "\n",
       "    .dataframe thead th {\n",
       "        text-align: right;\n",
       "    }\n",
       "</style>\n",
       "<table border=\"1\" class=\"dataframe\">\n",
       "  <thead>\n",
       "    <tr style=\"text-align: right;\">\n",
       "      <th></th>\n",
       "      <th>donor_id</th>\n",
       "      <th>visit_date</th>\n",
       "      <th>birth_date</th>\n",
       "      <th>donor_age</th>\n",
       "      <th>donations_count</th>\n",
       "    </tr>\n",
       "  </thead>\n",
       "  <tbody>\n",
       "    <tr>\n",
       "      <th>0</th>\n",
       "      <td>0008E</td>\n",
       "      <td>2024-01-28</td>\n",
       "      <td>1972</td>\n",
       "      <td>52</td>\n",
       "      <td>4</td>\n",
       "    </tr>\n",
       "    <tr>\n",
       "      <th>1</th>\n",
       "      <td>0008X</td>\n",
       "      <td>2024-01-28</td>\n",
       "      <td>1971</td>\n",
       "      <td>53</td>\n",
       "      <td>19</td>\n",
       "    </tr>\n",
       "    <tr>\n",
       "      <th>2</th>\n",
       "      <td>000BF</td>\n",
       "      <td>2024-01-28</td>\n",
       "      <td>1995</td>\n",
       "      <td>29</td>\n",
       "      <td>18</td>\n",
       "    </tr>\n",
       "    <tr>\n",
       "      <th>3</th>\n",
       "      <td>000Hf</td>\n",
       "      <td>2024-01-28</td>\n",
       "      <td>1995</td>\n",
       "      <td>29</td>\n",
       "      <td>3</td>\n",
       "    </tr>\n",
       "    <tr>\n",
       "      <th>4</th>\n",
       "      <td>000Lc</td>\n",
       "      <td>2024-01-28</td>\n",
       "      <td>1985</td>\n",
       "      <td>39</td>\n",
       "      <td>10</td>\n",
       "    </tr>\n",
       "    <tr>\n",
       "      <th>5</th>\n",
       "      <td>000Qm</td>\n",
       "      <td>2024-01-28</td>\n",
       "      <td>1961</td>\n",
       "      <td>63</td>\n",
       "      <td>8</td>\n",
       "    </tr>\n",
       "    <tr>\n",
       "      <th>6</th>\n",
       "      <td>000Sp</td>\n",
       "      <td>2024-01-28</td>\n",
       "      <td>1987</td>\n",
       "      <td>37</td>\n",
       "      <td>24</td>\n",
       "    </tr>\n",
       "    <tr>\n",
       "      <th>7</th>\n",
       "      <td>000VZ</td>\n",
       "      <td>2024-01-28</td>\n",
       "      <td>1990</td>\n",
       "      <td>34</td>\n",
       "      <td>5</td>\n",
       "    </tr>\n",
       "    <tr>\n",
       "      <th>8</th>\n",
       "      <td>000qi</td>\n",
       "      <td>2024-01-28</td>\n",
       "      <td>1976</td>\n",
       "      <td>48</td>\n",
       "      <td>4</td>\n",
       "    </tr>\n",
       "    <tr>\n",
       "      <th>9</th>\n",
       "      <td>000sx</td>\n",
       "      <td>2024-01-28</td>\n",
       "      <td>1990</td>\n",
       "      <td>34</td>\n",
       "      <td>12</td>\n",
       "    </tr>\n",
       "  </tbody>\n",
       "</table>\n",
       "</div>"
      ],
      "text/plain": [
       "  donor_id visit_date  birth_date  donor_age  donations_count\n",
       "0    0008E 2024-01-28        1972         52                4\n",
       "1    0008X 2024-01-28        1971         53               19\n",
       "2    000BF 2024-01-28        1995         29               18\n",
       "3    000Hf 2024-01-28        1995         29                3\n",
       "4    000Lc 2024-01-28        1985         39               10\n",
       "5    000Qm 2024-01-28        1961         63                8\n",
       "6    000Sp 2024-01-28        1987         37               24\n",
       "7    000VZ 2024-01-28        1990         34                5\n",
       "8    000qi 2024-01-28        1976         48                4\n",
       "9    000sx 2024-01-28        1990         34               12"
      ]
     },
     "execution_count": 324,
     "metadata": {},
     "output_type": "execute_result"
    }
   ],
   "source": [
    "# Merge the two dataframes on 'donor_id'\n",
    "latest_donor = latest_donor.merge(donor_donations[['donor_id', 'donation_count']], on='donor_id', how='left')\n",
    "\n",
    "# Rename the 'donation_count' column to 'donations_count'\n",
    "latest_donor.rename(columns={'donation_count': 'donations_count'}, inplace=True)\n",
    "\n",
    "# Display the first 10 rows of the updated dataframe\n",
    "latest_donor.head(10)\n"
   ]
  },
  {
   "cell_type": "code",
   "execution_count": 325,
   "metadata": {},
   "outputs": [
    {
     "data": {
      "text/plain": [
       "402"
      ]
     },
     "execution_count": 325,
     "metadata": {},
     "output_type": "execute_result"
    }
   ],
   "source": [
    "latest_donor[latest_donor['donations_count']== 1]['donations_count'].count()"
   ]
  },
  {
   "cell_type": "code",
   "execution_count": 326,
   "metadata": {},
   "outputs": [
    {
     "data": {
      "text/plain": [
       "['New Donor', '2-3 Donations', '4-7 Donations', '8+ Donations']"
      ]
     },
     "execution_count": 326,
     "metadata": {},
     "output_type": "execute_result"
    }
   ],
   "source": [
    "#Banding the donation_count\n",
    "new_latest = latest_donor[latest_donor['donations_count']== 1]['donations_count'].count()\n",
    "first_group_latest = latest_donor[(latest_donor['donations_count']>= 2)&(latest_donor['donations_count']<=3)]['donations_count'].count()\n",
    "second_group_latest = latest_donor[(latest_donor['donations_count']>= 4)&(latest_donor['donations_count']<=7)]['donations_count'].count()\n",
    "third_group_latest = latest_donor[(latest_donor['donations_count']>=8)]['donations_count'].count()\n",
    "\n",
    "values = [new_latest,first_group_latest,second_group_latest,third_group_latest]\n",
    "values\n",
    "labels_latest = ['New Donor','2-3 Donations','4-7 Donations','8+ Donations']\n",
    "labels_latest\n"
   ]
  },
  {
   "cell_type": "code",
   "execution_count": 327,
   "metadata": {},
   "outputs": [],
   "source": [
    "count_bins = [1, 2, 4, 7, float('inf')]\n",
    "count_labels = ['New Donor','2-3 Donations','4-7 Donations','8+ Donations']\n",
    "latest_donor['donations_count_group'] = pd.cut(latest_donor['donations_count'],\n",
    "                                                bins=count_bins,\n",
    "                                                labels=count_labels,\n",
    "                                                right=False)\n",
    "\n"
   ]
  },
  {
   "cell_type": "code",
   "execution_count": 328,
   "metadata": {},
   "outputs": [],
   "source": [
    "#Banding the age to Age Group with the newdonors csv file as reference\n",
    "age_bins = [17, 24, 29, 34, 39, 44, 49, 54, 59, 65]\n",
    "age_labels = ['17-24','25-29','30-34','35-39','40-44','45-49','50-54','55-59','60-65']\n",
    "latest_donor['donor_age_group'] = pd.cut(latest_donor['donor_age'],bins=age_bins,labels=age_labels)\n"
   ]
  },
  {
   "cell_type": "code",
   "execution_count": 329,
   "metadata": {},
   "outputs": [
    {
     "data": {
      "text/html": [
       "<div>\n",
       "<style scoped>\n",
       "    .dataframe tbody tr th:only-of-type {\n",
       "        vertical-align: middle;\n",
       "    }\n",
       "\n",
       "    .dataframe tbody tr th {\n",
       "        vertical-align: top;\n",
       "    }\n",
       "\n",
       "    .dataframe thead th {\n",
       "        text-align: right;\n",
       "    }\n",
       "</style>\n",
       "<table border=\"1\" class=\"dataframe\">\n",
       "  <thead>\n",
       "    <tr style=\"text-align: right;\">\n",
       "      <th></th>\n",
       "      <th>donor_id</th>\n",
       "      <th>visit_date</th>\n",
       "      <th>birth_date</th>\n",
       "      <th>donor_age</th>\n",
       "      <th>donations_count</th>\n",
       "      <th>donations_count_group</th>\n",
       "      <th>donor_age_group</th>\n",
       "    </tr>\n",
       "  </thead>\n",
       "  <tbody>\n",
       "    <tr>\n",
       "      <th>0</th>\n",
       "      <td>0008E</td>\n",
       "      <td>2024-01-28</td>\n",
       "      <td>1972</td>\n",
       "      <td>52</td>\n",
       "      <td>4</td>\n",
       "      <td>4-7 Donations</td>\n",
       "      <td>50-54</td>\n",
       "    </tr>\n",
       "    <tr>\n",
       "      <th>1</th>\n",
       "      <td>0008X</td>\n",
       "      <td>2024-01-28</td>\n",
       "      <td>1971</td>\n",
       "      <td>53</td>\n",
       "      <td>19</td>\n",
       "      <td>8+ Donations</td>\n",
       "      <td>50-54</td>\n",
       "    </tr>\n",
       "    <tr>\n",
       "      <th>2</th>\n",
       "      <td>000BF</td>\n",
       "      <td>2024-01-28</td>\n",
       "      <td>1995</td>\n",
       "      <td>29</td>\n",
       "      <td>18</td>\n",
       "      <td>8+ Donations</td>\n",
       "      <td>25-29</td>\n",
       "    </tr>\n",
       "    <tr>\n",
       "      <th>3</th>\n",
       "      <td>000Hf</td>\n",
       "      <td>2024-01-28</td>\n",
       "      <td>1995</td>\n",
       "      <td>29</td>\n",
       "      <td>3</td>\n",
       "      <td>2-3 Donations</td>\n",
       "      <td>25-29</td>\n",
       "    </tr>\n",
       "    <tr>\n",
       "      <th>4</th>\n",
       "      <td>000Lc</td>\n",
       "      <td>2024-01-28</td>\n",
       "      <td>1985</td>\n",
       "      <td>39</td>\n",
       "      <td>10</td>\n",
       "      <td>8+ Donations</td>\n",
       "      <td>35-39</td>\n",
       "    </tr>\n",
       "    <tr>\n",
       "      <th>...</th>\n",
       "      <td>...</td>\n",
       "      <td>...</td>\n",
       "      <td>...</td>\n",
       "      <td>...</td>\n",
       "      <td>...</td>\n",
       "      <td>...</td>\n",
       "      <td>...</td>\n",
       "    </tr>\n",
       "    <tr>\n",
       "      <th>2644</th>\n",
       "      <td>09qw8</td>\n",
       "      <td>2024-01-28</td>\n",
       "      <td>1995</td>\n",
       "      <td>29</td>\n",
       "      <td>1</td>\n",
       "      <td>New Donor</td>\n",
       "      <td>25-29</td>\n",
       "    </tr>\n",
       "    <tr>\n",
       "      <th>2645</th>\n",
       "      <td>09qw9</td>\n",
       "      <td>2024-01-28</td>\n",
       "      <td>2001</td>\n",
       "      <td>23</td>\n",
       "      <td>1</td>\n",
       "      <td>New Donor</td>\n",
       "      <td>17-24</td>\n",
       "    </tr>\n",
       "    <tr>\n",
       "      <th>2646</th>\n",
       "      <td>09qwa</td>\n",
       "      <td>2024-01-28</td>\n",
       "      <td>1981</td>\n",
       "      <td>43</td>\n",
       "      <td>1</td>\n",
       "      <td>New Donor</td>\n",
       "      <td>40-44</td>\n",
       "    </tr>\n",
       "    <tr>\n",
       "      <th>2647</th>\n",
       "      <td>09qwb</td>\n",
       "      <td>2024-01-28</td>\n",
       "      <td>1977</td>\n",
       "      <td>47</td>\n",
       "      <td>1</td>\n",
       "      <td>New Donor</td>\n",
       "      <td>45-49</td>\n",
       "    </tr>\n",
       "    <tr>\n",
       "      <th>2648</th>\n",
       "      <td>09qwc</td>\n",
       "      <td>2024-01-28</td>\n",
       "      <td>2000</td>\n",
       "      <td>24</td>\n",
       "      <td>1</td>\n",
       "      <td>New Donor</td>\n",
       "      <td>17-24</td>\n",
       "    </tr>\n",
       "  </tbody>\n",
       "</table>\n",
       "<p>2649 rows × 7 columns</p>\n",
       "</div>"
      ],
      "text/plain": [
       "     donor_id visit_date  birth_date  donor_age  donations_count  \\\n",
       "0       0008E 2024-01-28        1972         52                4   \n",
       "1       0008X 2024-01-28        1971         53               19   \n",
       "2       000BF 2024-01-28        1995         29               18   \n",
       "3       000Hf 2024-01-28        1995         29                3   \n",
       "4       000Lc 2024-01-28        1985         39               10   \n",
       "...       ...        ...         ...        ...              ...   \n",
       "2644    09qw8 2024-01-28        1995         29                1   \n",
       "2645    09qw9 2024-01-28        2001         23                1   \n",
       "2646    09qwa 2024-01-28        1981         43                1   \n",
       "2647    09qwb 2024-01-28        1977         47                1   \n",
       "2648    09qwc 2024-01-28        2000         24                1   \n",
       "\n",
       "     donations_count_group donor_age_group  \n",
       "0            4-7 Donations           50-54  \n",
       "1             8+ Donations           50-54  \n",
       "2             8+ Donations           25-29  \n",
       "3            2-3 Donations           25-29  \n",
       "4             8+ Donations           35-39  \n",
       "...                    ...             ...  \n",
       "2644             New Donor           25-29  \n",
       "2645             New Donor           17-24  \n",
       "2646             New Donor           40-44  \n",
       "2647             New Donor           45-49  \n",
       "2648             New Donor           17-24  \n",
       "\n",
       "[2649 rows x 7 columns]"
      ]
     },
     "execution_count": 329,
     "metadata": {},
     "output_type": "execute_result"
    }
   ],
   "source": [
    "latest_donor"
   ]
  },
  {
   "cell_type": "code",
   "execution_count": 330,
   "metadata": {},
   "outputs": [
    {
     "name": "stderr",
     "output_type": "stream",
     "text": [
      "C:\\Users\\DataMicron\\AppData\\Local\\Temp\\ipykernel_26300\\2315077890.py:1: FutureWarning:\n",
      "\n",
      "The default of observed=False is deprecated and will be changed to True in a future version of pandas. Pass observed=False to retain current behavior or observed=True to adopt the future default and silence this warning.\n",
      "\n"
     ]
    },
    {
     "data": {
      "text/html": [
       "<div>\n",
       "<style scoped>\n",
       "    .dataframe tbody tr th:only-of-type {\n",
       "        vertical-align: middle;\n",
       "    }\n",
       "\n",
       "    .dataframe tbody tr th {\n",
       "        vertical-align: top;\n",
       "    }\n",
       "\n",
       "    .dataframe thead th {\n",
       "        text-align: right;\n",
       "    }\n",
       "</style>\n",
       "<table border=\"1\" class=\"dataframe\">\n",
       "  <thead>\n",
       "    <tr style=\"text-align: right;\">\n",
       "      <th>donations_count_group</th>\n",
       "      <th>New Donor</th>\n",
       "      <th>2-3 Donations</th>\n",
       "      <th>4-7 Donations</th>\n",
       "      <th>8+ Donations</th>\n",
       "    </tr>\n",
       "    <tr>\n",
       "      <th>donor_age_group</th>\n",
       "      <th></th>\n",
       "      <th></th>\n",
       "      <th></th>\n",
       "      <th></th>\n",
       "    </tr>\n",
       "  </thead>\n",
       "  <tbody>\n",
       "    <tr>\n",
       "      <th>17-24</th>\n",
       "      <td>70</td>\n",
       "      <td>79</td>\n",
       "      <td>35</td>\n",
       "      <td>20</td>\n",
       "    </tr>\n",
       "    <tr>\n",
       "      <th>25-29</th>\n",
       "      <td>80</td>\n",
       "      <td>99</td>\n",
       "      <td>101</td>\n",
       "      <td>116</td>\n",
       "    </tr>\n",
       "    <tr>\n",
       "      <th>30-34</th>\n",
       "      <td>72</td>\n",
       "      <td>107</td>\n",
       "      <td>97</td>\n",
       "      <td>163</td>\n",
       "    </tr>\n",
       "    <tr>\n",
       "      <th>35-39</th>\n",
       "      <td>66</td>\n",
       "      <td>100</td>\n",
       "      <td>91</td>\n",
       "      <td>196</td>\n",
       "    </tr>\n",
       "    <tr>\n",
       "      <th>40-44</th>\n",
       "      <td>47</td>\n",
       "      <td>95</td>\n",
       "      <td>86</td>\n",
       "      <td>204</td>\n",
       "    </tr>\n",
       "    <tr>\n",
       "      <th>45-49</th>\n",
       "      <td>34</td>\n",
       "      <td>54</td>\n",
       "      <td>47</td>\n",
       "      <td>198</td>\n",
       "    </tr>\n",
       "    <tr>\n",
       "      <th>50-54</th>\n",
       "      <td>18</td>\n",
       "      <td>28</td>\n",
       "      <td>55</td>\n",
       "      <td>118</td>\n",
       "    </tr>\n",
       "    <tr>\n",
       "      <th>55-59</th>\n",
       "      <td>14</td>\n",
       "      <td>18</td>\n",
       "      <td>16</td>\n",
       "      <td>98</td>\n",
       "    </tr>\n",
       "    <tr>\n",
       "      <th>60-65</th>\n",
       "      <td>0</td>\n",
       "      <td>2</td>\n",
       "      <td>4</td>\n",
       "      <td>20</td>\n",
       "    </tr>\n",
       "  </tbody>\n",
       "</table>\n",
       "</div>"
      ],
      "text/plain": [
       "donations_count_group  New Donor  2-3 Donations  4-7 Donations  8+ Donations\n",
       "donor_age_group                                                             \n",
       "17-24                         70             79             35            20\n",
       "25-29                         80             99            101           116\n",
       "30-34                         72            107             97           163\n",
       "35-39                         66            100             91           196\n",
       "40-44                         47             95             86           204\n",
       "45-49                         34             54             47           198\n",
       "50-54                         18             28             55           118\n",
       "55-59                         14             18             16            98\n",
       "60-65                          0              2              4            20"
      ]
     },
     "execution_count": 330,
     "metadata": {},
     "output_type": "execute_result"
    }
   ],
   "source": [
    "grouped_data = latest_donor.groupby([ 'donor_age_group','donations_count_group']).size().unstack(fill_value=0)\n",
    "grouped_data"
   ]
  },
  {
   "cell_type": "code",
   "execution_count": 331,
   "metadata": {},
   "outputs": [
    {
     "data": {
      "image/png": "[encoded data removed]",
      "text/plain": [
       "<Figure size 1400x800 with 1 Axes>"
      ]
     },
     "metadata": {},
     "output_type": "display_data"
    }
   ],
   "source": [
    "# Plot the stacked horizontal bar chart\n",
    "grouped_data.plot(kind='barh', stacked=True, figsize=(14, 8),cmap='YlGn')\n",
    "\n",
    "# Adding titles and labels\n",
    "plt.title('Latest Date Donation Frequency by Age & Donor Group', fontsize=15)\n",
    "plt.xlabel('Number of Donors', fontsize=15)\n",
    "plt.ylabel('Donation Count Group', fontsize=15)\n",
    "plt.legend(title='Age Group', bbox_to_anchor=(1.05, 1), loc='upper left')\n",
    "# Show the plot\n",
    "plt.show()"
   ]
  }
 ],
 "metadata": {
  "kernelspec": {
   "display_name": "datapipe",
   "language": "python",
   "name": "python3"
  },
  "language_info": {
   "codemirror_mode": {
    "name": "ipython",
    "version": 3
   },
   "file_extension": ".py",
   "mimetype": "text/x-python",
   "name": "python",
   "nbconvert_exporter": "python",
   "pygments_lexer": "ipython3",
   "version": "3.11.7"
  }
 },
 "nbformat": 4,
 "nbformat_minor": 2
}
