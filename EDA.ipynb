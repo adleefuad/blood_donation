{
 "cells": [
  {
   "cell_type": "markdown",
   "metadata": {},
   "source": [
    "<h1>Assesment Question:</h1>\n",
    "<p>1- How are blood donations in Malaysia / states trending?</p>\n",
    "<p>2- How well is Malaysia retaining blood donors? (meaning, are people with a history of blood donation coming back to donate regularly)</p>\n",
    "\n",
    "And after creating data visualisation for answering this questions, we will need to use Telegram bot API to post a message in a group daily\n",
    "\n",
    "Question in mind:\n",
    "1. What visualisation that are useful for daily updates? Or is it sufficient enough to use a visualisation "
   ]
  },
  {
   "cell_type": "code",
   "execution_count": 131,
   "metadata": {},
   "outputs": [],
   "source": [
    "from git import Repo\n",
    "import os\n",
    "import requests\n",
    "\n",
    "import pandas as pd \n",
    "import numpy as np \n",
    "import pyarrow.parquet as pq\n",
    "import matplotlib.ticker as ticker\n",
    "from matplotlib.colors import Normalize\n",
    "import matplotlib.pyplot as plt \n",
    "import plotly.graph_objects as go\n",
    "import seaborn as sns\n",
    "\n",
    "import geopandas as gpd\n",
    "from mpl_toolkits.axes_grid1.inset_locator import inset_axes"
   ]
  },
  {
   "cell_type": "markdown",
   "metadata": {},
   "source": [
    "<h1>Question 1</h1>\n",
    "<p>Planning:</p>\n",
    "<p>1. Choropleth on Donation Distribtion for every State</p>\n",
    "<p>2. Sankey Diagram 3 Level (State->Hospital->Type of Blood)</p>\n",
    "<p>3. Time-Series Plot of Average Daily per month for each blood type</p>\n",
    "<p>4. Chart that shows trend on Age</p>"
   ]
  },
  {
   "cell_type": "markdown",
   "metadata": {},
   "source": [
    "Mainly I Will use data from donations_facility.csv . Since Data of Newdonors are in Age, we can create extra visualisation to show age trend"
   ]
  },
  {
   "cell_type": "code",
   "execution_count": 132,
   "metadata": {},
   "outputs": [
    {
     "data": {
      "text/html": [
       "<div>\n",
       "<style scoped>\n",
       "    .dataframe tbody tr th:only-of-type {\n",
       "        vertical-align: middle;\n",
       "    }\n",
       "\n",
       "    .dataframe tbody tr th {\n",
       "        vertical-align: top;\n",
       "    }\n",
       "\n",
       "    .dataframe thead th {\n",
       "        text-align: right;\n",
       "    }\n",
       "</style>\n",
       "<table border=\"1\" class=\"dataframe\">\n",
       "  <thead>\n",
       "    <tr style=\"text-align: right;\">\n",
       "      <th></th>\n",
       "      <th>date</th>\n",
       "      <th>hospital</th>\n",
       "      <th>daily</th>\n",
       "      <th>blood_a</th>\n",
       "      <th>blood_b</th>\n",
       "      <th>blood_o</th>\n",
       "      <th>blood_ab</th>\n",
       "      <th>location_centre</th>\n",
       "      <th>location_mobile</th>\n",
       "      <th>type_wholeblood</th>\n",
       "      <th>type_apheresis_platelet</th>\n",
       "      <th>type_apheresis_plasma</th>\n",
       "      <th>type_other</th>\n",
       "      <th>social_civilian</th>\n",
       "      <th>social_student</th>\n",
       "      <th>social_policearmy</th>\n",
       "      <th>donations_new</th>\n",
       "      <th>donations_regular</th>\n",
       "      <th>donations_irregular</th>\n",
       "    </tr>\n",
       "  </thead>\n",
       "  <tbody>\n",
       "    <tr>\n",
       "      <th>0</th>\n",
       "      <td>2006-01-01</td>\n",
       "      <td>Hospital Sultanah Nora Ismail</td>\n",
       "      <td>87</td>\n",
       "      <td>19</td>\n",
       "      <td>20</td>\n",
       "      <td>45</td>\n",
       "      <td>3</td>\n",
       "      <td>87</td>\n",
       "      <td>0</td>\n",
       "      <td>87</td>\n",
       "      <td>0</td>\n",
       "      <td>0</td>\n",
       "      <td>0</td>\n",
       "      <td>86</td>\n",
       "      <td>1</td>\n",
       "      <td>0</td>\n",
       "      <td>36</td>\n",
       "      <td>49</td>\n",
       "      <td>2</td>\n",
       "    </tr>\n",
       "    <tr>\n",
       "      <th>1</th>\n",
       "      <td>2006-01-01</td>\n",
       "      <td>Hospital Sultanah Aminah</td>\n",
       "      <td>0</td>\n",
       "      <td>0</td>\n",
       "      <td>0</td>\n",
       "      <td>0</td>\n",
       "      <td>0</td>\n",
       "      <td>0</td>\n",
       "      <td>0</td>\n",
       "      <td>0</td>\n",
       "      <td>0</td>\n",
       "      <td>0</td>\n",
       "      <td>0</td>\n",
       "      <td>0</td>\n",
       "      <td>0</td>\n",
       "      <td>0</td>\n",
       "      <td>0</td>\n",
       "      <td>0</td>\n",
       "      <td>0</td>\n",
       "    </tr>\n",
       "    <tr>\n",
       "      <th>2</th>\n",
       "      <td>2006-01-01</td>\n",
       "      <td>Hospital Sultanah Bahiyah</td>\n",
       "      <td>208</td>\n",
       "      <td>67</td>\n",
       "      <td>62</td>\n",
       "      <td>61</td>\n",
       "      <td>18</td>\n",
       "      <td>208</td>\n",
       "      <td>0</td>\n",
       "      <td>208</td>\n",
       "      <td>0</td>\n",
       "      <td>0</td>\n",
       "      <td>0</td>\n",
       "      <td>197</td>\n",
       "      <td>8</td>\n",
       "      <td>3</td>\n",
       "      <td>1</td>\n",
       "      <td>207</td>\n",
       "      <td>0</td>\n",
       "    </tr>\n",
       "    <tr>\n",
       "      <th>3</th>\n",
       "      <td>2006-01-01</td>\n",
       "      <td>Hospital Raja Perempuan Zainab II</td>\n",
       "      <td>0</td>\n",
       "      <td>0</td>\n",
       "      <td>0</td>\n",
       "      <td>0</td>\n",
       "      <td>0</td>\n",
       "      <td>0</td>\n",
       "      <td>0</td>\n",
       "      <td>0</td>\n",
       "      <td>0</td>\n",
       "      <td>0</td>\n",
       "      <td>0</td>\n",
       "      <td>0</td>\n",
       "      <td>0</td>\n",
       "      <td>0</td>\n",
       "      <td>0</td>\n",
       "      <td>0</td>\n",
       "      <td>0</td>\n",
       "    </tr>\n",
       "    <tr>\n",
       "      <th>4</th>\n",
       "      <td>2006-01-01</td>\n",
       "      <td>Hospital Melaka</td>\n",
       "      <td>1</td>\n",
       "      <td>0</td>\n",
       "      <td>0</td>\n",
       "      <td>1</td>\n",
       "      <td>0</td>\n",
       "      <td>1</td>\n",
       "      <td>0</td>\n",
       "      <td>1</td>\n",
       "      <td>0</td>\n",
       "      <td>0</td>\n",
       "      <td>0</td>\n",
       "      <td>1</td>\n",
       "      <td>0</td>\n",
       "      <td>0</td>\n",
       "      <td>0</td>\n",
       "      <td>1</td>\n",
       "      <td>0</td>\n",
       "    </tr>\n",
       "  </tbody>\n",
       "</table>\n",
       "</div>"
      ],
      "text/plain": [
       "         date                           hospital  daily  blood_a  blood_b  \\\n",
       "0  2006-01-01      Hospital Sultanah Nora Ismail     87       19       20   \n",
       "1  2006-01-01           Hospital Sultanah Aminah      0        0        0   \n",
       "2  2006-01-01          Hospital Sultanah Bahiyah    208       67       62   \n",
       "3  2006-01-01  Hospital Raja Perempuan Zainab II      0        0        0   \n",
       "4  2006-01-01                    Hospital Melaka      1        0        0   \n",
       "\n",
       "   blood_o  blood_ab  location_centre  location_mobile  type_wholeblood  \\\n",
       "0       45         3               87                0               87   \n",
       "1        0         0                0                0                0   \n",
       "2       61        18              208                0              208   \n",
       "3        0         0                0                0                0   \n",
       "4        1         0                1                0                1   \n",
       "\n",
       "   type_apheresis_platelet  type_apheresis_plasma  type_other  \\\n",
       "0                        0                      0           0   \n",
       "1                        0                      0           0   \n",
       "2                        0                      0           0   \n",
       "3                        0                      0           0   \n",
       "4                        0                      0           0   \n",
       "\n",
       "   social_civilian  social_student  social_policearmy  donations_new  \\\n",
       "0               86               1                  0             36   \n",
       "1                0               0                  0              0   \n",
       "2              197               8                  3              1   \n",
       "3                0               0                  0              0   \n",
       "4                1               0                  0              0   \n",
       "\n",
       "   donations_regular  donations_irregular  \n",
       "0                 49                    2  \n",
       "1                  0                    0  \n",
       "2                207                    0  \n",
       "3                  0                    0  \n",
       "4                  1                    0  "
      ]
     },
     "execution_count": 132,
     "metadata": {},
     "output_type": "execute_result"
    }
   ],
   "source": [
    "facility_df = pd.read_csv('.\\data_aggregate\\donations_facility.csv')\n",
    "facility_df.head(5)"
   ]
  },
  {
   "cell_type": "code",
   "execution_count": 133,
   "metadata": {},
   "outputs": [
    {
     "data": {
      "text/plain": [
       "['Hospital Sultanah Nora Ismail',\n",
       " 'Hospital Sultanah Aminah',\n",
       " 'Hospital Sultanah Bahiyah',\n",
       " 'Hospital Raja Perempuan Zainab II',\n",
       " 'Hospital Melaka',\n",
       " 'Hospital Tuanku Jaafar',\n",
       " 'Hospital Tengku Ampuan Afzan',\n",
       " 'Hospital Sultan Haji Ahmad Shah',\n",
       " 'Hospital Seberang Jaya',\n",
       " 'Hospital Pulau Pinang',\n",
       " 'Hospital Raja Permaisuri Bainun',\n",
       " 'Hospital Taiping',\n",
       " 'Hospital Seri Manjung',\n",
       " 'Hospital Tengku Ampuan Rahimah',\n",
       " 'Hospital Sultanah Nur Zahirah',\n",
       " 'Hospital Queen Elizabeth II',\n",
       " 'Hospital Duchess Of Kent',\n",
       " 'Hospital Tawau',\n",
       " 'Hospital Umum Sarawak',\n",
       " 'Hospital Miri',\n",
       " 'Hospital Sibu',\n",
       " 'Pusat Darah Negara']"
      ]
     },
     "execution_count": 133,
     "metadata": {},
     "output_type": "execute_result"
    }
   ],
   "source": [
    "#getting the list of facilities\n",
    "list(facility_df['hospital'].unique())"
   ]
  },
  {
   "cell_type": "code",
   "execution_count": 134,
   "metadata": {},
   "outputs": [
    {
     "data": {
      "text/html": [
       "<div>\n",
       "<style scoped>\n",
       "    .dataframe tbody tr th:only-of-type {\n",
       "        vertical-align: middle;\n",
       "    }\n",
       "\n",
       "    .dataframe tbody tr th {\n",
       "        vertical-align: top;\n",
       "    }\n",
       "\n",
       "    .dataframe thead th {\n",
       "        text-align: right;\n",
       "    }\n",
       "</style>\n",
       "<table border=\"1\" class=\"dataframe\">\n",
       "  <thead>\n",
       "    <tr style=\"text-align: right;\">\n",
       "      <th></th>\n",
       "      <th>date</th>\n",
       "      <th>hospital</th>\n",
       "      <th>daily</th>\n",
       "      <th>blood_a</th>\n",
       "      <th>blood_b</th>\n",
       "      <th>blood_o</th>\n",
       "      <th>blood_ab</th>\n",
       "      <th>location_centre</th>\n",
       "      <th>location_mobile</th>\n",
       "      <th>type_wholeblood</th>\n",
       "      <th>type_apheresis_platelet</th>\n",
       "      <th>type_apheresis_plasma</th>\n",
       "      <th>type_other</th>\n",
       "      <th>social_civilian</th>\n",
       "      <th>social_student</th>\n",
       "      <th>social_policearmy</th>\n",
       "      <th>donations_new</th>\n",
       "      <th>donations_regular</th>\n",
       "      <th>donations_irregular</th>\n",
       "      <th>state</th>\n",
       "    </tr>\n",
       "  </thead>\n",
       "  <tbody>\n",
       "    <tr>\n",
       "      <th>0</th>\n",
       "      <td>2006-01-01</td>\n",
       "      <td>Hospital Sultanah Nora Ismail</td>\n",
       "      <td>87</td>\n",
       "      <td>19</td>\n",
       "      <td>20</td>\n",
       "      <td>45</td>\n",
       "      <td>3</td>\n",
       "      <td>87</td>\n",
       "      <td>0</td>\n",
       "      <td>87</td>\n",
       "      <td>0</td>\n",
       "      <td>0</td>\n",
       "      <td>0</td>\n",
       "      <td>86</td>\n",
       "      <td>1</td>\n",
       "      <td>0</td>\n",
       "      <td>36</td>\n",
       "      <td>49</td>\n",
       "      <td>2</td>\n",
       "      <td>Johor</td>\n",
       "    </tr>\n",
       "    <tr>\n",
       "      <th>1</th>\n",
       "      <td>2006-01-01</td>\n",
       "      <td>Hospital Sultanah Aminah</td>\n",
       "      <td>0</td>\n",
       "      <td>0</td>\n",
       "      <td>0</td>\n",
       "      <td>0</td>\n",
       "      <td>0</td>\n",
       "      <td>0</td>\n",
       "      <td>0</td>\n",
       "      <td>0</td>\n",
       "      <td>0</td>\n",
       "      <td>0</td>\n",
       "      <td>0</td>\n",
       "      <td>0</td>\n",
       "      <td>0</td>\n",
       "      <td>0</td>\n",
       "      <td>0</td>\n",
       "      <td>0</td>\n",
       "      <td>0</td>\n",
       "      <td>Johor</td>\n",
       "    </tr>\n",
       "    <tr>\n",
       "      <th>2</th>\n",
       "      <td>2006-01-01</td>\n",
       "      <td>Hospital Sultanah Bahiyah</td>\n",
       "      <td>208</td>\n",
       "      <td>67</td>\n",
       "      <td>62</td>\n",
       "      <td>61</td>\n",
       "      <td>18</td>\n",
       "      <td>208</td>\n",
       "      <td>0</td>\n",
       "      <td>208</td>\n",
       "      <td>0</td>\n",
       "      <td>0</td>\n",
       "      <td>0</td>\n",
       "      <td>197</td>\n",
       "      <td>8</td>\n",
       "      <td>3</td>\n",
       "      <td>1</td>\n",
       "      <td>207</td>\n",
       "      <td>0</td>\n",
       "      <td>Kedah</td>\n",
       "    </tr>\n",
       "    <tr>\n",
       "      <th>3</th>\n",
       "      <td>2006-01-01</td>\n",
       "      <td>Hospital Raja Perempuan Zainab II</td>\n",
       "      <td>0</td>\n",
       "      <td>0</td>\n",
       "      <td>0</td>\n",
       "      <td>0</td>\n",
       "      <td>0</td>\n",
       "      <td>0</td>\n",
       "      <td>0</td>\n",
       "      <td>0</td>\n",
       "      <td>0</td>\n",
       "      <td>0</td>\n",
       "      <td>0</td>\n",
       "      <td>0</td>\n",
       "      <td>0</td>\n",
       "      <td>0</td>\n",
       "      <td>0</td>\n",
       "      <td>0</td>\n",
       "      <td>0</td>\n",
       "      <td>Kelantan</td>\n",
       "    </tr>\n",
       "    <tr>\n",
       "      <th>4</th>\n",
       "      <td>2006-01-01</td>\n",
       "      <td>Hospital Melaka</td>\n",
       "      <td>1</td>\n",
       "      <td>0</td>\n",
       "      <td>0</td>\n",
       "      <td>1</td>\n",
       "      <td>0</td>\n",
       "      <td>1</td>\n",
       "      <td>0</td>\n",
       "      <td>1</td>\n",
       "      <td>0</td>\n",
       "      <td>0</td>\n",
       "      <td>0</td>\n",
       "      <td>1</td>\n",
       "      <td>0</td>\n",
       "      <td>0</td>\n",
       "      <td>0</td>\n",
       "      <td>1</td>\n",
       "      <td>0</td>\n",
       "      <td>Melaka</td>\n",
       "    </tr>\n",
       "    <tr>\n",
       "      <th>...</th>\n",
       "      <td>...</td>\n",
       "      <td>...</td>\n",
       "      <td>...</td>\n",
       "      <td>...</td>\n",
       "      <td>...</td>\n",
       "      <td>...</td>\n",
       "      <td>...</td>\n",
       "      <td>...</td>\n",
       "      <td>...</td>\n",
       "      <td>...</td>\n",
       "      <td>...</td>\n",
       "      <td>...</td>\n",
       "      <td>...</td>\n",
       "      <td>...</td>\n",
       "      <td>...</td>\n",
       "      <td>...</td>\n",
       "      <td>...</td>\n",
       "      <td>...</td>\n",
       "      <td>...</td>\n",
       "      <td>...</td>\n",
       "    </tr>\n",
       "    <tr>\n",
       "      <th>145173</th>\n",
       "      <td>2024-01-25</td>\n",
       "      <td>Hospital Tawau</td>\n",
       "      <td>19</td>\n",
       "      <td>6</td>\n",
       "      <td>2</td>\n",
       "      <td>11</td>\n",
       "      <td>0</td>\n",
       "      <td>2</td>\n",
       "      <td>17</td>\n",
       "      <td>19</td>\n",
       "      <td>0</td>\n",
       "      <td>0</td>\n",
       "      <td>0</td>\n",
       "      <td>19</td>\n",
       "      <td>0</td>\n",
       "      <td>0</td>\n",
       "      <td>1</td>\n",
       "      <td>18</td>\n",
       "      <td>0</td>\n",
       "      <td>Sabah</td>\n",
       "    </tr>\n",
       "    <tr>\n",
       "      <th>145174</th>\n",
       "      <td>2024-01-25</td>\n",
       "      <td>Hospital Umum Sarawak</td>\n",
       "      <td>72</td>\n",
       "      <td>11</td>\n",
       "      <td>22</td>\n",
       "      <td>34</td>\n",
       "      <td>5</td>\n",
       "      <td>39</td>\n",
       "      <td>33</td>\n",
       "      <td>72</td>\n",
       "      <td>0</td>\n",
       "      <td>0</td>\n",
       "      <td>0</td>\n",
       "      <td>68</td>\n",
       "      <td>3</td>\n",
       "      <td>1</td>\n",
       "      <td>13</td>\n",
       "      <td>43</td>\n",
       "      <td>16</td>\n",
       "      <td>Sarawak</td>\n",
       "    </tr>\n",
       "    <tr>\n",
       "      <th>145175</th>\n",
       "      <td>2024-01-25</td>\n",
       "      <td>Hospital Miri</td>\n",
       "      <td>4</td>\n",
       "      <td>1</td>\n",
       "      <td>2</td>\n",
       "      <td>1</td>\n",
       "      <td>0</td>\n",
       "      <td>4</td>\n",
       "      <td>0</td>\n",
       "      <td>4</td>\n",
       "      <td>0</td>\n",
       "      <td>0</td>\n",
       "      <td>0</td>\n",
       "      <td>4</td>\n",
       "      <td>0</td>\n",
       "      <td>0</td>\n",
       "      <td>0</td>\n",
       "      <td>4</td>\n",
       "      <td>0</td>\n",
       "      <td>Sarawak</td>\n",
       "    </tr>\n",
       "    <tr>\n",
       "      <th>145176</th>\n",
       "      <td>2024-01-25</td>\n",
       "      <td>Hospital Sibu</td>\n",
       "      <td>30</td>\n",
       "      <td>7</td>\n",
       "      <td>10</td>\n",
       "      <td>13</td>\n",
       "      <td>0</td>\n",
       "      <td>8</td>\n",
       "      <td>22</td>\n",
       "      <td>30</td>\n",
       "      <td>0</td>\n",
       "      <td>0</td>\n",
       "      <td>0</td>\n",
       "      <td>24</td>\n",
       "      <td>6</td>\n",
       "      <td>0</td>\n",
       "      <td>18</td>\n",
       "      <td>9</td>\n",
       "      <td>3</td>\n",
       "      <td>Sarawak</td>\n",
       "    </tr>\n",
       "    <tr>\n",
       "      <th>145177</th>\n",
       "      <td>2024-01-25</td>\n",
       "      <td>Pusat Darah Negara</td>\n",
       "      <td>1521</td>\n",
       "      <td>334</td>\n",
       "      <td>475</td>\n",
       "      <td>687</td>\n",
       "      <td>25</td>\n",
       "      <td>114</td>\n",
       "      <td>1407</td>\n",
       "      <td>1496</td>\n",
       "      <td>10</td>\n",
       "      <td>15</td>\n",
       "      <td>0</td>\n",
       "      <td>1386</td>\n",
       "      <td>120</td>\n",
       "      <td>15</td>\n",
       "      <td>283</td>\n",
       "      <td>744</td>\n",
       "      <td>494</td>\n",
       "      <td>Kuala Lumpur</td>\n",
       "    </tr>\n",
       "  </tbody>\n",
       "</table>\n",
       "<p>145178 rows × 20 columns</p>\n",
       "</div>"
      ],
      "text/plain": [
       "              date                           hospital  daily  blood_a  \\\n",
       "0       2006-01-01      Hospital Sultanah Nora Ismail     87       19   \n",
       "1       2006-01-01           Hospital Sultanah Aminah      0        0   \n",
       "2       2006-01-01          Hospital Sultanah Bahiyah    208       67   \n",
       "3       2006-01-01  Hospital Raja Perempuan Zainab II      0        0   \n",
       "4       2006-01-01                    Hospital Melaka      1        0   \n",
       "...            ...                                ...    ...      ...   \n",
       "145173  2024-01-25                     Hospital Tawau     19        6   \n",
       "145174  2024-01-25              Hospital Umum Sarawak     72       11   \n",
       "145175  2024-01-25                      Hospital Miri      4        1   \n",
       "145176  2024-01-25                      Hospital Sibu     30        7   \n",
       "145177  2024-01-25                 Pusat Darah Negara   1521      334   \n",
       "\n",
       "        blood_b  blood_o  blood_ab  location_centre  location_mobile  \\\n",
       "0            20       45         3               87                0   \n",
       "1             0        0         0                0                0   \n",
       "2            62       61        18              208                0   \n",
       "3             0        0         0                0                0   \n",
       "4             0        1         0                1                0   \n",
       "...         ...      ...       ...              ...              ...   \n",
       "145173        2       11         0                2               17   \n",
       "145174       22       34         5               39               33   \n",
       "145175        2        1         0                4                0   \n",
       "145176       10       13         0                8               22   \n",
       "145177      475      687        25              114             1407   \n",
       "\n",
       "        type_wholeblood  type_apheresis_platelet  type_apheresis_plasma  \\\n",
       "0                    87                        0                      0   \n",
       "1                     0                        0                      0   \n",
       "2                   208                        0                      0   \n",
       "3                     0                        0                      0   \n",
       "4                     1                        0                      0   \n",
       "...                 ...                      ...                    ...   \n",
       "145173               19                        0                      0   \n",
       "145174               72                        0                      0   \n",
       "145175                4                        0                      0   \n",
       "145176               30                        0                      0   \n",
       "145177             1496                       10                     15   \n",
       "\n",
       "        type_other  social_civilian  social_student  social_policearmy  \\\n",
       "0                0               86               1                  0   \n",
       "1                0                0               0                  0   \n",
       "2                0              197               8                  3   \n",
       "3                0                0               0                  0   \n",
       "4                0                1               0                  0   \n",
       "...            ...              ...             ...                ...   \n",
       "145173           0               19               0                  0   \n",
       "145174           0               68               3                  1   \n",
       "145175           0                4               0                  0   \n",
       "145176           0               24               6                  0   \n",
       "145177           0             1386             120                 15   \n",
       "\n",
       "        donations_new  donations_regular  donations_irregular         state  \n",
       "0                  36                 49                    2         Johor  \n",
       "1                   0                  0                    0         Johor  \n",
       "2                   1                207                    0         Kedah  \n",
       "3                   0                  0                    0      Kelantan  \n",
       "4                   0                  1                    0        Melaka  \n",
       "...               ...                ...                  ...           ...  \n",
       "145173              1                 18                    0         Sabah  \n",
       "145174             13                 43                   16       Sarawak  \n",
       "145175              0                  4                    0       Sarawak  \n",
       "145176             18                  9                    3       Sarawak  \n",
       "145177            283                744                  494  Kuala Lumpur  \n",
       "\n",
       "[145178 rows x 20 columns]"
      ]
     },
     "execution_count": 134,
     "metadata": {},
     "output_type": "execute_result"
    }
   ],
   "source": [
    "# Manually Map the list of hospital to their state\n",
    "hospital_state = {\n",
    "    'Hospital Sultanah Nora Ismail': 'Johor',\n",
    "    'Hospital Sultanah Aminah': 'Johor',\n",
    "    'Hospital Sultanah Bahiyah': 'Kedah',\n",
    "    'Hospital Raja Perempuan Zainab II': 'Kelantan',\n",
    "    'Hospital Melaka': 'Melaka',\n",
    "    'Hospital Tuanku Jaafar': 'Negeri Sembilan',\n",
    "    'Hospital Tengku Ampuan Afzan': 'Pahang',\n",
    "    'Hospital Sultan Haji Ahmad Shah': 'Pahang',\n",
    "    'Hospital Seberang Jaya': 'Penang',\n",
    "    'Hospital Pulau Pinang': 'Penang',\n",
    "    'Hospital Raja Permaisuri Bainun': 'Perak',\n",
    "    'Hospital Taiping': 'Perak',\n",
    "    'Hospital Seri Manjung': 'Perak',\n",
    "    'Hospital Tengku Ampuan Rahimah': 'Selangor',\n",
    "    'Hospital Sultanah Nur Zahirah': 'Terengganu',\n",
    "    'Hospital Queen Elizabeth II': 'Sabah',\n",
    "    'Hospital Duchess Of Kent': 'Sabah',\n",
    "    'Hospital Tawau': 'Sabah',\n",
    "    'Hospital Umum Sarawak': 'Sarawak',\n",
    "    'Hospital Miri': 'Sarawak',\n",
    "    'Hospital Sibu': 'Sarawak',\n",
    "    'Pusat Darah Negara': 'Kuala Lumpur'\n",
    "}\n",
    "\n",
    "#Add another column to the dataframe\n",
    "facility_df['state'] = facility_df['hospital'].map(hospital_state)\n",
    "facility_df"
   ]
  },
  {
   "cell_type": "code",
   "execution_count": 135,
   "metadata": {},
   "outputs": [
    {
     "data": {
      "text/html": [
       "<div>\n",
       "<style scoped>\n",
       "    .dataframe tbody tr th:only-of-type {\n",
       "        vertical-align: middle;\n",
       "    }\n",
       "\n",
       "    .dataframe tbody tr th {\n",
       "        vertical-align: top;\n",
       "    }\n",
       "\n",
       "    .dataframe thead th {\n",
       "        text-align: right;\n",
       "    }\n",
       "</style>\n",
       "<table border=\"1\" class=\"dataframe\">\n",
       "  <thead>\n",
       "    <tr style=\"text-align: right;\">\n",
       "      <th></th>\n",
       "      <th>date</th>\n",
       "      <th>hospital</th>\n",
       "      <th>daily</th>\n",
       "      <th>blood_a</th>\n",
       "      <th>blood_b</th>\n",
       "      <th>blood_o</th>\n",
       "      <th>blood_ab</th>\n",
       "      <th>location_centre</th>\n",
       "      <th>location_mobile</th>\n",
       "      <th>type_wholeblood</th>\n",
       "      <th>type_apheresis_platelet</th>\n",
       "      <th>type_apheresis_plasma</th>\n",
       "      <th>type_other</th>\n",
       "      <th>social_civilian</th>\n",
       "      <th>social_student</th>\n",
       "      <th>social_policearmy</th>\n",
       "      <th>donations_new</th>\n",
       "      <th>donations_regular</th>\n",
       "      <th>donations_irregular</th>\n",
       "      <th>state</th>\n",
       "    </tr>\n",
       "  </thead>\n",
       "  <tbody>\n",
       "    <tr>\n",
       "      <th>143176</th>\n",
       "      <td>2023-10-27</td>\n",
       "      <td>Hospital Sultanah Nora Ismail</td>\n",
       "      <td>0</td>\n",
       "      <td>0</td>\n",
       "      <td>0</td>\n",
       "      <td>0</td>\n",
       "      <td>0</td>\n",
       "      <td>0</td>\n",
       "      <td>0</td>\n",
       "      <td>0</td>\n",
       "      <td>0</td>\n",
       "      <td>0</td>\n",
       "      <td>0</td>\n",
       "      <td>0</td>\n",
       "      <td>0</td>\n",
       "      <td>0</td>\n",
       "      <td>0</td>\n",
       "      <td>0</td>\n",
       "      <td>0</td>\n",
       "      <td>Johor</td>\n",
       "    </tr>\n",
       "    <tr>\n",
       "      <th>143177</th>\n",
       "      <td>2023-10-27</td>\n",
       "      <td>Hospital Sultanah Aminah</td>\n",
       "      <td>0</td>\n",
       "      <td>0</td>\n",
       "      <td>0</td>\n",
       "      <td>0</td>\n",
       "      <td>0</td>\n",
       "      <td>0</td>\n",
       "      <td>0</td>\n",
       "      <td>0</td>\n",
       "      <td>0</td>\n",
       "      <td>0</td>\n",
       "      <td>0</td>\n",
       "      <td>0</td>\n",
       "      <td>0</td>\n",
       "      <td>0</td>\n",
       "      <td>0</td>\n",
       "      <td>0</td>\n",
       "      <td>0</td>\n",
       "      <td>Johor</td>\n",
       "    </tr>\n",
       "    <tr>\n",
       "      <th>143178</th>\n",
       "      <td>2023-10-27</td>\n",
       "      <td>Hospital Sultanah Bahiyah</td>\n",
       "      <td>101</td>\n",
       "      <td>25</td>\n",
       "      <td>27</td>\n",
       "      <td>43</td>\n",
       "      <td>6</td>\n",
       "      <td>0</td>\n",
       "      <td>101</td>\n",
       "      <td>101</td>\n",
       "      <td>0</td>\n",
       "      <td>0</td>\n",
       "      <td>0</td>\n",
       "      <td>100</td>\n",
       "      <td>1</td>\n",
       "      <td>0</td>\n",
       "      <td>4</td>\n",
       "      <td>89</td>\n",
       "      <td>8</td>\n",
       "      <td>Kedah</td>\n",
       "    </tr>\n",
       "    <tr>\n",
       "      <th>143179</th>\n",
       "      <td>2023-10-27</td>\n",
       "      <td>Hospital Raja Perempuan Zainab II</td>\n",
       "      <td>0</td>\n",
       "      <td>0</td>\n",
       "      <td>0</td>\n",
       "      <td>0</td>\n",
       "      <td>0</td>\n",
       "      <td>0</td>\n",
       "      <td>0</td>\n",
       "      <td>0</td>\n",
       "      <td>0</td>\n",
       "      <td>0</td>\n",
       "      <td>0</td>\n",
       "      <td>0</td>\n",
       "      <td>0</td>\n",
       "      <td>0</td>\n",
       "      <td>0</td>\n",
       "      <td>0</td>\n",
       "      <td>0</td>\n",
       "      <td>Kelantan</td>\n",
       "    </tr>\n",
       "    <tr>\n",
       "      <th>143180</th>\n",
       "      <td>2023-10-27</td>\n",
       "      <td>Hospital Melaka</td>\n",
       "      <td>95</td>\n",
       "      <td>24</td>\n",
       "      <td>30</td>\n",
       "      <td>31</td>\n",
       "      <td>10</td>\n",
       "      <td>8</td>\n",
       "      <td>87</td>\n",
       "      <td>95</td>\n",
       "      <td>0</td>\n",
       "      <td>0</td>\n",
       "      <td>0</td>\n",
       "      <td>91</td>\n",
       "      <td>3</td>\n",
       "      <td>1</td>\n",
       "      <td>19</td>\n",
       "      <td>53</td>\n",
       "      <td>23</td>\n",
       "      <td>Melaka</td>\n",
       "    </tr>\n",
       "    <tr>\n",
       "      <th>...</th>\n",
       "      <td>...</td>\n",
       "      <td>...</td>\n",
       "      <td>...</td>\n",
       "      <td>...</td>\n",
       "      <td>...</td>\n",
       "      <td>...</td>\n",
       "      <td>...</td>\n",
       "      <td>...</td>\n",
       "      <td>...</td>\n",
       "      <td>...</td>\n",
       "      <td>...</td>\n",
       "      <td>...</td>\n",
       "      <td>...</td>\n",
       "      <td>...</td>\n",
       "      <td>...</td>\n",
       "      <td>...</td>\n",
       "      <td>...</td>\n",
       "      <td>...</td>\n",
       "      <td>...</td>\n",
       "      <td>...</td>\n",
       "    </tr>\n",
       "    <tr>\n",
       "      <th>145173</th>\n",
       "      <td>2024-01-25</td>\n",
       "      <td>Hospital Tawau</td>\n",
       "      <td>19</td>\n",
       "      <td>6</td>\n",
       "      <td>2</td>\n",
       "      <td>11</td>\n",
       "      <td>0</td>\n",
       "      <td>2</td>\n",
       "      <td>17</td>\n",
       "      <td>19</td>\n",
       "      <td>0</td>\n",
       "      <td>0</td>\n",
       "      <td>0</td>\n",
       "      <td>19</td>\n",
       "      <td>0</td>\n",
       "      <td>0</td>\n",
       "      <td>1</td>\n",
       "      <td>18</td>\n",
       "      <td>0</td>\n",
       "      <td>Sabah</td>\n",
       "    </tr>\n",
       "    <tr>\n",
       "      <th>145174</th>\n",
       "      <td>2024-01-25</td>\n",
       "      <td>Hospital Umum Sarawak</td>\n",
       "      <td>72</td>\n",
       "      <td>11</td>\n",
       "      <td>22</td>\n",
       "      <td>34</td>\n",
       "      <td>5</td>\n",
       "      <td>39</td>\n",
       "      <td>33</td>\n",
       "      <td>72</td>\n",
       "      <td>0</td>\n",
       "      <td>0</td>\n",
       "      <td>0</td>\n",
       "      <td>68</td>\n",
       "      <td>3</td>\n",
       "      <td>1</td>\n",
       "      <td>13</td>\n",
       "      <td>43</td>\n",
       "      <td>16</td>\n",
       "      <td>Sarawak</td>\n",
       "    </tr>\n",
       "    <tr>\n",
       "      <th>145175</th>\n",
       "      <td>2024-01-25</td>\n",
       "      <td>Hospital Miri</td>\n",
       "      <td>4</td>\n",
       "      <td>1</td>\n",
       "      <td>2</td>\n",
       "      <td>1</td>\n",
       "      <td>0</td>\n",
       "      <td>4</td>\n",
       "      <td>0</td>\n",
       "      <td>4</td>\n",
       "      <td>0</td>\n",
       "      <td>0</td>\n",
       "      <td>0</td>\n",
       "      <td>4</td>\n",
       "      <td>0</td>\n",
       "      <td>0</td>\n",
       "      <td>0</td>\n",
       "      <td>4</td>\n",
       "      <td>0</td>\n",
       "      <td>Sarawak</td>\n",
       "    </tr>\n",
       "    <tr>\n",
       "      <th>145176</th>\n",
       "      <td>2024-01-25</td>\n",
       "      <td>Hospital Sibu</td>\n",
       "      <td>30</td>\n",
       "      <td>7</td>\n",
       "      <td>10</td>\n",
       "      <td>13</td>\n",
       "      <td>0</td>\n",
       "      <td>8</td>\n",
       "      <td>22</td>\n",
       "      <td>30</td>\n",
       "      <td>0</td>\n",
       "      <td>0</td>\n",
       "      <td>0</td>\n",
       "      <td>24</td>\n",
       "      <td>6</td>\n",
       "      <td>0</td>\n",
       "      <td>18</td>\n",
       "      <td>9</td>\n",
       "      <td>3</td>\n",
       "      <td>Sarawak</td>\n",
       "    </tr>\n",
       "    <tr>\n",
       "      <th>145177</th>\n",
       "      <td>2024-01-25</td>\n",
       "      <td>Pusat Darah Negara</td>\n",
       "      <td>1521</td>\n",
       "      <td>334</td>\n",
       "      <td>475</td>\n",
       "      <td>687</td>\n",
       "      <td>25</td>\n",
       "      <td>114</td>\n",
       "      <td>1407</td>\n",
       "      <td>1496</td>\n",
       "      <td>10</td>\n",
       "      <td>15</td>\n",
       "      <td>0</td>\n",
       "      <td>1386</td>\n",
       "      <td>120</td>\n",
       "      <td>15</td>\n",
       "      <td>283</td>\n",
       "      <td>744</td>\n",
       "      <td>494</td>\n",
       "      <td>Kuala Lumpur</td>\n",
       "    </tr>\n",
       "  </tbody>\n",
       "</table>\n",
       "<p>2002 rows × 20 columns</p>\n",
       "</div>"
      ],
      "text/plain": [
       "             date                           hospital  daily  blood_a  blood_b  \\\n",
       "143176 2023-10-27      Hospital Sultanah Nora Ismail      0        0        0   \n",
       "143177 2023-10-27           Hospital Sultanah Aminah      0        0        0   \n",
       "143178 2023-10-27          Hospital Sultanah Bahiyah    101       25       27   \n",
       "143179 2023-10-27  Hospital Raja Perempuan Zainab II      0        0        0   \n",
       "143180 2023-10-27                    Hospital Melaka     95       24       30   \n",
       "...           ...                                ...    ...      ...      ...   \n",
       "145173 2024-01-25                     Hospital Tawau     19        6        2   \n",
       "145174 2024-01-25              Hospital Umum Sarawak     72       11       22   \n",
       "145175 2024-01-25                      Hospital Miri      4        1        2   \n",
       "145176 2024-01-25                      Hospital Sibu     30        7       10   \n",
       "145177 2024-01-25                 Pusat Darah Negara   1521      334      475   \n",
       "\n",
       "        blood_o  blood_ab  location_centre  location_mobile  type_wholeblood  \\\n",
       "143176        0         0                0                0                0   \n",
       "143177        0         0                0                0                0   \n",
       "143178       43         6                0              101              101   \n",
       "143179        0         0                0                0                0   \n",
       "143180       31        10                8               87               95   \n",
       "...         ...       ...              ...              ...              ...   \n",
       "145173       11         0                2               17               19   \n",
       "145174       34         5               39               33               72   \n",
       "145175        1         0                4                0                4   \n",
       "145176       13         0                8               22               30   \n",
       "145177      687        25              114             1407             1496   \n",
       "\n",
       "        type_apheresis_platelet  type_apheresis_plasma  type_other  \\\n",
       "143176                        0                      0           0   \n",
       "143177                        0                      0           0   \n",
       "143178                        0                      0           0   \n",
       "143179                        0                      0           0   \n",
       "143180                        0                      0           0   \n",
       "...                         ...                    ...         ...   \n",
       "145173                        0                      0           0   \n",
       "145174                        0                      0           0   \n",
       "145175                        0                      0           0   \n",
       "145176                        0                      0           0   \n",
       "145177                       10                     15           0   \n",
       "\n",
       "        social_civilian  social_student  social_policearmy  donations_new  \\\n",
       "143176                0               0                  0              0   \n",
       "143177                0               0                  0              0   \n",
       "143178              100               1                  0              4   \n",
       "143179                0               0                  0              0   \n",
       "143180               91               3                  1             19   \n",
       "...                 ...             ...                ...            ...   \n",
       "145173               19               0                  0              1   \n",
       "145174               68               3                  1             13   \n",
       "145175                4               0                  0              0   \n",
       "145176               24               6                  0             18   \n",
       "145177             1386             120                 15            283   \n",
       "\n",
       "        donations_regular  donations_irregular         state  \n",
       "143176                  0                    0         Johor  \n",
       "143177                  0                    0         Johor  \n",
       "143178                 89                    8         Kedah  \n",
       "143179                  0                    0      Kelantan  \n",
       "143180                 53                   23        Melaka  \n",
       "...                   ...                  ...           ...  \n",
       "145173                 18                    0         Sabah  \n",
       "145174                 43                   16       Sarawak  \n",
       "145175                  4                    0       Sarawak  \n",
       "145176                  9                    3       Sarawak  \n",
       "145177                744                  494  Kuala Lumpur  \n",
       "\n",
       "[2002 rows x 20 columns]"
      ]
     },
     "execution_count": 135,
     "metadata": {},
     "output_type": "execute_result"
    }
   ],
   "source": [
    "#Filter the data by last 3 months\n",
    "facility_df['date']= pd.to_datetime(facility_df['date']) # set the column data type into pandas datetime\n",
    "latest_date = max(facility_df['date']) #Get the latest date in the dataframe\n",
    "last_3_months = latest_date-pd.Timedelta(days=90) #Get the date 3 months ago\n",
    "last3_df = facility_df[facility_df['date']>=last_3_months] #Filter the data by last 3 months\n",
    "last3_df"
   ]
  },
  {
   "cell_type": "code",
   "execution_count": 136,
   "metadata": {},
   "outputs": [
    {
     "data": {
      "text/html": [
       "<div>\n",
       "<style scoped>\n",
       "    .dataframe tbody tr th:only-of-type {\n",
       "        vertical-align: middle;\n",
       "    }\n",
       "\n",
       "    .dataframe tbody tr th {\n",
       "        vertical-align: top;\n",
       "    }\n",
       "\n",
       "    .dataframe thead th {\n",
       "        text-align: right;\n",
       "    }\n",
       "</style>\n",
       "<table border=\"1\" class=\"dataframe\">\n",
       "  <thead>\n",
       "    <tr style=\"text-align: right;\">\n",
       "      <th></th>\n",
       "      <th>state</th>\n",
       "      <th>total_donation</th>\n",
       "    </tr>\n",
       "  </thead>\n",
       "  <tbody>\n",
       "    <tr>\n",
       "      <th>0</th>\n",
       "      <td>Johor</td>\n",
       "      <td>11436</td>\n",
       "    </tr>\n",
       "    <tr>\n",
       "      <th>1</th>\n",
       "      <td>Kedah</td>\n",
       "      <td>5370</td>\n",
       "    </tr>\n",
       "    <tr>\n",
       "      <th>2</th>\n",
       "      <td>Kelantan</td>\n",
       "      <td>4343</td>\n",
       "    </tr>\n",
       "    <tr>\n",
       "      <th>3</th>\n",
       "      <td>Kuala Lumpur</td>\n",
       "      <td>50474</td>\n",
       "    </tr>\n",
       "    <tr>\n",
       "      <th>4</th>\n",
       "      <td>Melaka</td>\n",
       "      <td>6806</td>\n",
       "    </tr>\n",
       "    <tr>\n",
       "      <th>5</th>\n",
       "      <td>Negeri Sembilan</td>\n",
       "      <td>4326</td>\n",
       "    </tr>\n",
       "    <tr>\n",
       "      <th>6</th>\n",
       "      <td>Pahang</td>\n",
       "      <td>5506</td>\n",
       "    </tr>\n",
       "    <tr>\n",
       "      <th>7</th>\n",
       "      <td>Penang</td>\n",
       "      <td>9635</td>\n",
       "    </tr>\n",
       "    <tr>\n",
       "      <th>8</th>\n",
       "      <td>Perak</td>\n",
       "      <td>10974</td>\n",
       "    </tr>\n",
       "    <tr>\n",
       "      <th>9</th>\n",
       "      <td>Sabah</td>\n",
       "      <td>10185</td>\n",
       "    </tr>\n",
       "    <tr>\n",
       "      <th>10</th>\n",
       "      <td>Sarawak</td>\n",
       "      <td>10379</td>\n",
       "    </tr>\n",
       "    <tr>\n",
       "      <th>11</th>\n",
       "      <td>Selangor</td>\n",
       "      <td>7616</td>\n",
       "    </tr>\n",
       "    <tr>\n",
       "      <th>12</th>\n",
       "      <td>Terengganu</td>\n",
       "      <td>5228</td>\n",
       "    </tr>\n",
       "  </tbody>\n",
       "</table>\n",
       "</div>"
      ],
      "text/plain": [
       "              state  total_donation\n",
       "0             Johor           11436\n",
       "1             Kedah            5370\n",
       "2          Kelantan            4343\n",
       "3      Kuala Lumpur           50474\n",
       "4            Melaka            6806\n",
       "5   Negeri Sembilan            4326\n",
       "6            Pahang            5506\n",
       "7            Penang            9635\n",
       "8             Perak           10974\n",
       "9             Sabah           10185\n",
       "10          Sarawak           10379\n",
       "11         Selangor            7616\n",
       "12       Terengganu            5228"
      ]
     },
     "execution_count": 136,
     "metadata": {},
     "output_type": "execute_result"
    }
   ],
   "source": [
    "#group by state\n",
    "state3_df = last3_df.groupby('state')['daily'].sum().reset_index(name='total_donation')\n",
    "state3_df"
   ]
  },
  {
   "cell_type": "markdown",
   "metadata": {},
   "source": [
    "From the dataset of MOH, It seems there are no data for blood donation in Perlis."
   ]
  },
  {
   "cell_type": "markdown",
   "metadata": {},
   "source": [
    "To do Choropleth, we need to use polygon data to get the boundary of each state in the dataset,\n",
    "I found the polygon data with this link https://cartographyvectors.com/map/1477-malaysia-with-regions"
   ]
  },
  {
   "cell_type": "code",
   "execution_count": 137,
   "metadata": {},
   "outputs": [
    {
     "data": {
      "text/html": [
       "<div>\n",
       "<style scoped>\n",
       "    .dataframe tbody tr th:only-of-type {\n",
       "        vertical-align: middle;\n",
       "    }\n",
       "\n",
       "    .dataframe tbody tr th {\n",
       "        vertical-align: top;\n",
       "    }\n",
       "\n",
       "    .dataframe thead th {\n",
       "        text-align: right;\n",
       "    }\n",
       "</style>\n",
       "<table border=\"1\" class=\"dataframe\">\n",
       "  <thead>\n",
       "    <tr style=\"text-align: right;\">\n",
       "      <th></th>\n",
       "      <th>id</th>\n",
       "      <th>name</th>\n",
       "      <th>density</th>\n",
       "      <th>path</th>\n",
       "      <th>geometry</th>\n",
       "    </tr>\n",
       "  </thead>\n",
       "  <tbody>\n",
       "    <tr>\n",
       "      <th>0</th>\n",
       "      <td>5871</td>\n",
       "      <td>Federal Territory of Kuala Lumpur</td>\n",
       "      <td>0</td>\n",
       "      <td>/world/Malaysia/Federal Territory of Kuala Lumpur</td>\n",
       "      <td>MULTIPOLYGON (((101.63830 3.22810, 101.66559 3...</td>\n",
       "    </tr>\n",
       "    <tr>\n",
       "      <th>1</th>\n",
       "      <td>5874</td>\n",
       "      <td>Federal Territory of Putrajaya</td>\n",
       "      <td>0</td>\n",
       "      <td>/world/Malaysia/Federal Territory of Putrajaya</td>\n",
       "      <td>MULTIPOLYGON (((101.67933 2.97116, 101.68001 2...</td>\n",
       "    </tr>\n",
       "    <tr>\n",
       "      <th>2</th>\n",
       "      <td>5878</td>\n",
       "      <td>Johor</td>\n",
       "      <td>0</td>\n",
       "      <td>/world/Malaysia/Johor</td>\n",
       "      <td>MULTIPOLYGON (((103.63678 2.65774, 103.65669 2...</td>\n",
       "    </tr>\n",
       "    <tr>\n",
       "      <th>3</th>\n",
       "      <td>5875</td>\n",
       "      <td>Kedah</td>\n",
       "      <td>0</td>\n",
       "      <td>/world/Malaysia/Kedah</td>\n",
       "      <td>MULTIPOLYGON (((100.33882 5.57806, 100.33058 5...</td>\n",
       "    </tr>\n",
       "    <tr>\n",
       "      <th>4</th>\n",
       "      <td>5879</td>\n",
       "      <td>Kelantan</td>\n",
       "      <td>0</td>\n",
       "      <td>/world/Malaysia/Kelantan</td>\n",
       "      <td>MULTIPOLYGON (((102.09183 6.23886, 102.16461 6...</td>\n",
       "    </tr>\n",
       "  </tbody>\n",
       "</table>\n",
       "</div>"
      ],
      "text/plain": [
       "     id                               name  density  \\\n",
       "0  5871  Federal Territory of Kuala Lumpur        0   \n",
       "1  5874     Federal Territory of Putrajaya        0   \n",
       "2  5878                              Johor        0   \n",
       "3  5875                              Kedah        0   \n",
       "4  5879                           Kelantan        0   \n",
       "\n",
       "                                                path  \\\n",
       "0  /world/Malaysia/Federal Territory of Kuala Lumpur   \n",
       "1     /world/Malaysia/Federal Territory of Putrajaya   \n",
       "2                              /world/Malaysia/Johor   \n",
       "3                              /world/Malaysia/Kedah   \n",
       "4                           /world/Malaysia/Kelantan   \n",
       "\n",
       "                                            geometry  \n",
       "0  MULTIPOLYGON (((101.63830 3.22810, 101.66559 3...  \n",
       "1  MULTIPOLYGON (((101.67933 2.97116, 101.68001 2...  \n",
       "2  MULTIPOLYGON (((103.63678 2.65774, 103.65669 2...  \n",
       "3  MULTIPOLYGON (((100.33882 5.57806, 100.33058 5...  \n",
       "4  MULTIPOLYGON (((102.09183 6.23886, 102.16461 6...  "
      ]
     },
     "execution_count": 137,
     "metadata": {},
     "output_type": "execute_result"
    }
   ],
   "source": [
    "#read geojson file\n",
    "gdf = gpd.read_file('malaysia-with-regions_.geojson')\n",
    "gdf.head()"
   ]
  },
  {
   "cell_type": "code",
   "execution_count": 138,
   "metadata": {},
   "outputs": [
    {
     "data": {
      "text/html": [
       "<div>\n",
       "<style scoped>\n",
       "    .dataframe tbody tr th:only-of-type {\n",
       "        vertical-align: middle;\n",
       "    }\n",
       "\n",
       "    .dataframe tbody tr th {\n",
       "        vertical-align: top;\n",
       "    }\n",
       "\n",
       "    .dataframe thead th {\n",
       "        text-align: right;\n",
       "    }\n",
       "</style>\n",
       "<table border=\"1\" class=\"dataframe\">\n",
       "  <thead>\n",
       "    <tr style=\"text-align: right;\">\n",
       "      <th></th>\n",
       "      <th>name</th>\n",
       "      <th>geometry</th>\n",
       "    </tr>\n",
       "  </thead>\n",
       "  <tbody>\n",
       "    <tr>\n",
       "      <th>0</th>\n",
       "      <td>Johor</td>\n",
       "      <td>MULTIPOLYGON (((103.63678 2.65774, 103.65669 2...</td>\n",
       "    </tr>\n",
       "    <tr>\n",
       "      <th>1</th>\n",
       "      <td>Kedah</td>\n",
       "      <td>MULTIPOLYGON (((100.33882 5.57806, 100.33058 5...</td>\n",
       "    </tr>\n",
       "    <tr>\n",
       "      <th>2</th>\n",
       "      <td>Kelantan</td>\n",
       "      <td>MULTIPOLYGON (((102.09183 6.23886, 102.16461 6...</td>\n",
       "    </tr>\n",
       "    <tr>\n",
       "      <th>3</th>\n",
       "      <td>Kuala Lumpur</td>\n",
       "      <td>MULTIPOLYGON (((101.63830 3.22810, 101.66559 3...</td>\n",
       "    </tr>\n",
       "    <tr>\n",
       "      <th>4</th>\n",
       "      <td>Melaka</td>\n",
       "      <td>MULTIPOLYGON (((102.48837 2.09912, 102.47412 2...</td>\n",
       "    </tr>\n",
       "  </tbody>\n",
       "</table>\n",
       "</div>"
      ],
      "text/plain": [
       "           name                                           geometry\n",
       "0         Johor  MULTIPOLYGON (((103.63678 2.65774, 103.65669 2...\n",
       "1         Kedah  MULTIPOLYGON (((100.33882 5.57806, 100.33058 5...\n",
       "2      Kelantan  MULTIPOLYGON (((102.09183 6.23886, 102.16461 6...\n",
       "3  Kuala Lumpur  MULTIPOLYGON (((101.63830 3.22810, 101.66559 3...\n",
       "4        Melaka  MULTIPOLYGON (((102.48837 2.09912, 102.47412 2..."
      ]
     },
     "execution_count": 138,
     "metadata": {},
     "output_type": "execute_result"
    }
   ],
   "source": [
    "# We need to process the geospatial data so we can merge it with the donations dataset\n",
    "gdf.drop(columns=['id','density','path'],axis=1,inplace=True)#drop col\n",
    "gdf.drop(index=[1,10],inplace=True)#drop Perlis and Putrajaya\n",
    "gdf.loc[0,'name'] = 'Kuala Lumpur' #rename Wilayah KL to Kuala Lumpur\n",
    "gdf.sort_values(by='name',inplace=True) #Sort by name\n",
    "gdf.reset_index(inplace=True,drop=True)#reset index\n",
    "gdf.head()"
   ]
  },
  {
   "cell_type": "code",
   "execution_count": 139,
   "metadata": {},
   "outputs": [
    {
     "data": {
      "text/html": [
       "<div>\n",
       "<style scoped>\n",
       "    .dataframe tbody tr th:only-of-type {\n",
       "        vertical-align: middle;\n",
       "    }\n",
       "\n",
       "    .dataframe tbody tr th {\n",
       "        vertical-align: top;\n",
       "    }\n",
       "\n",
       "    .dataframe thead th {\n",
       "        text-align: right;\n",
       "    }\n",
       "</style>\n",
       "<table border=\"1\" class=\"dataframe\">\n",
       "  <thead>\n",
       "    <tr style=\"text-align: right;\">\n",
       "      <th></th>\n",
       "      <th>geometry</th>\n",
       "      <th>state</th>\n",
       "      <th>total_donation</th>\n",
       "    </tr>\n",
       "  </thead>\n",
       "  <tbody>\n",
       "    <tr>\n",
       "      <th>0</th>\n",
       "      <td>MULTIPOLYGON (((103.63678 2.65774, 103.65669 2...</td>\n",
       "      <td>Johor</td>\n",
       "      <td>11436</td>\n",
       "    </tr>\n",
       "    <tr>\n",
       "      <th>1</th>\n",
       "      <td>MULTIPOLYGON (((100.33882 5.57806, 100.33058 5...</td>\n",
       "      <td>Kedah</td>\n",
       "      <td>5370</td>\n",
       "    </tr>\n",
       "    <tr>\n",
       "      <th>2</th>\n",
       "      <td>MULTIPOLYGON (((102.09183 6.23886, 102.16461 6...</td>\n",
       "      <td>Kelantan</td>\n",
       "      <td>4343</td>\n",
       "    </tr>\n",
       "    <tr>\n",
       "      <th>3</th>\n",
       "      <td>MULTIPOLYGON (((101.63830 3.22810, 101.66559 3...</td>\n",
       "      <td>Kuala Lumpur</td>\n",
       "      <td>50474</td>\n",
       "    </tr>\n",
       "    <tr>\n",
       "      <th>4</th>\n",
       "      <td>MULTIPOLYGON (((102.48837 2.09912, 102.47412 2...</td>\n",
       "      <td>Melaka</td>\n",
       "      <td>6806</td>\n",
       "    </tr>\n",
       "    <tr>\n",
       "      <th>5</th>\n",
       "      <td>MULTIPOLYGON (((101.97475 2.38986, 101.97166 2...</td>\n",
       "      <td>Negeri Sembilan</td>\n",
       "      <td>4326</td>\n",
       "    </tr>\n",
       "    <tr>\n",
       "      <th>6</th>\n",
       "      <td>MULTIPOLYGON (((103.42117 4.17557, 103.40195 4...</td>\n",
       "      <td>Pahang</td>\n",
       "      <td>5506</td>\n",
       "    </tr>\n",
       "    <tr>\n",
       "      <th>7</th>\n",
       "      <td>MULTIPOLYGON (((100.39513 5.12685, 100.42602 5...</td>\n",
       "      <td>Penang</td>\n",
       "      <td>9635</td>\n",
       "    </tr>\n",
       "    <tr>\n",
       "      <th>8</th>\n",
       "      <td>MULTIPOLYGON (((100.81535 3.84987, 100.76111 3...</td>\n",
       "      <td>Perak</td>\n",
       "      <td>10974</td>\n",
       "    </tr>\n",
       "    <tr>\n",
       "      <th>9</th>\n",
       "      <td>MULTIPOLYGON (((115.40588 4.96509, 115.55420 5...</td>\n",
       "      <td>Sabah</td>\n",
       "      <td>10185</td>\n",
       "    </tr>\n",
       "    <tr>\n",
       "      <th>10</th>\n",
       "      <td>MULTIPOLYGON (((109.64356 2.05400, 109.66003 1...</td>\n",
       "      <td>Sarawak</td>\n",
       "      <td>10379</td>\n",
       "    </tr>\n",
       "    <tr>\n",
       "      <th>11</th>\n",
       "      <td>MULTIPOLYGON (((101.71366 2.59446, 101.69083 2...</td>\n",
       "      <td>Selangor</td>\n",
       "      <td>7616</td>\n",
       "    </tr>\n",
       "    <tr>\n",
       "      <th>12</th>\n",
       "      <td>MULTIPOLYGON (((102.53566 5.84589, 102.56355 5...</td>\n",
       "      <td>Terengganu</td>\n",
       "      <td>5228</td>\n",
       "    </tr>\n",
       "  </tbody>\n",
       "</table>\n",
       "</div>"
      ],
      "text/plain": [
       "                                             geometry            state  \\\n",
       "0   MULTIPOLYGON (((103.63678 2.65774, 103.65669 2...            Johor   \n",
       "1   MULTIPOLYGON (((100.33882 5.57806, 100.33058 5...            Kedah   \n",
       "2   MULTIPOLYGON (((102.09183 6.23886, 102.16461 6...         Kelantan   \n",
       "3   MULTIPOLYGON (((101.63830 3.22810, 101.66559 3...     Kuala Lumpur   \n",
       "4   MULTIPOLYGON (((102.48837 2.09912, 102.47412 2...           Melaka   \n",
       "5   MULTIPOLYGON (((101.97475 2.38986, 101.97166 2...  Negeri Sembilan   \n",
       "6   MULTIPOLYGON (((103.42117 4.17557, 103.40195 4...           Pahang   \n",
       "7   MULTIPOLYGON (((100.39513 5.12685, 100.42602 5...           Penang   \n",
       "8   MULTIPOLYGON (((100.81535 3.84987, 100.76111 3...            Perak   \n",
       "9   MULTIPOLYGON (((115.40588 4.96509, 115.55420 5...            Sabah   \n",
       "10  MULTIPOLYGON (((109.64356 2.05400, 109.66003 1...          Sarawak   \n",
       "11  MULTIPOLYGON (((101.71366 2.59446, 101.69083 2...         Selangor   \n",
       "12  MULTIPOLYGON (((102.53566 5.84589, 102.56355 5...       Terengganu   \n",
       "\n",
       "    total_donation  \n",
       "0            11436  \n",
       "1             5370  \n",
       "2             4343  \n",
       "3            50474  \n",
       "4             6806  \n",
       "5             4326  \n",
       "6             5506  \n",
       "7             9635  \n",
       "8            10974  \n",
       "9            10185  \n",
       "10           10379  \n",
       "11            7616  \n",
       "12            5228  "
      ]
     },
     "execution_count": 139,
     "metadata": {},
     "output_type": "execute_result"
    }
   ],
   "source": [
    "#Merging with the donations dataset\n",
    "state3_df_merged = gdf.merge(state3_df, how='left', left_on='name', right_on='state')\n",
    "state3_df_merged=state3_df_merged.iloc[:,1:]\n",
    "state3_df_merged"
   ]
  },
  {
   "cell_type": "code",
   "execution_count": 140,
   "metadata": {},
   "outputs": [
    {
     "data": {
      "image/png": "[encoded data removed]",
      "text/plain": [
       "<Figure size 1000x1000 with 3 Axes>"
      ]
     },
     "metadata": {},
     "output_type": "display_data"
    }
   ],
   "source": [
    "# Normalize Total Donation \n",
    "vmin, vmax = state3_df_merged['total_donation'].min(), state3_df_merged['total_donation'].max()\n",
    "norm = Normalize(vmin=vmin, vmax=vmax)\n",
    "colour_gradient = 'Reds'\n",
    "\n",
    "# Create the main plot for Peninsular Malaysia excluding Kuala Lumpur for clarity\n",
    "fig, ax_main = plt.subplots(figsize=(10, 10))\n",
    "plt.text(x=103,y=6,s = 'Blood Donations by State for Last 90 days',fontsize = 'xx-large')\n",
    "plt.text(x=103,y=6.5,s = 'Blood Donations by State for Last 90 dazys',fontsize = 'xx-large')\n",
    "peninsular_without_kl = state3_df_merged[(state3_df_merged['state'] != 'Sabah') & (state3_df_merged['state'] != 'Sarawak') & (state3_df_merged['state'] != 'Kuala Lumpur')]\n",
    "peninsular_without_kl.plot(column='total_donation', ax=ax_main, cmap=colour_gradient, norm=norm)\n",
    "\n",
    "# Create an inset for Sabah and Sarawak\n",
    "ax_sabah_sarawak = inset_axes(ax_main, width=\"150%\", height=\"150%\", loc='center left',\n",
    "                               bbox_to_anchor=(1, 0.1, 1, 1), bbox_transform=ax_main.transAxes)\n",
    "sabah_sarawak = state3_df_merged[(state3_df_merged['state'] == 'Sabah') | (state3_df_merged['state'] == 'Sarawak')]\n",
    "sabah_sarawak.plot(column='total_donation', ax=ax_sabah_sarawak, cmap=colour_gradient,norm=norm)\n",
    "\n",
    "# Adjust Sabah and Sarawak plot (optional zoom and removing axis)\n",
    "ax_sabah_sarawak.set_xlim([sabah_sarawak.total_bounds[0], sabah_sarawak.total_bounds[2]])\n",
    "ax_sabah_sarawak.set_ylim([sabah_sarawak.total_bounds[1], sabah_sarawak.total_bounds[3]])\n",
    "ax_sabah_sarawak.set_frame_on(False)\n",
    "ax_sabah_sarawak.set_xticks([])\n",
    "ax_sabah_sarawak.set_yticks([])\n",
    "\n",
    "# Create an inset for Kuala Lumpur\n",
    "ax_kl = inset_axes(ax_main, width=\"15%\", height=\"15%\", loc='lower left',\n",
    "                    bbox_to_anchor=(0.1, 0.1, 1, 1), bbox_transform=ax_main.transAxes)\n",
    "kl = state3_df_merged[state3_df_merged['state'] == 'Kuala Lumpur']\n",
    "kl.plot(column='total_donation', ax=ax_kl, cmap=colour_gradient,norm=norm)\n",
    "\n",
    "# Adjust Kuala Lumpur plot (optional zoom and removing axis)\n",
    "ax_kl.set_xlim([kl.total_bounds[0], kl.total_bounds[2]])\n",
    "ax_kl.set_ylim([kl.total_bounds[1], kl.total_bounds[3]])\n",
    "ax_kl.set_frame_on(False)\n",
    "ax_kl.set_xticks([])\n",
    "ax_kl.set_yticks([])\n",
    "\n",
    "# Remove axis for the main plot for a cleaner look\n",
    "ax_main.set_axis_off()\n",
    "\n",
    "# Add Label to the plot\n",
    "for idx, row in state3_df_merged.iterrows():\n",
    "    \n",
    "    # Get the position of the label\n",
    "    x, y = row['geometry'].centroid.x, row['geometry'].centroid.y\n",
    "    \n",
    "    # Define the label text\n",
    "    label_text = f\"{row['state']}\\n{row['total_donation']}\"\n",
    "    # Place the label on the map\n",
    "    if row['state'] == 'Kuala Lumpur':\n",
    "        ax_kl.text(x-0.1, y+0.1, label_text, fontsize=8, ha='center', va='center',color='black')\n",
    "    \n",
    "    elif (row['state'] == 'Sarawak') | (row['state'] == 'Sabah'):\n",
    "        ax_sabah_sarawak.text(x, y, label_text, fontsize=8, ha='center', va='center')\n",
    "    \n",
    "    else:\n",
    "        ax_main.text(x, y, label_text, fontsize=8, ha='center', va='center')\n",
    "\n",
    "# Add title to the main plot\n",
    "\n",
    "\n",
    "# Show the map\n",
    "plt.show()"
   ]
  },
  {
   "cell_type": "markdown",
   "metadata": {},
   "source": [
    "The data only shows blood donations but does not present the stocks of the blood itself"
   ]
  },
  {
   "cell_type": "code",
   "execution_count": 141,
   "metadata": {},
   "outputs": [
    {
     "data": {
      "application/vnd.plotly.v1+json": {
       "config": {
        "plotlyServerURL": "https://plot.ly"
       },
       "data": [
        {
         "link": {
          "source": [
           0,
           0,
           1,
           2,
           3,
           4,
           5,
           5,
           6,
           6,
           7,
           7,
           7,
           8,
           9,
           10,
           10,
           10,
           11,
           11,
           11,
           12,
           13,
           13,
           13,
           13,
           14,
           14,
           14,
           14,
           15,
           15,
           15,
           15,
           16,
           16,
           16,
           16,
           17,
           17,
           17,
           17,
           18,
           18,
           18,
           18,
           19,
           19,
           19,
           19,
           20,
           20,
           20,
           20,
           21,
           21,
           21,
           21,
           22,
           22,
           22,
           22,
           23,
           23,
           23,
           23,
           24,
           24,
           24,
           24,
           25,
           25,
           25,
           25,
           26,
           26,
           26,
           26,
           27,
           27,
           27,
           27,
           28,
           28,
           28,
           28,
           29,
           29,
           29,
           29,
           30,
           30,
           30,
           30,
           31,
           31,
           31,
           31,
           32,
           32,
           32,
           32,
           33,
           33,
           33,
           33,
           34,
           34,
           34,
           34
          ],
          "target": [
           13,
           14,
           15,
           16,
           17,
           18,
           19,
           20,
           21,
           22,
           23,
           24,
           25,
           26,
           27,
           28,
           29,
           30,
           31,
           32,
           33,
           34,
           35,
           36,
           37,
           38,
           35,
           36,
           37,
           38,
           35,
           36,
           37,
           38,
           35,
           36,
           37,
           38,
           35,
           36,
           37,
           38,
           35,
           36,
           37,
           38,
           35,
           36,
           37,
           38,
           35,
           36,
           37,
           38,
           35,
           36,
           37,
           38,
           35,
           36,
           37,
           38,
           35,
           36,
           37,
           38,
           35,
           36,
           37,
           38,
           35,
           36,
           37,
           38,
           35,
           36,
           37,
           38,
           35,
           36,
           37,
           38,
           35,
           36,
           37,
           38,
           35,
           36,
           37,
           38,
           35,
           36,
           37,
           38,
           35,
           36,
           37,
           38,
           35,
           36,
           37,
           38,
           35,
           36,
           37,
           38,
           35,
           36,
           37,
           38
          ],
          "value": [
           78,
           80,
           44,
           48,
           57,
           0,
           49,
           38,
           52,
           324,
           143,
           6,
           32,
           151,
           113,
           53,
           32,
           19,
           72,
           4,
           30,
           1521,
           24,
           21,
           27,
           6,
           19,
           22,
           39,
           0,
           10,
           14,
           16,
           4,
           14,
           13,
           18,
           3,
           12,
           18,
           25,
           2,
           0,
           0,
           0,
           0,
           19,
           11,
           17,
           2,
           11,
           10,
           17,
           0,
           11,
           21,
           17,
           3,
           55,
           116,
           131,
           22,
           30,
           46,
           58,
           9,
           1,
           1,
           4,
           0,
           8,
           9,
           14,
           1,
           33,
           51,
           59,
           8,
           23,
           37,
           44,
           9,
           9,
           6,
           36,
           2,
           9,
           7,
           12,
           4,
           6,
           2,
           11,
           0,
           11,
           22,
           34,
           5,
           1,
           2,
           1,
           0,
           7,
           10,
           13,
           0,
           334,
           475,
           687,
           25
          ]
         },
         "node": {
          "label": [
           "Johor",
           "Kedah",
           "Kelantan",
           "Melaka",
           "Negeri Sembilan",
           "Pahang",
           "Penang",
           "Perak",
           "Selangor",
           "Terengganu",
           "Sabah",
           "Sarawak",
           "Kuala Lumpur",
           "Hospital Sultanah Nora Ismail",
           "Hospital Sultanah Aminah",
           "Hospital Sultanah Bahiyah",
           "Hospital Raja Perempuan Zainab II",
           "Hospital Melaka",
           "Hospital Tuanku Jaafar",
           "Hospital Tengku Ampuan Afzan",
           "Hospital Sultan Haji Ahmad Shah",
           "Hospital Seberang Jaya",
           "Hospital Pulau Pinang",
           "Hospital Raja Permaisuri Bainun",
           "Hospital Taiping",
           "Hospital Seri Manjung",
           "Hospital Tengku Ampuan Rahimah",
           "Hospital Sultanah Nur Zahirah",
           "Hospital Queen Elizabeth II",
           "Hospital Duchess Of Kent",
           "Hospital Tawau",
           "Hospital Umum Sarawak",
           "Hospital Miri",
           "Hospital Sibu",
           "Pusat Darah Negara",
           "a",
           "b",
           "o",
           "ab"
          ],
          "line": {
           "color": "black",
           "width": 0.5
          },
          "pad": 15,
          "thickness": 10
         },
         "type": "sankey"
        }
       ],
       "layout": {
        "font": {
         "size": 10
        },
        "template": {
         "data": {
          "bar": [
           {
            "error_x": {
             "color": "#2a3f5f"
            },
            "error_y": {
             "color": "#2a3f5f"
            },
            "marker": {
             "line": {
              "color": "#E5ECF6",
              "width": 0.5
             },
             "pattern": {
              "fillmode": "overlay",
              "size": 10,
              "solidity": 0.2
             }
            },
            "type": "bar"
           }
          ],
          "barpolar": [
           {
            "marker": {
             "line": {
              "color": "#E5ECF6",
              "width": 0.5
             },
             "pattern": {
              "fillmode": "overlay",
              "size": 10,
              "solidity": 0.2
             }
            },
            "type": "barpolar"
           }
          ],
          "carpet": [
           {
            "aaxis": {
             "endlinecolor": "#2a3f5f",
             "gridcolor": "white",
             "linecolor": "white",
             "minorgridcolor": "white",
             "startlinecolor": "#2a3f5f"
            },
            "baxis": {
             "endlinecolor": "#2a3f5f",
             "gridcolor": "white",
             "linecolor": "white",
             "minorgridcolor": "white",
             "startlinecolor": "#2a3f5f"
            },
            "type": "carpet"
           }
          ],
          "choropleth": [
           {
            "colorbar": {
             "outlinewidth": 0,
             "ticks": ""
            },
            "type": "choropleth"
           }
          ],
          "contour": [
           {
            "colorbar": {
             "outlinewidth": 0,
             "ticks": ""
            },
            "colorscale": [
             [
              0,
              "#0d0887"
             ],
             [
              0.1111111111111111,
              "#46039f"
             ],
             [
              0.2222222222222222,
              "#7201a8"
             ],
             [
              0.3333333333333333,
              "#9c179e"
             ],
             [
              0.4444444444444444,
              "#bd3786"
             ],
             [
              0.5555555555555556,
              "#d8576b"
             ],
             [
              0.6666666666666666,
              "#ed7953"
             ],
             [
              0.7777777777777778,
              "#fb9f3a"
             ],
             [
              0.8888888888888888,
              "#fdca26"
             ],
             [
              1,
              "#f0f921"
             ]
            ],
            "type": "contour"
           }
          ],
          "contourcarpet": [
           {
            "colorbar": {
             "outlinewidth": 0,
             "ticks": ""
            },
            "type": "contourcarpet"
           }
          ],
          "heatmap": [
           {
            "colorbar": {
             "outlinewidth": 0,
             "ticks": ""
            },
            "colorscale": [
             [
              0,
              "#0d0887"
             ],
             [
              0.1111111111111111,
              "#46039f"
             ],
             [
              0.2222222222222222,
              "#7201a8"
             ],
             [
              0.3333333333333333,
              "#9c179e"
             ],
             [
              0.4444444444444444,
              "#bd3786"
             ],
             [
              0.5555555555555556,
              "#d8576b"
             ],
             [
              0.6666666666666666,
              "#ed7953"
             ],
             [
              0.7777777777777778,
              "#fb9f3a"
             ],
             [
              0.8888888888888888,
              "#fdca26"
             ],
             [
              1,
              "#f0f921"
             ]
            ],
            "type": "heatmap"
           }
          ],
          "heatmapgl": [
           {
            "colorbar": {
             "outlinewidth": 0,
             "ticks": ""
            },
            "colorscale": [
             [
              0,
              "#0d0887"
             ],
             [
              0.1111111111111111,
              "#46039f"
             ],
             [
              0.2222222222222222,
              "#7201a8"
             ],
             [
              0.3333333333333333,
              "#9c179e"
             ],
             [
              0.4444444444444444,
              "#bd3786"
             ],
             [
              0.5555555555555556,
              "#d8576b"
             ],
             [
              0.6666666666666666,
              "#ed7953"
             ],
             [
              0.7777777777777778,
              "#fb9f3a"
             ],
             [
              0.8888888888888888,
              "#fdca26"
             ],
             [
              1,
              "#f0f921"
             ]
            ],
            "type": "heatmapgl"
           }
          ],
          "histogram": [
           {
            "marker": {
             "pattern": {
              "fillmode": "overlay",
              "size": 10,
              "solidity": 0.2
             }
            },
            "type": "histogram"
           }
          ],
          "histogram2d": [
           {
            "colorbar": {
             "outlinewidth": 0,
             "ticks": ""
            },
            "colorscale": [
             [
              0,
              "#0d0887"
             ],
             [
              0.1111111111111111,
              "#46039f"
             ],
             [
              0.2222222222222222,
              "#7201a8"
             ],
             [
              0.3333333333333333,
              "#9c179e"
             ],
             [
              0.4444444444444444,
              "#bd3786"
             ],
             [
              0.5555555555555556,
              "#d8576b"
             ],
             [
              0.6666666666666666,
              "#ed7953"
             ],
             [
              0.7777777777777778,
              "#fb9f3a"
             ],
             [
              0.8888888888888888,
              "#fdca26"
             ],
             [
              1,
              "#f0f921"
             ]
            ],
            "type": "histogram2d"
           }
          ],
          "histogram2dcontour": [
           {
            "colorbar": {
             "outlinewidth": 0,
             "ticks": ""
            },
            "colorscale": [
             [
              0,
              "#0d0887"
             ],
             [
              0.1111111111111111,
              "#46039f"
             ],
             [
              0.2222222222222222,
              "#7201a8"
             ],
             [
              0.3333333333333333,
              "#9c179e"
             ],
             [
              0.4444444444444444,
              "#bd3786"
             ],
             [
              0.5555555555555556,
              "#d8576b"
             ],
             [
              0.6666666666666666,
              "#ed7953"
             ],
             [
              0.7777777777777778,
              "#fb9f3a"
             ],
             [
              0.8888888888888888,
              "#fdca26"
             ],
             [
              1,
              "#f0f921"
             ]
            ],
            "type": "histogram2dcontour"
           }
          ],
          "mesh3d": [
           {
            "colorbar": {
             "outlinewidth": 0,
             "ticks": ""
            },
            "type": "mesh3d"
           }
          ],
          "parcoords": [
           {
            "line": {
             "colorbar": {
              "outlinewidth": 0,
              "ticks": ""
             }
            },
            "type": "parcoords"
           }
          ],
          "pie": [
           {
            "automargin": true,
            "type": "pie"
           }
          ],
          "scatter": [
           {
            "fillpattern": {
             "fillmode": "overlay",
             "size": 10,
             "solidity": 0.2
            },
            "type": "scatter"
           }
          ],
          "scatter3d": [
           {
            "line": {
             "colorbar": {
              "outlinewidth": 0,
              "ticks": ""
             }
            },
            "marker": {
             "colorbar": {
              "outlinewidth": 0,
              "ticks": ""
             }
            },
            "type": "scatter3d"
           }
          ],
          "scattercarpet": [
           {
            "marker": {
             "colorbar": {
              "outlinewidth": 0,
              "ticks": ""
             }
            },
            "type": "scattercarpet"
           }
          ],
          "scattergeo": [
           {
            "marker": {
             "colorbar": {
              "outlinewidth": 0,
              "ticks": ""
             }
            },
            "type": "scattergeo"
           }
          ],
          "scattergl": [
           {
            "marker": {
             "colorbar": {
              "outlinewidth": 0,
              "ticks": ""
             }
            },
            "type": "scattergl"
           }
          ],
          "scattermapbox": [
           {
            "marker": {
             "colorbar": {
              "outlinewidth": 0,
              "ticks": ""
             }
            },
            "type": "scattermapbox"
           }
          ],
          "scatterpolar": [
           {
            "marker": {
             "colorbar": {
              "outlinewidth": 0,
              "ticks": ""
             }
            },
            "type": "scatterpolar"
           }
          ],
          "scatterpolargl": [
           {
            "marker": {
             "colorbar": {
              "outlinewidth": 0,
              "ticks": ""
             }
            },
            "type": "scatterpolargl"
           }
          ],
          "scatterternary": [
           {
            "marker": {
             "colorbar": {
              "outlinewidth": 0,
              "ticks": ""
             }
            },
            "type": "scatterternary"
           }
          ],
          "surface": [
           {
            "colorbar": {
             "outlinewidth": 0,
             "ticks": ""
            },
            "colorscale": [
             [
              0,
              "#0d0887"
             ],
             [
              0.1111111111111111,
              "#46039f"
             ],
             [
              0.2222222222222222,
              "#7201a8"
             ],
             [
              0.3333333333333333,
              "#9c179e"
             ],
             [
              0.4444444444444444,
              "#bd3786"
             ],
             [
              0.5555555555555556,
              "#d8576b"
             ],
             [
              0.6666666666666666,
              "#ed7953"
             ],
             [
              0.7777777777777778,
              "#fb9f3a"
             ],
             [
              0.8888888888888888,
              "#fdca26"
             ],
             [
              1,
              "#f0f921"
             ]
            ],
            "type": "surface"
           }
          ],
          "table": [
           {
            "cells": {
             "fill": {
              "color": "#EBF0F8"
             },
             "line": {
              "color": "white"
             }
            },
            "header": {
             "fill": {
              "color": "#C8D4E3"
             },
             "line": {
              "color": "white"
             }
            },
            "type": "table"
           }
          ]
         },
         "layout": {
          "annotationdefaults": {
           "arrowcolor": "#2a3f5f",
           "arrowhead": 0,
           "arrowwidth": 1
          },
          "autotypenumbers": "strict",
          "coloraxis": {
           "colorbar": {
            "outlinewidth": 0,
            "ticks": ""
           }
          },
          "colorscale": {
           "diverging": [
            [
             0,
             "#8e0152"
            ],
            [
             0.1,
             "#c51b7d"
            ],
            [
             0.2,
             "#de77ae"
            ],
            [
             0.3,
             "#f1b6da"
            ],
            [
             0.4,
             "#fde0ef"
            ],
            [
             0.5,
             "#f7f7f7"
            ],
            [
             0.6,
             "#e6f5d0"
            ],
            [
             0.7,
             "#b8e186"
            ],
            [
             0.8,
             "#7fbc41"
            ],
            [
             0.9,
             "#4d9221"
            ],
            [
             1,
             "#276419"
            ]
           ],
           "sequential": [
            [
             0,
             "#0d0887"
            ],
            [
             0.1111111111111111,
             "#46039f"
            ],
            [
             0.2222222222222222,
             "#7201a8"
            ],
            [
             0.3333333333333333,
             "#9c179e"
            ],
            [
             0.4444444444444444,
             "#bd3786"
            ],
            [
             0.5555555555555556,
             "#d8576b"
            ],
            [
             0.6666666666666666,
             "#ed7953"
            ],
            [
             0.7777777777777778,
             "#fb9f3a"
            ],
            [
             0.8888888888888888,
             "#fdca26"
            ],
            [
             1,
             "#f0f921"
            ]
           ],
           "sequentialminus": [
            [
             0,
             "#0d0887"
            ],
            [
             0.1111111111111111,
             "#46039f"
            ],
            [
             0.2222222222222222,
             "#7201a8"
            ],
            [
             0.3333333333333333,
             "#9c179e"
            ],
            [
             0.4444444444444444,
             "#bd3786"
            ],
            [
             0.5555555555555556,
             "#d8576b"
            ],
            [
             0.6666666666666666,
             "#ed7953"
            ],
            [
             0.7777777777777778,
             "#fb9f3a"
            ],
            [
             0.8888888888888888,
             "#fdca26"
            ],
            [
             1,
             "#f0f921"
            ]
           ]
          },
          "colorway": [
           "#636efa",
           "#EF553B",
           "#00cc96",
           "#ab63fa",
           "#FFA15A",
           "#19d3f3",
           "#FF6692",
           "#B6E880",
           "#FF97FF",
           "#FECB52"
          ],
          "font": {
           "color": "#2a3f5f"
          },
          "geo": {
           "bgcolor": "white",
           "lakecolor": "white",
           "landcolor": "#E5ECF6",
           "showlakes": true,
           "showland": true,
           "subunitcolor": "white"
          },
          "hoverlabel": {
           "align": "left"
          },
          "hovermode": "closest",
          "mapbox": {
           "style": "light"
          },
          "paper_bgcolor": "white",
          "plot_bgcolor": "#E5ECF6",
          "polar": {
           "angularaxis": {
            "gridcolor": "white",
            "linecolor": "white",
            "ticks": ""
           },
           "bgcolor": "#E5ECF6",
           "radialaxis": {
            "gridcolor": "white",
            "linecolor": "white",
            "ticks": ""
           }
          },
          "scene": {
           "xaxis": {
            "backgroundcolor": "#E5ECF6",
            "gridcolor": "white",
            "gridwidth": 2,
            "linecolor": "white",
            "showbackground": true,
            "ticks": "",
            "zerolinecolor": "white"
           },
           "yaxis": {
            "backgroundcolor": "#E5ECF6",
            "gridcolor": "white",
            "gridwidth": 2,
            "linecolor": "white",
            "showbackground": true,
            "ticks": "",
            "zerolinecolor": "white"
           },
           "zaxis": {
            "backgroundcolor": "#E5ECF6",
            "gridcolor": "white",
            "gridwidth": 2,
            "linecolor": "white",
            "showbackground": true,
            "ticks": "",
            "zerolinecolor": "white"
           }
          },
          "shapedefaults": {
           "line": {
            "color": "#2a3f5f"
           }
          },
          "ternary": {
           "aaxis": {
            "gridcolor": "white",
            "linecolor": "white",
            "ticks": ""
           },
           "baxis": {
            "gridcolor": "white",
            "linecolor": "white",
            "ticks": ""
           },
           "bgcolor": "#E5ECF6",
           "caxis": {
            "gridcolor": "white",
            "linecolor": "white",
            "ticks": ""
           }
          },
          "title": {
           "x": 0.05
          },
          "xaxis": {
           "automargin": true,
           "gridcolor": "white",
           "linecolor": "white",
           "ticks": "",
           "title": {
            "standoff": 15
           },
           "zerolinecolor": "white",
           "zerolinewidth": 2
          },
          "yaxis": {
           "automargin": true,
           "gridcolor": "white",
           "linecolor": "white",
           "ticks": "",
           "title": {
            "standoff": 15
           },
           "zerolinecolor": "white",
           "zerolinewidth": 2
          }
         }
        },
        "title": {
         "text": "State to Hospital to Blood Type Donations for the latest date (2024-01-25)"
        }
       }
      }
     },
     "metadata": {},
     "output_type": "display_data"
    }
   ],
   "source": [
    "#now prepare data for Sankey\n",
    "today_df = facility_df[facility_df['date']==latest_date][['hospital','state','blood_a','blood_b','blood_o','blood_ab']]\n",
    "# Melt the data to transform blood type columns into rows\n",
    "melted_data = today_df.melt(id_vars=['state', 'hospital'], value_vars=['blood_a', 'blood_b', 'blood_o', 'blood_ab'], \n",
    "                        var_name='blood_type', value_name='donations')\n",
    "\n",
    "# Replace blood type column names with just the blood type\n",
    "melted_data['blood_type'] = melted_data['blood_type'].str.replace('blood_', '')\n",
    "\n",
    "# Creating a list of unique states, hospitals, and blood types to define nodes\n",
    "states = list(melted_data['state'].unique())\n",
    "hospitals = list(melted_data['hospital'].unique())\n",
    "blood_types = list(melted_data['blood_type'].unique())\n",
    "all_nodes = states + hospitals + blood_types\n",
    "\n",
    "# # Create a mapping from node names to indices\n",
    "node_indices = {node: idx for idx, node in enumerate(all_nodes)}\n",
    "# Map the states, hospitals, and blood types to their respective indices\n",
    "melted_data['source_state_to_hospital'] = melted_data['state'].map(node_indices)\n",
    "melted_data['target_hospital_to_blood'] = melted_data['hospital'].map(node_indices)\n",
    "melted_data['target_blood'] = melted_data['blood_type'].map(node_indices)\n",
    "\n",
    "# Create two sets of links: one from state to hospital and another from hospital to blood type\n",
    "links_state_to_hospital = melted_data[['source_state_to_hospital', 'target_hospital_to_blood', 'donations']]\n",
    "links_hospital_to_blood = melted_data[['target_hospital_to_blood', 'target_blood', 'donations']]\n",
    "\n",
    "# Combine the links into a single dataframe\n",
    "links_combined = pd.concat([\n",
    "    links_state_to_hospital.rename(columns={'source_state_to_hospital': 'source', 'target_hospital_to_blood': 'target'}),\n",
    "    links_hospital_to_blood.rename(columns={'target_hospital_to_blood': 'source', 'target_blood': 'target'})\n",
    "])\n",
    "\n",
    "# Sum the donation counts for each link\n",
    "links_summed = links_combined.groupby(['source', 'target']).sum().reset_index()\n",
    "\n",
    "# Create the Sankey diagram\n",
    "fig = go.Figure(data=[go.Sankey(\n",
    "    node = dict(\n",
    "      pad = 15,\n",
    "      thickness = 10,\n",
    "      line = dict(color = \"black\", width = 0.5),\n",
    "      label = all_nodes\n",
    "    ),\n",
    "    link = dict(\n",
    "      source = links_summed['source'],\n",
    "      target = links_summed['target'],\n",
    "      value = links_summed['donations']\n",
    "    ))])\n",
    "\n",
    "fig.update_layout(title_text=f\"State to Hospital to Blood Type Donations for the latest date ({latest_date.date()})\", font_size=10)\n",
    "fig.show()\n"
   ]
  },
  {
   "cell_type": "markdown",
   "metadata": {},
   "source": [
    "Since sankey Chart shows almost similar insight to the choropleth, we will decide to move on with another visualisation"
   ]
  },
  {
   "cell_type": "code",
   "execution_count": 142,
   "metadata": {},
   "outputs": [
    {
     "name": "stderr",
     "output_type": "stream",
     "text": [
      "C:\\Users\\DataMicron\\AppData\\Local\\Temp\\ipykernel_26300\\4160263007.py:9: FutureWarning:\n",
      "\n",
      "last is deprecated and will be removed in a future version. Please create a mask and filter using `.loc` instead\n",
      "\n",
      "C:\\Users\\DataMicron\\AppData\\Local\\Temp\\ipykernel_26300\\4160263007.py:9: FutureWarning:\n",
      "\n",
      "'M' is deprecated and will be removed in a future version, please use 'ME' instead.\n",
      "\n"
     ]
    },
    {
     "data": {
      "image/png": "[encoded data removed]",
      "text/plain": [
       "<Figure size 1800x1400 with 1 Axes>"
      ]
     },
     "metadata": {},
     "output_type": "display_data"
    }
   ],
   "source": [
    "#Prepare to plot Time Series\n",
    "# Grouping data by date\n",
    "aggregated_data = facility_df.groupby('date')[['blood_a', 'blood_b', 'blood_ab', 'blood_o','daily']].sum()\n",
    "\n",
    "# Resampling the data to a monthly frequency and calculating the average daily donations for each blood type\n",
    "average_daily_per_month = aggregated_data.resample('ME').mean()\n",
    "\n",
    "# Selecting the last 15 months for comparison\n",
    "last_15_months_avg_daily = average_daily_per_month.last('15M')\n",
    "\n",
    "# Setting the style for the plot\n",
    "plt.rcParams.update({'font.family':'monospace'})\n",
    "\n",
    "# Creating a larger figure\n",
    "plt.figure(figsize=(18, 14))\n",
    "\n",
    "# Time Series Plot for each blood type with data labels\n",
    "for blood_type, color in zip(['blood_a', 'blood_b', 'blood_ab', 'blood_o'], ['blue', 'green', 'red', 'purple']):\n",
    "    plt.plot(last_15_months_avg_daily.index, last_15_months_avg_daily[blood_type], label=f'Blood Type {blood_type[-1]} - Time Series', color=color, alpha=0.7)\n",
    "    for x, y in zip(last_15_months_avg_daily.index, last_15_months_avg_daily[blood_type]):\n",
    "        plt.text(x, y, f'{y:.1f}', color='black', fontsize=10)\n",
    "\n",
    "# Bar Chart Overlay for average daily donation of all types with data labels\n",
    "bar_width = 20  # days\n",
    "bars = plt.bar(last_15_months_avg_daily.index, last_15_months_avg_daily['daily'], width=bar_width, label='Average Daily - All Types', color='grey', alpha=0.5)\n",
    "for bar in bars:\n",
    "    yval = bar.get_height()\n",
    "    plt.text(bar.get_x() + bar.get_width()/2.0, yval, f'{yval:.1f}', va='bottom', ha='center', fontsize=10)\n",
    "\n",
    "plt.title('Monthly Average Daily Blood Donations by Type and Overall Average (Last 15 Months)', fontsize=14)\n",
    "plt.xlabel('Month', fontsize=12)\n",
    "plt.ylabel('Average Daily Quantity Donated', fontsize=12)\n",
    "plt.xticks(last_15_months_avg_daily.index, rotation=45, fontsize=10)\n",
    "plt.legend(loc='upper left')\n",
    "plt.grid(True)\n",
    "plt.tight_layout()\n",
    "plt.show()"
   ]
  },
  {
   "cell_type": "code",
   "execution_count": null,
   "metadata": {},
   "outputs": [],
   "source": []
  },
  {
   "cell_type": "code",
   "execution_count": null,
   "metadata": {},
   "outputs": [],
   "source": []
  },
  {
   "cell_type": "markdown",
   "metadata": {},
   "source": [
    "<h1>Question 2</h1>\n",
    "<p>Planning:</p>\n",
    "<p>1. Two level Doughnut Chart Shows The Difference of Someone who Donate once and People Who Donate more than one time and group it to how many times had they donated</p>\n",
    "<p>2. Horizontal Bar Chart to show the Distribution of Yesterday Donation by group of donation frequency"
   ]
  },
  {
   "cell_type": "code",
   "execution_count": 143,
   "metadata": {},
   "outputs": [],
   "source": [
    "table = pq.read_table('data_granular\\gran_data.parquet')\n",
    "gran_df = table.to_pandas()"
   ]
  },
  {
   "cell_type": "code",
   "execution_count": 144,
   "metadata": {},
   "outputs": [
    {
     "data": {
      "text/html": [
       "<div>\n",
       "<style scoped>\n",
       "    .dataframe tbody tr th:only-of-type {\n",
       "        vertical-align: middle;\n",
       "    }\n",
       "\n",
       "    .dataframe tbody tr th {\n",
       "        vertical-align: top;\n",
       "    }\n",
       "\n",
       "    .dataframe thead th {\n",
       "        text-align: right;\n",
       "    }\n",
       "</style>\n",
       "<table border=\"1\" class=\"dataframe\">\n",
       "  <thead>\n",
       "    <tr style=\"text-align: right;\">\n",
       "      <th></th>\n",
       "      <th>donor_id</th>\n",
       "      <th>visit_date</th>\n",
       "      <th>birth_date</th>\n",
       "    </tr>\n",
       "  </thead>\n",
       "  <tbody>\n",
       "    <tr>\n",
       "      <th>0</th>\n",
       "      <td>00000</td>\n",
       "      <td>2013-11-03</td>\n",
       "      <td>1964</td>\n",
       "    </tr>\n",
       "    <tr>\n",
       "      <th>1</th>\n",
       "      <td>00000</td>\n",
       "      <td>2014-05-26</td>\n",
       "      <td>1964</td>\n",
       "    </tr>\n",
       "    <tr>\n",
       "      <th>2</th>\n",
       "      <td>00000</td>\n",
       "      <td>2015-01-25</td>\n",
       "      <td>1964</td>\n",
       "    </tr>\n",
       "    <tr>\n",
       "      <th>3</th>\n",
       "      <td>00000</td>\n",
       "      <td>2015-08-09</td>\n",
       "      <td>1964</td>\n",
       "    </tr>\n",
       "    <tr>\n",
       "      <th>4</th>\n",
       "      <td>00000</td>\n",
       "      <td>2016-03-10</td>\n",
       "      <td>1964</td>\n",
       "    </tr>\n",
       "  </tbody>\n",
       "</table>\n",
       "</div>"
      ],
      "text/plain": [
       "  donor_id  visit_date  birth_date\n",
       "0    00000  2013-11-03        1964\n",
       "1    00000  2014-05-26        1964\n",
       "2    00000  2015-01-25        1964\n",
       "3    00000  2015-08-09        1964\n",
       "4    00000  2016-03-10        1964"
      ]
     },
     "execution_count": 144,
     "metadata": {},
     "output_type": "execute_result"
    }
   ],
   "source": [
    "gran_df.head()"
   ]
  },
  {
   "cell_type": "code",
   "execution_count": 145,
   "metadata": {},
   "outputs": [
    {
     "data": {
      "text/plain": [
       "donor_id      0\n",
       "visit_date    0\n",
       "birth_date    0\n",
       "dtype: int64"
      ]
     },
     "execution_count": 145,
     "metadata": {},
     "output_type": "execute_result"
    }
   ],
   "source": [
    "#checking null in the dataset\n",
    "gran_df.isna().sum()"
   ]
  },
  {
   "cell_type": "markdown",
   "metadata": {},
   "source": [
    "Theres no null in the dataset"
   ]
  },
  {
   "cell_type": "code",
   "execution_count": 146,
   "metadata": {},
   "outputs": [
    {
     "data": {
      "text/plain": [
       "2245937"
      ]
     },
     "execution_count": 146,
     "metadata": {},
     "output_type": "execute_result"
    }
   ],
   "source": [
    "#Check the number of donator in the database\n",
    "gran_df['donor_id'].nunique()"
   ]
  },
  {
   "cell_type": "code",
   "execution_count": 147,
   "metadata": {},
   "outputs": [],
   "source": [
    "gran_df['visit_date'] = pd.to_datetime(gran_df['visit_date'])"
   ]
  },
  {
   "cell_type": "code",
   "execution_count": 148,
   "metadata": {},
   "outputs": [],
   "source": [
    "sort_gran = gran_df.sort_values(by=['donor_id','visit_date'])"
   ]
  },
  {
   "cell_type": "code",
   "execution_count": 149,
   "metadata": {},
   "outputs": [
    {
     "data": {
      "text/html": [
       "<div>\n",
       "<style scoped>\n",
       "    .dataframe tbody tr th:only-of-type {\n",
       "        vertical-align: middle;\n",
       "    }\n",
       "\n",
       "    .dataframe tbody tr th {\n",
       "        vertical-align: top;\n",
       "    }\n",
       "\n",
       "    .dataframe thead th {\n",
       "        text-align: right;\n",
       "    }\n",
       "</style>\n",
       "<table border=\"1\" class=\"dataframe\">\n",
       "  <thead>\n",
       "    <tr style=\"text-align: right;\">\n",
       "      <th></th>\n",
       "      <th>donor_id</th>\n",
       "      <th>visit_date</th>\n",
       "      <th>birth_date</th>\n",
       "      <th>donor_age</th>\n",
       "    </tr>\n",
       "  </thead>\n",
       "  <tbody>\n",
       "    <tr>\n",
       "      <th>0</th>\n",
       "      <td>00000</td>\n",
       "      <td>2013-11-03</td>\n",
       "      <td>1964</td>\n",
       "      <td>49</td>\n",
       "    </tr>\n",
       "    <tr>\n",
       "      <th>1</th>\n",
       "      <td>00000</td>\n",
       "      <td>2014-05-26</td>\n",
       "      <td>1964</td>\n",
       "      <td>50</td>\n",
       "    </tr>\n",
       "    <tr>\n",
       "      <th>2</th>\n",
       "      <td>00000</td>\n",
       "      <td>2015-01-25</td>\n",
       "      <td>1964</td>\n",
       "      <td>51</td>\n",
       "    </tr>\n",
       "    <tr>\n",
       "      <th>3</th>\n",
       "      <td>00000</td>\n",
       "      <td>2015-08-09</td>\n",
       "      <td>1964</td>\n",
       "      <td>51</td>\n",
       "    </tr>\n",
       "    <tr>\n",
       "      <th>4</th>\n",
       "      <td>00000</td>\n",
       "      <td>2016-03-10</td>\n",
       "      <td>1964</td>\n",
       "      <td>52</td>\n",
       "    </tr>\n",
       "    <tr>\n",
       "      <th>...</th>\n",
       "      <td>...</td>\n",
       "      <td>...</td>\n",
       "      <td>...</td>\n",
       "      <td>...</td>\n",
       "    </tr>\n",
       "    <tr>\n",
       "      <th>6249694</th>\n",
       "      <td>09qgv</td>\n",
       "      <td>2024-01-25</td>\n",
       "      <td>1984</td>\n",
       "      <td>40</td>\n",
       "    </tr>\n",
       "    <tr>\n",
       "      <th>6249698</th>\n",
       "      <td>09qgw</td>\n",
       "      <td>2024-01-25</td>\n",
       "      <td>1992</td>\n",
       "      <td>32</td>\n",
       "    </tr>\n",
       "    <tr>\n",
       "      <th>6249699</th>\n",
       "      <td>09qgx</td>\n",
       "      <td>2024-01-25</td>\n",
       "      <td>1997</td>\n",
       "      <td>27</td>\n",
       "    </tr>\n",
       "    <tr>\n",
       "      <th>6249703</th>\n",
       "      <td>09qgy</td>\n",
       "      <td>2024-01-25</td>\n",
       "      <td>1997</td>\n",
       "      <td>27</td>\n",
       "    </tr>\n",
       "    <tr>\n",
       "      <th>6249704</th>\n",
       "      <td>09qgz</td>\n",
       "      <td>2024-01-25</td>\n",
       "      <td>2002</td>\n",
       "      <td>22</td>\n",
       "    </tr>\n",
       "  </tbody>\n",
       "</table>\n",
       "<p>6249773 rows × 4 columns</p>\n",
       "</div>"
      ],
      "text/plain": [
       "        donor_id visit_date  birth_date  donor_age\n",
       "0          00000 2013-11-03        1964         49\n",
       "1          00000 2014-05-26        1964         50\n",
       "2          00000 2015-01-25        1964         51\n",
       "3          00000 2015-08-09        1964         51\n",
       "4          00000 2016-03-10        1964         52\n",
       "...          ...        ...         ...        ...\n",
       "6249694    09qgv 2024-01-25        1984         40\n",
       "6249698    09qgw 2024-01-25        1992         32\n",
       "6249699    09qgx 2024-01-25        1997         27\n",
       "6249703    09qgy 2024-01-25        1997         27\n",
       "6249704    09qgz 2024-01-25        2002         22\n",
       "\n",
       "[6249773 rows x 4 columns]"
      ]
     },
     "execution_count": 149,
     "metadata": {},
     "output_type": "execute_result"
    }
   ],
   "source": [
    "sort_gran['donor_age'] = sort_gran['visit_date'].dt.year-sort_gran['birth_date']\n",
    "sort_gran"
   ]
  },
  {
   "cell_type": "markdown",
   "metadata": {},
   "source": [
    "From the age of the donor, we discovered there might be a data entry problem as there are donor who are more thn 100 years old donating the blood.\n",
    "Thus we will make the rule to only take donor who are from 18 until 65 years old (the max age of eligible to become blood donors) cite from PPUM website.\n",
    "https://www.ummc.edu.my/pesakit/blood-CRITERIA.asp?kodBM=#:~:text=Age%3A,donor%3A%2018%2D65%20years%20old"
   ]
  },
  {
   "cell_type": "code",
   "execution_count": 150,
   "metadata": {},
   "outputs": [
    {
     "data": {
      "text/html": [
       "<div>\n",
       "<style scoped>\n",
       "    .dataframe tbody tr th:only-of-type {\n",
       "        vertical-align: middle;\n",
       "    }\n",
       "\n",
       "    .dataframe tbody tr th {\n",
       "        vertical-align: top;\n",
       "    }\n",
       "\n",
       "    .dataframe thead th {\n",
       "        text-align: right;\n",
       "    }\n",
       "</style>\n",
       "<table border=\"1\" class=\"dataframe\">\n",
       "  <thead>\n",
       "    <tr style=\"text-align: right;\">\n",
       "      <th></th>\n",
       "      <th>donor_id</th>\n",
       "      <th>visit_date</th>\n",
       "      <th>birth_date</th>\n",
       "      <th>donor_age</th>\n",
       "    </tr>\n",
       "  </thead>\n",
       "  <tbody>\n",
       "    <tr>\n",
       "      <th>0</th>\n",
       "      <td>00000</td>\n",
       "      <td>2013-11-03</td>\n",
       "      <td>1964</td>\n",
       "      <td>49</td>\n",
       "    </tr>\n",
       "    <tr>\n",
       "      <th>1</th>\n",
       "      <td>00000</td>\n",
       "      <td>2014-05-26</td>\n",
       "      <td>1964</td>\n",
       "      <td>50</td>\n",
       "    </tr>\n",
       "    <tr>\n",
       "      <th>2</th>\n",
       "      <td>00000</td>\n",
       "      <td>2015-01-25</td>\n",
       "      <td>1964</td>\n",
       "      <td>51</td>\n",
       "    </tr>\n",
       "    <tr>\n",
       "      <th>3</th>\n",
       "      <td>00000</td>\n",
       "      <td>2015-08-09</td>\n",
       "      <td>1964</td>\n",
       "      <td>51</td>\n",
       "    </tr>\n",
       "    <tr>\n",
       "      <th>4</th>\n",
       "      <td>00000</td>\n",
       "      <td>2016-03-10</td>\n",
       "      <td>1964</td>\n",
       "      <td>52</td>\n",
       "    </tr>\n",
       "    <tr>\n",
       "      <th>...</th>\n",
       "      <td>...</td>\n",
       "      <td>...</td>\n",
       "      <td>...</td>\n",
       "      <td>...</td>\n",
       "    </tr>\n",
       "    <tr>\n",
       "      <th>6249694</th>\n",
       "      <td>09qgv</td>\n",
       "      <td>2024-01-25</td>\n",
       "      <td>1984</td>\n",
       "      <td>40</td>\n",
       "    </tr>\n",
       "    <tr>\n",
       "      <th>6249698</th>\n",
       "      <td>09qgw</td>\n",
       "      <td>2024-01-25</td>\n",
       "      <td>1992</td>\n",
       "      <td>32</td>\n",
       "    </tr>\n",
       "    <tr>\n",
       "      <th>6249699</th>\n",
       "      <td>09qgx</td>\n",
       "      <td>2024-01-25</td>\n",
       "      <td>1997</td>\n",
       "      <td>27</td>\n",
       "    </tr>\n",
       "    <tr>\n",
       "      <th>6249703</th>\n",
       "      <td>09qgy</td>\n",
       "      <td>2024-01-25</td>\n",
       "      <td>1997</td>\n",
       "      <td>27</td>\n",
       "    </tr>\n",
       "    <tr>\n",
       "      <th>6249704</th>\n",
       "      <td>09qgz</td>\n",
       "      <td>2024-01-25</td>\n",
       "      <td>2002</td>\n",
       "      <td>22</td>\n",
       "    </tr>\n",
       "  </tbody>\n",
       "</table>\n",
       "<p>6248072 rows × 4 columns</p>\n",
       "</div>"
      ],
      "text/plain": [
       "        donor_id visit_date  birth_date  donor_age\n",
       "0          00000 2013-11-03        1964         49\n",
       "1          00000 2014-05-26        1964         50\n",
       "2          00000 2015-01-25        1964         51\n",
       "3          00000 2015-08-09        1964         51\n",
       "4          00000 2016-03-10        1964         52\n",
       "...          ...        ...         ...        ...\n",
       "6249694    09qgv 2024-01-25        1984         40\n",
       "6249698    09qgw 2024-01-25        1992         32\n",
       "6249699    09qgx 2024-01-25        1997         27\n",
       "6249703    09qgy 2024-01-25        1997         27\n",
       "6249704    09qgz 2024-01-25        2002         22\n",
       "\n",
       "[6248072 rows x 4 columns]"
      ]
     },
     "execution_count": 150,
     "metadata": {},
     "output_type": "execute_result"
    }
   ],
   "source": [
    "#filter the donor age less or equal to 65\n",
    "sort_gran_fil = sort_gran[sort_gran['donor_age']<=65]\n",
    "sort_gran_fil\n"
   ]
  },
  {
   "cell_type": "markdown",
   "metadata": {},
   "source": [
    "To show does Malaysia Retain their blood donater, by looking at the frequency of repeated number of donation.\n",
    "We generalize all type of donation into blood donation"
   ]
  },
  {
   "cell_type": "code",
   "execution_count": 151,
   "metadata": {},
   "outputs": [
    {
     "data": {
      "text/html": [
       "<div>\n",
       "<style scoped>\n",
       "    .dataframe tbody tr th:only-of-type {\n",
       "        vertical-align: middle;\n",
       "    }\n",
       "\n",
       "    .dataframe tbody tr th {\n",
       "        vertical-align: top;\n",
       "    }\n",
       "\n",
       "    .dataframe thead th {\n",
       "        text-align: right;\n",
       "    }\n",
       "</style>\n",
       "<table border=\"1\" class=\"dataframe\">\n",
       "  <thead>\n",
       "    <tr style=\"text-align: right;\">\n",
       "      <th></th>\n",
       "      <th>donor_id</th>\n",
       "      <th>donation_count</th>\n",
       "    </tr>\n",
       "  </thead>\n",
       "  <tbody>\n",
       "    <tr>\n",
       "      <th>0</th>\n",
       "      <td>00000</td>\n",
       "      <td>11</td>\n",
       "    </tr>\n",
       "    <tr>\n",
       "      <th>1</th>\n",
       "      <td>00001</td>\n",
       "      <td>4</td>\n",
       "    </tr>\n",
       "    <tr>\n",
       "      <th>2</th>\n",
       "      <td>00002</td>\n",
       "      <td>12</td>\n",
       "    </tr>\n",
       "    <tr>\n",
       "      <th>3</th>\n",
       "      <td>00003</td>\n",
       "      <td>5</td>\n",
       "    </tr>\n",
       "    <tr>\n",
       "      <th>4</th>\n",
       "      <td>00004</td>\n",
       "      <td>3</td>\n",
       "    </tr>\n",
       "    <tr>\n",
       "      <th>...</th>\n",
       "      <td>...</td>\n",
       "      <td>...</td>\n",
       "    </tr>\n",
       "    <tr>\n",
       "      <th>2245538</th>\n",
       "      <td>09qgv</td>\n",
       "      <td>1</td>\n",
       "    </tr>\n",
       "    <tr>\n",
       "      <th>2245539</th>\n",
       "      <td>09qgw</td>\n",
       "      <td>1</td>\n",
       "    </tr>\n",
       "    <tr>\n",
       "      <th>2245540</th>\n",
       "      <td>09qgx</td>\n",
       "      <td>1</td>\n",
       "    </tr>\n",
       "    <tr>\n",
       "      <th>2245541</th>\n",
       "      <td>09qgy</td>\n",
       "      <td>1</td>\n",
       "    </tr>\n",
       "    <tr>\n",
       "      <th>2245542</th>\n",
       "      <td>09qgz</td>\n",
       "      <td>1</td>\n",
       "    </tr>\n",
       "  </tbody>\n",
       "</table>\n",
       "<p>2245543 rows × 2 columns</p>\n",
       "</div>"
      ],
      "text/plain": [
       "        donor_id  donation_count\n",
       "0          00000              11\n",
       "1          00001               4\n",
       "2          00002              12\n",
       "3          00003               5\n",
       "4          00004               3\n",
       "...          ...             ...\n",
       "2245538    09qgv               1\n",
       "2245539    09qgw               1\n",
       "2245540    09qgx               1\n",
       "2245541    09qgy               1\n",
       "2245542    09qgz               1\n",
       "\n",
       "[2245543 rows x 2 columns]"
      ]
     },
     "execution_count": 151,
     "metadata": {},
     "output_type": "execute_result"
    }
   ],
   "source": [
    "#group by donor id to get the number of their donations\n",
    "donor_donations = sort_gran_fil.groupby('donor_id').size().reset_index(name='donation_count')\n",
    "donor_donations"
   ]
  },
  {
   "cell_type": "code",
   "execution_count": 152,
   "metadata": {},
   "outputs": [
    {
     "data": {
      "text/plain": [
       "<Axes: ylabel='Frequency'>"
      ]
     },
     "execution_count": 152,
     "metadata": {},
     "output_type": "execute_result"
    },
    {
     "data": {
      "image/png": "[encoded data removed]",
      "text/plain": [
       "<Figure size 640x480 with 1 Axes>"
      ]
     },
     "metadata": {},
     "output_type": "display_data"
    }
   ],
   "source": [
    "#Plot Histogram for the donation count to see the distribution\n",
    "donor_donations[donor_donations['donation_count']<=20].plot(kind='hist', bins=21)"
   ]
  },
  {
   "cell_type": "markdown",
   "metadata": {},
   "source": [
    "Since using histogram does not give much insights except there are a lot of people who are not a repeater for blood donation. Lets try using Pie Chart for two category one time donator and a repeater"
   ]
  },
  {
   "cell_type": "code",
   "execution_count": 153,
   "metadata": {},
   "outputs": [
    {
     "data": {
      "text/html": [
       "<div>\n",
       "<style scoped>\n",
       "    .dataframe tbody tr th:only-of-type {\n",
       "        vertical-align: middle;\n",
       "    }\n",
       "\n",
       "    .dataframe tbody tr th {\n",
       "        vertical-align: top;\n",
       "    }\n",
       "\n",
       "    .dataframe thead th {\n",
       "        text-align: right;\n",
       "    }\n",
       "</style>\n",
       "<table border=\"1\" class=\"dataframe\">\n",
       "  <thead>\n",
       "    <tr style=\"text-align: right;\">\n",
       "      <th></th>\n",
       "      <th>donor_id</th>\n",
       "      <th>donation_count</th>\n",
       "      <th>repeater</th>\n",
       "    </tr>\n",
       "  </thead>\n",
       "  <tbody>\n",
       "    <tr>\n",
       "      <th>0</th>\n",
       "      <td>00000</td>\n",
       "      <td>11</td>\n",
       "      <td>True</td>\n",
       "    </tr>\n",
       "    <tr>\n",
       "      <th>1</th>\n",
       "      <td>00001</td>\n",
       "      <td>4</td>\n",
       "      <td>True</td>\n",
       "    </tr>\n",
       "    <tr>\n",
       "      <th>2</th>\n",
       "      <td>00002</td>\n",
       "      <td>12</td>\n",
       "      <td>True</td>\n",
       "    </tr>\n",
       "    <tr>\n",
       "      <th>3</th>\n",
       "      <td>00003</td>\n",
       "      <td>5</td>\n",
       "      <td>True</td>\n",
       "    </tr>\n",
       "    <tr>\n",
       "      <th>4</th>\n",
       "      <td>00004</td>\n",
       "      <td>3</td>\n",
       "      <td>True</td>\n",
       "    </tr>\n",
       "    <tr>\n",
       "      <th>5</th>\n",
       "      <td>00005</td>\n",
       "      <td>9</td>\n",
       "      <td>True</td>\n",
       "    </tr>\n",
       "    <tr>\n",
       "      <th>6</th>\n",
       "      <td>00006</td>\n",
       "      <td>3</td>\n",
       "      <td>True</td>\n",
       "    </tr>\n",
       "    <tr>\n",
       "      <th>7</th>\n",
       "      <td>00007</td>\n",
       "      <td>15</td>\n",
       "      <td>True</td>\n",
       "    </tr>\n",
       "    <tr>\n",
       "      <th>8</th>\n",
       "      <td>00008</td>\n",
       "      <td>5</td>\n",
       "      <td>True</td>\n",
       "    </tr>\n",
       "    <tr>\n",
       "      <th>9</th>\n",
       "      <td>00009</td>\n",
       "      <td>19</td>\n",
       "      <td>True</td>\n",
       "    </tr>\n",
       "  </tbody>\n",
       "</table>\n",
       "</div>"
      ],
      "text/plain": [
       "  donor_id  donation_count  repeater\n",
       "0    00000              11      True\n",
       "1    00001               4      True\n",
       "2    00002              12      True\n",
       "3    00003               5      True\n",
       "4    00004               3      True\n",
       "5    00005               9      True\n",
       "6    00006               3      True\n",
       "7    00007              15      True\n",
       "8    00008               5      True\n",
       "9    00009              19      True"
      ]
     },
     "execution_count": 153,
     "metadata": {},
     "output_type": "execute_result"
    }
   ],
   "source": [
    "#group the donor into repeater or not\n",
    "repeater = []\n",
    "for idx,val in enumerate(donor_donations['donation_count']):\n",
    "    if val > 1:\n",
    "        repeater.append(True)\n",
    "    else:\n",
    "        repeater.append(False)\n",
    "donor_donations['repeater'] = repeater\n",
    "donor_donations.head(10)"
   ]
  },
  {
   "cell_type": "code",
   "execution_count": 154,
   "metadata": {},
   "outputs": [
    {
     "data": {
      "text/plain": [
       "([<matplotlib.patches.Wedge at 0x2a08a7a2690>,\n",
       "  <matplotlib.patches.Wedge at 0x2a08a7ca690>],\n",
       " [Text(0.21436225097295947, 3.2930303407891355, 'Repeater'),\n",
       "  Text(-0.2143619426572059, -3.293030360859163, 'One Time')],\n",
       " [Text(0.11692486416706878, 1.7961983677031643, '47.93%'),\n",
       "  Text(-0.11692469599483955, -1.7961983786504523, '52.07%')])"
      ]
     },
     "execution_count": 154,
     "metadata": {},
     "output_type": "execute_result"
    },
    {
     "data": {
      "image/png": "[encoded data removed]",
      "text/plain": [
       "<Figure size 640x480 with 1 Axes>"
      ]
     },
     "metadata": {},
     "output_type": "display_data"
    }
   ],
   "source": [
    "#Plot PieChart for repeater or not\n",
    "one_time_count = donor_donations[donor_donations['repeater']==False]['repeater'].count()\n",
    "repeater_count = donor_donations[donor_donations['repeater']==True]['repeater'].count()\n",
    "\n",
    "fig,ax= plt.subplots()\n",
    "label = ['Repeater','One Time']\n",
    "sizes = [repeater_count,one_time_count]\n",
    "ax.pie(sizes,labels=label,autopct='%1.2f%%',radius=3)\n"
   ]
  },
  {
   "cell_type": "code",
   "execution_count": 155,
   "metadata": {},
   "outputs": [],
   "source": [
    "#Banding the donation_count\n",
    "donor_donations[donor_donations['repeater']==True]['donation_count'].quantile(0.7)\n",
    "first_group = donor_donations[(donor_donations['donation_count']>=2)&(donor_donations['donation_count']<=3)]['donation_count'].count()\n",
    "second_group = donor_donations[(donor_donations['donation_count']>=4)&(donor_donations['donation_count']<=7)]['donation_count'].count()\n",
    "third_group = donor_donations[(donor_donations['donation_count']>=8)]['donation_count'].count()"
   ]
  },
  {
   "cell_type": "code",
   "execution_count": 156,
   "metadata": {},
   "outputs": [
    {
     "data": {
      "text/plain": [
       "([<matplotlib.patches.Wedge at 0x2a08a7fa690>,\n",
       "  <matplotlib.patches.Wedge at 0x2a08a80cd10>,\n",
       "  <matplotlib.patches.Wedge at 0x2a08a80e8d0>,\n",
       "  <matplotlib.patches.Wedge at 0x2a08a80df90>],\n",
       " [Text(2.1165799096404023, 2.5318154526162897, '2-3'),\n",
       "  Text(-1.8527567666347333, 2.7308043437216827, '4-7'),\n",
       "  Text(-3.1073664206598592, 1.1109788151695497, '8+'),\n",
       "  Text(-0.2143619426572059, -3.293030360859163, '1')],\n",
       " [Text(1.1544981325311283, 1.3809902468816124, '27.84%'),\n",
       "  Text(-1.0105945999825816, 1.4895296420300084, '13.30%'),\n",
       "  Text(-1.6949271385417413, 0.605988444637936, '6.79%'),\n",
       "  Text(-0.11692469599483955, -1.7961983786504523, '52.07%')])"
      ]
     },
     "execution_count": 156,
     "metadata": {},
     "output_type": "execute_result"
    },
    {
     "data": {
      "image/png": "[encoded data removed]",
      "text/plain": [
       "<Figure size 640x480 with 1 Axes>"
      ]
     },
     "metadata": {},
     "output_type": "display_data"
    }
   ],
   "source": [
    "#Pie Chart for the group of Repeater\n",
    "fig,ax= plt.subplots()\n",
    "label = ['2-3','4-7','8+','1']\n",
    "sizes = [first_group,second_group,third_group,one_time_count]\n",
    "ax.pie(sizes,labels=label,autopct='%1.2f%%',radius=3)"
   ]
  },
  {
   "cell_type": "code",
   "execution_count": 166,
   "metadata": {},
   "outputs": [
    {
     "data": {
      "text/plain": [
       "[None, None, None, None]"
      ]
     },
     "execution_count": 166,
     "metadata": {},
     "output_type": "execute_result"
    },
    {
     "data": {
      "image/png": "[encoded data removed]",
      "text/plain": [
       "<Figure size 1200x300 with 1 Axes>"
      ]
     },
     "metadata": {},
     "output_type": "display_data"
    }
   ],
   "source": [
    "#Plot a two level Pie Chart\n",
    "fig,ax = plt.subplots(figsize=(12,3))\n",
    "ax.axis('equal')\n",
    "width = 0.8\n",
    "\n",
    "plt.text(0, 4, 'Distribution of Blood Donor', horizontalalignment='center', verticalalignment='top', fontsize=20, weight='bold')\n",
    "\n",
    "#label and size for outer donut chart\n",
    "size_out = [first_group,second_group,third_group,one_time_count]\n",
    "label_out = ['2-3','4-7','8+','1']\n",
    "\n",
    "#label and size for inner donut chart\n",
    "label_in = ['Repeater','One Time']\n",
    "sizes_in = [repeater_count,one_time_count]\n",
    "\n",
    "# Calculate the total count for the calculation of percentages\n",
    "total_count = sum(size_out) + sum(sizes_in) - one_time_count  # Subtract one_time_count since it's included twice\n",
    "\n",
    "# Calculate the percentages for the outer ring\n",
    "percentages_out = [f\"{(size / total_count * 100):.1f}%\" for size in size_out]\n",
    "\n",
    "# Update labels for the outer ring with percentages\n",
    "label_out_with_perc = [f\"{label} ({perc})\" for label, perc in zip(label_out, percentages_out)]\n",
    "\n",
    "# Calculate the percentages for the inner ring\n",
    "percentages_in = [f\"{(size / total_count * 100):.1f}%\" for size in sizes_in]\n",
    "\n",
    "# Update labels for the inner ring with percentages\n",
    "label_in_with_perc = [f\"{label} ({perc})\" for label, perc in zip(label_in, percentages_in)]\n",
    "\n",
    "\n",
    "#Outer Ring (Donation Count Band)\n",
    "cm = plt.get_cmap(\"tab20c\")\n",
    "\n",
    "cout = cm(np.array([9,10,11,13]))\n",
    "pie, _ = ax.pie(size_out, radius=3, labels=label_out_with_perc, colors=cout)\n",
    "plt.setp(pie, width=width, edgecolor='white',)\n",
    "\n",
    "#Inner Ring (Repeater Or Not)\n",
    "cin = cm(np.array([8,12]))\n",
    "pie2, _ = ax.pie(sizes_in, radius=3-width, labels=label_in_with_perc,\n",
    "                 labeldistance=0.9, colors=cin,rotatelabels=0)\n",
    "plt.setp(pie2, width=width, edgecolor='white')"
   ]
  },
  {
   "cell_type": "markdown",
   "metadata": {},
   "source": [
    "This is a good for a summary report but its not suitable for daily report. I will add for daily data."
   ]
  },
  {
   "cell_type": "code",
   "execution_count": 158,
   "metadata": {},
   "outputs": [],
   "source": [
    "#Getting all latest date donor\n",
    "latest_date = max(sort_gran_fil['visit_date'])\n",
    "latest_donor = sort_gran_fil[sort_gran_fil['visit_date']==latest_date]\n"
   ]
  },
  {
   "cell_type": "code",
   "execution_count": 162,
   "metadata": {},
   "outputs": [
    {
     "data": {
      "text/html": [
       "<div>\n",
       "<style scoped>\n",
       "    .dataframe tbody tr th:only-of-type {\n",
       "        vertical-align: middle;\n",
       "    }\n",
       "\n",
       "    .dataframe tbody tr th {\n",
       "        vertical-align: top;\n",
       "    }\n",
       "\n",
       "    .dataframe thead th {\n",
       "        text-align: right;\n",
       "    }\n",
       "</style>\n",
       "<table border=\"1\" class=\"dataframe\">\n",
       "  <thead>\n",
       "    <tr style=\"text-align: right;\">\n",
       "      <th></th>\n",
       "      <th>donor_id</th>\n",
       "      <th>visit_date</th>\n",
       "      <th>birth_date</th>\n",
       "      <th>donor_age</th>\n",
       "      <th>donations_count</th>\n",
       "    </tr>\n",
       "  </thead>\n",
       "  <tbody>\n",
       "    <tr>\n",
       "      <th>0</th>\n",
       "      <td>000p3</td>\n",
       "      <td>2024-01-25</td>\n",
       "      <td>1989</td>\n",
       "      <td>35</td>\n",
       "      <td>3</td>\n",
       "    </tr>\n",
       "    <tr>\n",
       "      <th>1</th>\n",
       "      <td>000ro</td>\n",
       "      <td>2024-01-25</td>\n",
       "      <td>1983</td>\n",
       "      <td>41</td>\n",
       "      <td>13</td>\n",
       "    </tr>\n",
       "    <tr>\n",
       "      <th>2</th>\n",
       "      <td>002Cd</td>\n",
       "      <td>2024-01-25</td>\n",
       "      <td>1985</td>\n",
       "      <td>39</td>\n",
       "      <td>7</td>\n",
       "    </tr>\n",
       "    <tr>\n",
       "      <th>3</th>\n",
       "      <td>002R9</td>\n",
       "      <td>2024-01-25</td>\n",
       "      <td>1985</td>\n",
       "      <td>39</td>\n",
       "      <td>3</td>\n",
       "    </tr>\n",
       "    <tr>\n",
       "      <th>4</th>\n",
       "      <td>003Nf</td>\n",
       "      <td>2024-01-25</td>\n",
       "      <td>1981</td>\n",
       "      <td>43</td>\n",
       "      <td>3</td>\n",
       "    </tr>\n",
       "    <tr>\n",
       "      <th>5</th>\n",
       "      <td>003eo</td>\n",
       "      <td>2024-01-25</td>\n",
       "      <td>1996</td>\n",
       "      <td>28</td>\n",
       "      <td>3</td>\n",
       "    </tr>\n",
       "    <tr>\n",
       "      <th>6</th>\n",
       "      <td>005Hq</td>\n",
       "      <td>2024-01-25</td>\n",
       "      <td>1970</td>\n",
       "      <td>54</td>\n",
       "      <td>4</td>\n",
       "    </tr>\n",
       "    <tr>\n",
       "      <th>7</th>\n",
       "      <td>005Tb</td>\n",
       "      <td>2024-01-25</td>\n",
       "      <td>1975</td>\n",
       "      <td>49</td>\n",
       "      <td>3</td>\n",
       "    </tr>\n",
       "    <tr>\n",
       "      <th>8</th>\n",
       "      <td>005Vb</td>\n",
       "      <td>2024-01-25</td>\n",
       "      <td>1973</td>\n",
       "      <td>51</td>\n",
       "      <td>9</td>\n",
       "    </tr>\n",
       "    <tr>\n",
       "      <th>9</th>\n",
       "      <td>0067Q</td>\n",
       "      <td>2024-01-25</td>\n",
       "      <td>1988</td>\n",
       "      <td>36</td>\n",
       "      <td>4</td>\n",
       "    </tr>\n",
       "  </tbody>\n",
       "</table>\n",
       "</div>"
      ],
      "text/plain": [
       "  donor_id visit_date  birth_date  donor_age  donations_count\n",
       "0    000p3 2024-01-25        1989         35                3\n",
       "1    000ro 2024-01-25        1983         41               13\n",
       "2    002Cd 2024-01-25        1985         39                7\n",
       "3    002R9 2024-01-25        1985         39                3\n",
       "4    003Nf 2024-01-25        1981         43                3\n",
       "5    003eo 2024-01-25        1996         28                3\n",
       "6    005Hq 2024-01-25        1970         54                4\n",
       "7    005Tb 2024-01-25        1975         49                3\n",
       "8    005Vb 2024-01-25        1973         51                9\n",
       "9    0067Q 2024-01-25        1988         36                4"
      ]
     },
     "execution_count": 162,
     "metadata": {},
     "output_type": "execute_result"
    }
   ],
   "source": [
    "# Merge the two dataframes on 'donor_id'\n",
    "latest_donor = latest_donor.merge(donor_donations[['donor_id', 'donation_count']], on='donor_id', how='left')\n",
    "\n",
    "# Rename the 'donation_count' column to 'donations_count'\n",
    "latest_donor.rename(columns={'donation_count': 'donations_count'}, inplace=True)\n",
    "\n",
    "# Display the first 10 rows of the updated dataframe\n",
    "latest_donor.head(10)\n"
   ]
  },
  {
   "cell_type": "code",
   "execution_count": 163,
   "metadata": {},
   "outputs": [
    {
     "data": {
      "text/plain": [
       "697"
      ]
     },
     "execution_count": 163,
     "metadata": {},
     "output_type": "execute_result"
    }
   ],
   "source": [
    "latest_donor[latest_donor['donations_count']== 1]['donations_count'].count()"
   ]
  },
  {
   "cell_type": "code",
   "execution_count": 164,
   "metadata": {},
   "outputs": [
    {
     "data": {
      "text/plain": [
       "['New Donator', '2-3 Donations', '4-7 Donations', '8+ Donations']"
      ]
     },
     "execution_count": 164,
     "metadata": {},
     "output_type": "execute_result"
    }
   ],
   "source": [
    "#Banding the donation_count\n",
    "new_latest = latest_donor[latest_donor['donations_count']== 1]['donations_count'].count()\n",
    "first_group_latest = latest_donor[(latest_donor['donations_count']>= 2)&(latest_donor['donations_count']<=3)]['donations_count'].count()\n",
    "second_group_latest = latest_donor[(latest_donor['donations_count']>= 4)&(latest_donor['donations_count']<=7)]['donations_count'].count()\n",
    "third_group_latest = latest_donor[(latest_donor['donations_count']>=8)]['donations_count'].count()\n",
    "\n",
    "values = [new_latest,first_group_latest,second_group_latest,third_group_latest]\n",
    "values\n",
    "labels_latest = ['New Donator','2-3 Donations','4-7 Donations','8+ Donations']\n",
    "labels_latest\n"
   ]
  },
  {
   "cell_type": "code",
   "execution_count": 179,
   "metadata": {},
   "outputs": [
    {
     "data": {
      "text/plain": [
       "Text(0, 0.5, 'Group of Donators Based on Frequency')"
      ]
     },
     "execution_count": 179,
     "metadata": {},
     "output_type": "execute_result"
    },
    {
     "data": {
      "image/png": "[encoded data removed]",
      "text/plain": [
       "<Figure size 1400x800 with 1 Axes>"
      ]
     },
     "metadata": {},
     "output_type": "display_data"
    }
   ],
   "source": [
    "#plot Horizontal Bar for the latest donations frequency\n",
    "fig,ax = plt.subplots(figsize=(14,8))\n",
    "plt.barh(labels_latest,values),\n",
    "\n",
    "plt.title('Yesterday Blood Donor Distribution',weight = 'bold',fontsize = 'xx-large')\n",
    "ax.set_frame_on(False)\n",
    "plt.xlabel('Frequency of Donor')\n",
    "plt.ylabel('Group of Donators Based on Frequency')"
   ]
  },
  {
   "cell_type": "code",
   "execution_count": null,
   "metadata": {},
   "outputs": [],
   "source": [
    "#Banding the age to Age Group with the newdonors csv file as reference\n",
    "\n"
   ]
  }
 ],
 "metadata": {
  "kernelspec": {
   "display_name": "datapipe",
   "language": "python",
   "name": "python3"
  },
  "language_info": {
   "codemirror_mode": {
    "name": "ipython",
    "version": 3
   },
   "file_extension": ".py",
   "mimetype": "text/x-python",
   "name": "python",
   "nbconvert_exporter": "python",
   "pygments_lexer": "ipython3",
   "version": "3.11.7"
  }
 },
 "nbformat": 4,
 "nbformat_minor": 2
}
