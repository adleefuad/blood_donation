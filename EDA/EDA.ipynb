{
 "cells": [
  {
   "cell_type": "code",
   "execution_count": 16,
   "metadata": {},
   "outputs": [],
   "source": [
    "import git\n",
    "import os\n",
    "import requests\n",
    "\n",
    "import pandas as pd \n",
    "import numpy as np \n",
    "import pyarrow.parquet as pq\n",
    "import dataviz as dv "
   ]
  },
  {
   "cell_type": "code",
   "execution_count": 6,
   "metadata": {},
   "outputs": [],
   "source": [
    "#Download the Aggregate Data\n",
    "repo_url = 'https://github.com/MoH-Malaysia/data-darah-public'\n",
    "clone_dir = r'C:\\Users\\adli\\Desktop\\Work\\Thevesh\\Assignment\\blood_donation\\data_aggregate'\n",
    "repo = git.Repo.clone_from(repo_url, clone_dir)"
   ]
  },
  {
   "cell_type": "code",
   "execution_count": 27,
   "metadata": {},
   "outputs": [],
   "source": [
    "#Download the Granular Data\n",
    "gran_url = 'https://dub.sh/ds-data-granular'\n",
    "download_folder = r'C:\\Users\\adli\\Desktop\\Work\\Thevesh\\Assignment\\blood_donation\\data_granular'\n",
    "filename = 'gran_data.parquet'\n",
    "file_path = os.path.join(download_folder, filename)\n"
   ]
  },
  {
   "cell_type": "code",
   "execution_count": 19,
   "metadata": {},
   "outputs": [],
   "source": [
    "response = requests.get(gran_url)"
   ]
  },
  {
   "cell_type": "code",
   "execution_count": 20,
   "metadata": {},
   "outputs": [
    {
     "data": {
      "text/plain": [
       "200"
      ]
     },
     "execution_count": 20,
     "metadata": {},
     "output_type": "execute_result"
    }
   ],
   "source": [
    "response.status_code #check the response status, if 200 then succeed"
   ]
  },
  {
   "cell_type": "code",
   "execution_count": 21,
   "metadata": {},
   "outputs": [],
   "source": [
    "with open(file_path, 'wb') as file:\n",
    "        file.write(response.content)"
   ]
  },
  {
   "cell_type": "code",
   "execution_count": 29,
   "metadata": {},
   "outputs": [],
   "source": [
    "table = pq.read_table(file_path)\n",
    "gran_df = table.to_pandas()"
   ]
  },
  {
   "cell_type": "code",
   "execution_count": 30,
   "metadata": {},
   "outputs": [
    {
     "data": {
      "text/html": [
       "<div>\n",
       "<style scoped>\n",
       "    .dataframe tbody tr th:only-of-type {\n",
       "        vertical-align: middle;\n",
       "    }\n",
       "\n",
       "    .dataframe tbody tr th {\n",
       "        vertical-align: top;\n",
       "    }\n",
       "\n",
       "    .dataframe thead th {\n",
       "        text-align: right;\n",
       "    }\n",
       "</style>\n",
       "<table border=\"1\" class=\"dataframe\">\n",
       "  <thead>\n",
       "    <tr style=\"text-align: right;\">\n",
       "      <th></th>\n",
       "      <th>donor_id</th>\n",
       "      <th>visit_date</th>\n",
       "      <th>birth_date</th>\n",
       "    </tr>\n",
       "  </thead>\n",
       "  <tbody>\n",
       "    <tr>\n",
       "      <th>0</th>\n",
       "      <td>00000</td>\n",
       "      <td>2013-11-03</td>\n",
       "      <td>1964</td>\n",
       "    </tr>\n",
       "    <tr>\n",
       "      <th>1</th>\n",
       "      <td>00000</td>\n",
       "      <td>2014-05-26</td>\n",
       "      <td>1964</td>\n",
       "    </tr>\n",
       "    <tr>\n",
       "      <th>2</th>\n",
       "      <td>00000</td>\n",
       "      <td>2015-01-25</td>\n",
       "      <td>1964</td>\n",
       "    </tr>\n",
       "    <tr>\n",
       "      <th>3</th>\n",
       "      <td>00000</td>\n",
       "      <td>2015-08-09</td>\n",
       "      <td>1964</td>\n",
       "    </tr>\n",
       "    <tr>\n",
       "      <th>4</th>\n",
       "      <td>00000</td>\n",
       "      <td>2016-03-10</td>\n",
       "      <td>1964</td>\n",
       "    </tr>\n",
       "    <tr>\n",
       "      <th>...</th>\n",
       "      <td>...</td>\n",
       "      <td>...</td>\n",
       "      <td>...</td>\n",
       "    </tr>\n",
       "    <tr>\n",
       "      <th>6231779</th>\n",
       "      <td>01fCa</td>\n",
       "      <td>2024-01-14</td>\n",
       "      <td>1983</td>\n",
       "    </tr>\n",
       "    <tr>\n",
       "      <th>6231780</th>\n",
       "      <td>08JUV</td>\n",
       "      <td>2024-01-14</td>\n",
       "      <td>1976</td>\n",
       "    </tr>\n",
       "    <tr>\n",
       "      <th>6231781</th>\n",
       "      <td>00Rtd</td>\n",
       "      <td>2024-01-14</td>\n",
       "      <td>1989</td>\n",
       "    </tr>\n",
       "    <tr>\n",
       "      <th>6231782</th>\n",
       "      <td>00UdI</td>\n",
       "      <td>2024-01-14</td>\n",
       "      <td>1981</td>\n",
       "    </tr>\n",
       "    <tr>\n",
       "      <th>6231783</th>\n",
       "      <td>01YiB</td>\n",
       "      <td>2024-01-14</td>\n",
       "      <td>1998</td>\n",
       "    </tr>\n",
       "  </tbody>\n",
       "</table>\n",
       "<p>6231784 rows × 3 columns</p>\n",
       "</div>"
      ],
      "text/plain": [
       "        donor_id  visit_date  birth_date\n",
       "0          00000  2013-11-03        1964\n",
       "1          00000  2014-05-26        1964\n",
       "2          00000  2015-01-25        1964\n",
       "3          00000  2015-08-09        1964\n",
       "4          00000  2016-03-10        1964\n",
       "...          ...         ...         ...\n",
       "6231779    01fCa  2024-01-14        1983\n",
       "6231780    08JUV  2024-01-14        1976\n",
       "6231781    00Rtd  2024-01-14        1989\n",
       "6231782    00UdI  2024-01-14        1981\n",
       "6231783    01YiB  2024-01-14        1998\n",
       "\n",
       "[6231784 rows x 3 columns]"
      ]
     },
     "execution_count": 30,
     "metadata": {},
     "output_type": "execute_result"
    }
   ],
   "source": [
    "gran_df"
   ]
  },
  {
   "cell_type": "code",
   "execution_count": null,
   "metadata": {},
   "outputs": [],
   "source": []
  }
 ],
 "metadata": {
  "kernelspec": {
   "display_name": "datapipe",
   "language": "python",
   "name": "python3"
  },
  "language_info": {
   "codemirror_mode": {
    "name": "ipython",
    "version": 3
   },
   "file_extension": ".py",
   "mimetype": "text/x-python",
   "name": "python",
   "nbconvert_exporter": "python",
   "pygments_lexer": "ipython3",
   "version": "3.11.7"
  }
 },
 "nbformat": 4,
 "nbformat_minor": 2
}
